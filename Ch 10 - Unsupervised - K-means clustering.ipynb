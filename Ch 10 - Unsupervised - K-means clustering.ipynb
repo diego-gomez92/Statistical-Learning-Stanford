{
 "cells": [
  {
   "cell_type": "markdown",
   "metadata": {},
   "source": [
    "### K-Means Clustering \n",
    "\n",
    "K-means works in any dimension, but is most fun to demonstrate in two, because we can plot pictures.\n",
    "\n",
    "Lets make some (fake) data with clusters. We do this by shifting the means of the points around. "
   ]
  },
  {
   "cell_type": "code",
   "execution_count": 4,
   "metadata": {},
   "outputs": [],
   "source": [
    "?rnorm"
   ]
  },
  {
   "cell_type": "markdown",
   "metadata": {},
   "source": [
    ". x == 200 values (n=200), 2 columns, 100 rows\n",
    "\n",
    ". xmean == 4 rows, 2 columns, with n = 8, sd=4 (4 clusters)"
   ]
  },
  {
   "cell_type": "code",
   "execution_count": 73,
   "metadata": {},
   "outputs": [],
   "source": [
    "#random normal matrices\n",
    "\n",
    "set.seed(101)\n",
    "\n",
    "#rnorm(n, mean = 0, sd = 1)\n",
    "x<-matrix(rnorm(100*2), 100, 2)\n",
    "\n",
    "#4 clusters; high sd means shift mean around\n",
    "#each with 2 means\n",
    "#4 rows, 2 columns\n",
    "xmean<-matrix(rnorm(8, sd=4), 4, 2)"
   ]
  },
  {
   "cell_type": "code",
   "execution_count": 28,
   "metadata": {},
   "outputs": [
    {
     "data": {
      "text/html": [
       "<table>\n",
       "<caption>A matrix: 6 × 2 of type dbl</caption>\n",
       "<tbody>\n",
       "\t<tr><td>  3.0620536</td><td>-0.54152249</td></tr>\n",
       "\t<tr><td>-10.5137387</td><td> 6.56392584</td></tr>\n",
       "\t<tr><td> -6.9988551</td><td> 4.51046691</td></tr>\n",
       "\t<tr><td>  3.6024496</td><td> 0.36316034</td></tr>\n",
       "\t<tr><td>  3.6988593</td><td>-0.06282734</td></tr>\n",
       "\t<tr><td> -0.1382925</td><td> 9.44889010</td></tr>\n",
       "</tbody>\n",
       "</table>\n"
      ],
      "text/latex": [
       "A matrix: 6 × 2 of type dbl\n",
       "\\begin{tabular}{ll}\n",
       "\t   3.0620536 & -0.54152249\\\\\n",
       "\t -10.5137387 &  6.56392584\\\\\n",
       "\t  -6.9988551 &  4.51046691\\\\\n",
       "\t   3.6024496 &  0.36316034\\\\\n",
       "\t   3.6988593 & -0.06282734\\\\\n",
       "\t  -0.1382925 &  9.44889010\\\\\n",
       "\\end{tabular}\n"
      ],
      "text/markdown": [
       "\n",
       "A matrix: 6 × 2 of type dbl\n",
       "\n",
       "|   3.0620536 | -0.54152249 |\n",
       "| -10.5137387 |  6.56392584 |\n",
       "|  -6.9988551 |  4.51046691 |\n",
       "|   3.6024496 |  0.36316034 |\n",
       "|   3.6988593 | -0.06282734 |\n",
       "|  -0.1382925 |  9.44889010 |\n",
       "\n"
      ],
      "text/plain": [
       "     [,1]        [,2]       \n",
       "[1,]   3.0620536 -0.54152249\n",
       "[2,] -10.5137387  6.56392584\n",
       "[3,]  -6.9988551  4.51046691\n",
       "[4,]   3.6024496  0.36316034\n",
       "[5,]   3.6988593 -0.06282734\n",
       "[6,]  -0.1382925  9.44889010"
      ]
     },
     "metadata": {},
     "output_type": "display_data"
    }
   ],
   "source": [
    "head(x)"
   ]
  },
  {
   "cell_type": "code",
   "execution_count": 93,
   "metadata": {},
   "outputs": [],
   "source": [
    "#tail(x)"
   ]
  },
  {
   "cell_type": "code",
   "execution_count": 34,
   "metadata": {},
   "outputs": [],
   "source": [
    "#length(x)"
   ]
  },
  {
   "cell_type": "code",
   "execution_count": 95,
   "metadata": {},
   "outputs": [],
   "source": [
    "#sd == 3\n",
    "\n",
    "# mean(x)\n",
    "# sd(x)"
   ]
  },
  {
   "cell_type": "code",
   "execution_count": 88,
   "metadata": {},
   "outputs": [
    {
     "data": {
      "text/html": [
       "<table>\n",
       "<caption>A matrix: 4 × 2 of type dbl</caption>\n",
       "<tbody>\n",
       "\t<tr><td>-0.6561294</td><td> 4.8396994</td></tr>\n",
       "\t<tr><td>-5.5331003</td><td> 3.5780671</td></tr>\n",
       "\t<tr><td> 1.6940451</td><td>-0.4047942</td></tr>\n",
       "\t<tr><td>-3.1619556</td><td> 1.1884903</td></tr>\n",
       "</tbody>\n",
       "</table>\n"
      ],
      "text/latex": [
       "A matrix: 4 × 2 of type dbl\n",
       "\\begin{tabular}{ll}\n",
       "\t -0.6561294 &  4.8396994\\\\\n",
       "\t -5.5331003 &  3.5780671\\\\\n",
       "\t  1.6940451 & -0.4047942\\\\\n",
       "\t -3.1619556 &  1.1884903\\\\\n",
       "\\end{tabular}\n"
      ],
      "text/markdown": [
       "\n",
       "A matrix: 4 × 2 of type dbl\n",
       "\n",
       "| -0.6561294 |  4.8396994 |\n",
       "| -5.5331003 |  3.5780671 |\n",
       "|  1.6940451 | -0.4047942 |\n",
       "| -3.1619556 |  1.1884903 |\n",
       "\n"
      ],
      "text/plain": [
       "     [,1]       [,2]      \n",
       "[1,] -0.6561294  4.8396994\n",
       "[2,] -5.5331003  3.5780671\n",
       "[3,]  1.6940451 -0.4047942\n",
       "[4,] -3.1619556  1.1884903"
      ]
     },
     "metadata": {},
     "output_type": "display_data"
    }
   ],
   "source": [
    "xmean"
   ]
  },
  {
   "cell_type": "markdown",
   "metadata": {},
   "source": [
    "Decide which rows get which means (cluster). \n",
    "\n",
    "So I'm going to pick a random sample from the\n",
    "numbers 1 to 4.\n",
    "I want 100 of them because I've got 100 rows.\n",
    "And replace equals true.\n",
    "So which is going to say which observation\n",
    "belongs to which cluster."
   ]
  },
  {
   "cell_type": "code",
   "execution_count": 16,
   "metadata": {},
   "outputs": [],
   "source": [
    "#sample takes a sample of the specified size from the elements of x using either with or without replacement.\n",
    "#?sample"
   ]
  },
  {
   "cell_type": "code",
   "execution_count": 89,
   "metadata": {},
   "outputs": [],
   "source": [
    "which<- sample(1:4, 100, replace=TRUE)"
   ]
  },
  {
   "cell_type": "code",
   "execution_count": 21,
   "metadata": {},
   "outputs": [],
   "source": [
    "#1 through 4 randomly, 100 times, with replacement\n",
    "#which"
   ]
  },
  {
   "cell_type": "markdown",
   "metadata": {},
   "source": [
    "So now I'll simply add the appropriate mean to the\n",
    "appropriate rows.\n",
    "So this is a kind of typical r vector operation that's nice\n",
    "and tricky, and effective.\n",
    "\n",
    "So xmean is a 4-row matrix, but I'm\n",
    "indexing it with 100 indices.\n",
    "So that will produce 100-row matrix with 2 columns.\n",
    "So it'll pick out the right mean for each row, and I'll\n",
    "just add it to the original x.\n",
    "\n"
   ]
  },
  {
   "cell_type": "code",
   "execution_count": 90,
   "metadata": {},
   "outputs": [
    {
     "data": {
      "text/html": [
       "<table>\n",
       "<caption>A matrix: 6 × 2 of type dbl</caption>\n",
       "<tbody>\n",
       "\t<tr><td>-5.8591367</td><td>3.846133</td></tr>\n",
       "\t<tr><td>-2.6094938</td><td>0.596282</td></tr>\n",
       "\t<tr><td>-1.3310733</td><td>6.973186</td></tr>\n",
       "\t<tr><td>-5.3187408</td><td>4.750816</td></tr>\n",
       "\t<tr><td>-2.8511864</td><td>1.935251</td></tr>\n",
       "\t<tr><td> 0.5178369</td><td>4.609191</td></tr>\n",
       "</tbody>\n",
       "</table>\n"
      ],
      "text/latex": [
       "A matrix: 6 × 2 of type dbl\n",
       "\\begin{tabular}{ll}\n",
       "\t -5.8591367 & 3.846133\\\\\n",
       "\t -2.6094938 & 0.596282\\\\\n",
       "\t -1.3310733 & 6.973186\\\\\n",
       "\t -5.3187408 & 4.750816\\\\\n",
       "\t -2.8511864 & 1.935251\\\\\n",
       "\t  0.5178369 & 4.609191\\\\\n",
       "\\end{tabular}\n"
      ],
      "text/markdown": [
       "\n",
       "A matrix: 6 × 2 of type dbl\n",
       "\n",
       "| -5.8591367 | 3.846133 |\n",
       "| -2.6094938 | 0.596282 |\n",
       "| -1.3310733 | 6.973186 |\n",
       "| -5.3187408 | 4.750816 |\n",
       "| -2.8511864 | 1.935251 |\n",
       "|  0.5178369 | 4.609191 |\n",
       "\n"
      ],
      "text/plain": [
       "     [,1]       [,2]    \n",
       "[1,] -5.8591367 3.846133\n",
       "[2,] -2.6094938 0.596282\n",
       "[3,] -1.3310733 6.973186\n",
       "[4,] -5.3187408 4.750816\n",
       "[5,] -2.8511864 1.935251\n",
       "[6,]  0.5178369 4.609191"
      ]
     },
     "metadata": {},
     "output_type": "display_data"
    }
   ],
   "source": [
    "#add indexed row values from xmean to x values\n",
    "x<- x+xmean[which,]\n",
    "head(x)"
   ]
  },
  {
   "cell_type": "code",
   "execution_count": 91,
   "metadata": {},
   "outputs": [
    {
     "data": {
      "image/png": "[encoded data removed]",
      "text/plain": [
       "plot without title"
      ]
     },
     "metadata": {
      "image/png": {
       "height": 420,
       "width": 420
      },
      "text/plain": {
       "height": 420,
       "width": 420
      }
     },
     "output_type": "display_data"
    }
   ],
   "source": [
    "#which is used for coler, 1 through 4\n",
    "plot(x,col=which,pch=19)"
   ]
  },
  {
   "cell_type": "markdown",
   "metadata": {},
   "source": [
    "We know the \"true\" cluster IDs, but we wont tell that to the 'kmeans' algorithm."
   ]
  },
  {
   "cell_type": "markdown",
   "metadata": {},
   "source": [
    "And we use the K-means algorithm.\n",
    "We're going to tell it there are 4 clusters here.\n",
    "\n",
    "We call K-means, and we tell it 4 clusters.\n",
    "And we tell it to do 15 random starts.\n",
    "Random starts are cheap.\n",
    "If you remember, K-means clustering starts with a\n",
    "random start for where the clusters are.\n",
    "And of course, if you pick a bad random start, it might\n",
    "find you a bad solution.\n",
    "Unlikely, in this case, but that's what we do anyway.\n",
    "\n",
    "1. It prints out the cluster means.\n",
    "There's going to be 4 of them, because there are 4 clusters.\n",
    "\n",
    "2. The cluster vector, that's the assignment of each point to\n",
    "the clusters that it found.\n",
    "\n",
    "3. And then there's some summaries of the cluster.\n",
    "So within clusters, sum of squares, by cluster.\n",
    "There are 4 clusters, so that's the sum of squares\n",
    "within each cluster.\n",
    "That sum of squares deviations of each point around its\n",
    "cluster mean.\n",
    "\n",
    "4. And then, and this is perhaps more interesting, the between\n",
    "sum of squares to the total sum of squares.\n",
    "So in a sense, this Is like the r-squared for clustering.\n",
    "It's a percent of variance explained\n",
    "by the cluster means.\n",
    "And that's pretty high, so it suggests it's done a good job.\n",
    "And then it tells us what the other components on the\n",
    "cluster object are."
   ]
  },
  {
   "cell_type": "code",
   "execution_count": 96,
   "metadata": {},
   "outputs": [
    {
     "data": {
      "text/plain": [
       "K-means clustering with 4 clusters of sizes 32, 28, 20, 20\n",
       "\n",
       "Cluster means:\n",
       "        [,1]       [,2]\n",
       "1 -0.5787702  4.7639233\n",
       "2 -5.6518323  3.3513316\n",
       "3  1.4989983 -0.2412154\n",
       "4 -3.1104142  1.2535711\n",
       "\n",
       "Clustering vector:\n",
       "  [1] 2 4 1 2 4 1 2 4 1 1 3 1 1 3 4 3 2 3 2 2 2 2 2 3 1 1 4 2 4 1 2 3 2 4 4 3 3\n",
       " [38] 4 3 3 2 4 4 2 2 3 2 1 2 4 2 1 1 3 3 4 3 1 1 1 4 2 2 2 4 4 1 1 3 2 2 1 1 3\n",
       " [75] 1 3 2 1 1 1 4 1 4 1 2 3 1 2 2 1 1 4 2 4 1 1 3 3 1 1\n",
       "\n",
       "Within cluster sum of squares by cluster:\n",
       "[1] 53.04203 42.40322 34.95921 48.52107\n",
       " (between_SS / total_SS =  85.7 %)\n",
       "\n",
       "Available components:\n",
       "\n",
       "[1] \"cluster\"      \"centers\"      \"totss\"        \"withinss\"     \"tot.withinss\"\n",
       "[6] \"betweenss\"    \"size\"         \"iter\"         \"ifault\"      "
      ]
     },
     "metadata": {},
     "output_type": "display_data"
    }
   ],
   "source": [
    "#put  in x values (which is now seperated by x means)\n",
    "km.out<-kmeans(x,4,nstart=15)\n",
    "km.out"
   ]
  },
  {
   "cell_type": "code",
   "execution_count": 97,
   "metadata": {},
   "outputs": [
    {
     "data": {
      "image/png": "[encoded data removed]",
      "text/plain": [
       "plot without title"
      ]
     },
     "metadata": {
      "image/png": {
       "height": 420,
       "width": 420
      },
      "text/plain": {
       "height": 420,
       "width": 420
      }
     },
     "output_type": "display_data"
    }
   ],
   "source": [
    "plot(x, col=km.out$cluster, cex=2,pch=1,lwd=2)"
   ]
  },
  {
   "cell_type": "code",
   "execution_count": 98,
   "metadata": {},
   "outputs": [
    {
     "data": {
      "image/png": "[encoded data removed]",
      "text/plain": [
       "plot without title"
      ]
     },
     "metadata": {
      "image/png": {
       "height": 420,
       "width": 420
      },
      "text/plain": {
       "height": 420,
       "width": 420
      }
     },
     "output_type": "display_data"
    }
   ],
   "source": [
    "#should be a mismatch in color but not the case\n",
    "#ordering of numbers should be differnet between kemans and which\n",
    "plot(x, col=km.out$cluster, cex=2,pch=1,lwd=2)\n",
    "points(x,col=which,pch=19)"
   ]
  },
  {
   "cell_type": "code",
   "execution_count": 101,
   "metadata": {},
   "outputs": [
    {
     "data": {
      "image/png": "[encoded data removed]",
      "text/plain": [
       "plot without title"
      ]
     },
     "metadata": {
      "image/png": {
       "height": 420,
       "width": 420
      },
      "text/plain": {
       "height": 420,
       "width": 420
      }
     },
     "output_type": "display_data"
    }
   ],
   "source": [
    "#now it is a mismatch \n",
    "plot(x, col=km.out$cluster, cex=2,pch=1,lwd=2)\n",
    "points(x,col=which,pch=19)\n",
    "#reassign colors\n",
    "points(x,col=c(4,3,2,1)[which],pch=19)"
   ]
  }
 ],
 "metadata": {
  "kernelspec": {
   "display_name": "R",
   "language": "R",
   "name": "ir"
  },
  "language_info": {
   "codemirror_mode": "r",
   "file_extension": ".r",
   "mimetype": "text/x-r-source",
   "name": "R",
   "pygments_lexer": "r",
   "version": "3.6.2"
  }
 },
 "nbformat": 4,
 "nbformat_minor": 2
}
