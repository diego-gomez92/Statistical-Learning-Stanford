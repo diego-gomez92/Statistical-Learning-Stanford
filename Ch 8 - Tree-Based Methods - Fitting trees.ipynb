{
 "cells": [
  {
   "cell_type": "markdown",
   "metadata": {},
   "source": [
    "### Decision Trees\n",
    "\n",
    "'Carseats' data using the 'tree' package in R (like lab in the book)\n",
    "\n",
    "We create a binary response variable 'High' (for high scales), and we include it in the same df."
   ]
  },
  {
   "cell_type": "code",
   "execution_count": 3,
   "metadata": {},
   "outputs": [
    {
     "name": "stderr",
     "output_type": "stream",
     "text": [
      "Installing package into 'C:/Users/Diego/Documents/R/win-library/3.6'\n",
      "(as 'lib' is unspecified)\n",
      "\n"
     ]
    },
    {
     "name": "stdout",
     "output_type": "stream",
     "text": [
      "package 'tree' successfully unpacked and MD5 sums checked\n",
      "\n",
      "The downloaded binary packages are in\n",
      "\tC:\\Users\\Diego\\AppData\\Local\\Temp\\RtmpmCAZu5\\downloaded_packages\n"
     ]
    }
   ],
   "source": [
    "install.packages('tree')"
   ]
  },
  {
   "cell_type": "code",
   "execution_count": 4,
   "metadata": {},
   "outputs": [
    {
     "name": "stderr",
     "output_type": "stream",
     "text": [
      "Loading required package: tree\n",
      "\n",
      "Warning message:\n",
      "\"package 'tree' was built under R version 3.6.3\"\n",
      "The following objects are masked from Carseats (pos = 4):\n",
      "\n",
      "    Advertising, Age, CompPrice, Education, Income, Population, Price,\n",
      "    Sales, ShelveLoc, Urban, US\n",
      "\n",
      "\n"
     ]
    }
   ],
   "source": [
    "require(ISLR)\n",
    "require(tree)\n",
    "attach(Carseats)"
   ]
  },
  {
   "cell_type": "code",
   "execution_count": 14,
   "metadata": {},
   "outputs": [],
   "source": [
    "#hist(Sales)"
   ]
  },
  {
   "cell_type": "code",
   "execution_count": 10,
   "metadata": {},
   "outputs": [
    {
     "data": {
      "text/html": [
       "7.496325"
      ],
      "text/latex": [
       "7.496325"
      ],
      "text/markdown": [
       "7.496325"
      ],
      "text/plain": [
       "[1] 7.496325"
      ]
     },
     "metadata": {},
     "output_type": "display_data"
    }
   ],
   "source": [
    "mean(Sales)"
   ]
  },
  {
   "cell_type": "markdown",
   "metadata": {},
   "source": [
    "Trees w/ binary variable\n",
    "\n",
    "create BINARY variable ('HIgh')"
   ]
  },
  {
   "cell_type": "code",
   "execution_count": 9,
   "metadata": {},
   "outputs": [],
   "source": [
    "#if Sales less than 8, not high, else it is high\n",
    "High<-ifelse(Sales<=8,'No','Yes')\n",
    "#High"
   ]
  },
  {
   "cell_type": "markdown",
   "metadata": {},
   "source": [
    "Put 'High' into data frame Carseats"
   ]
  },
  {
   "cell_type": "code",
   "execution_count": 11,
   "metadata": {},
   "outputs": [],
   "source": [
    "Carseats=data.frame(Carseats, High)"
   ]
  },
  {
   "cell_type": "code",
   "execution_count": 26,
   "metadata": {},
   "outputs": [],
   "source": [
    "#head(Carseats)"
   ]
  },
  {
   "cell_type": "code",
   "execution_count": 28,
   "metadata": {},
   "outputs": [],
   "source": [
    "#names(Carseats)"
   ]
  },
  {
   "cell_type": "markdown",
   "metadata": {},
   "source": [
    "Now we will FIT a TREE to these data, SUMMARIZE, and PLOT it\n",
    "\n",
    "Notice we _exclude_ 'Sales' ftom right-hand side of the formula, b/c the response is derived from it"
   ]
  },
  {
   "cell_type": "code",
   "execution_count": 18,
   "metadata": {},
   "outputs": [],
   "source": [
    "#our response is High not Sales\n",
    "#model== everything except Sales (-)\n",
    "tree.carseats<-tree(High~.-Sales,data=Carseats)"
   ]
  },
  {
   "cell_type": "markdown",
   "metadata": {},
   "source": [
    "We can see the variables that we involved, number of terminal nodes (27), residual mean deviance (.4575), which in this case is it's a binary response, so it's a binomial deviance."
   ]
  },
  {
   "cell_type": "code",
   "execution_count": 19,
   "metadata": {},
   "outputs": [
    {
     "data": {
      "text/plain": [
       "\n",
       "Classification tree:\n",
       "tree(formula = High ~ . - Sales, data = Carseats)\n",
       "Variables actually used in tree construction:\n",
       "[1] \"ShelveLoc\"   \"Price\"       \"Income\"      \"CompPrice\"   \"Population\" \n",
       "[6] \"Advertising\" \"Age\"         \"US\"         \n",
       "Number of terminal nodes:  27 \n",
       "Residual mean deviance:  0.4575 = 170.7 / 373 \n",
       "Misclassification error rate: 0.09 = 36 / 400 "
      ]
     },
     "metadata": {},
     "output_type": "display_data"
    }
   ],
   "source": [
    "summary(tree.carseats)"
   ]
  },
  {
   "cell_type": "code",
   "execution_count": 24,
   "metadata": {},
   "outputs": [],
   "source": [
    "#plot(tree.carseats)"
   ]
  },
  {
   "cell_type": "markdown",
   "metadata": {},
   "source": [
    "Annotate w/ command 'text'"
   ]
  },
  {
   "cell_type": "code",
   "execution_count": 21,
   "metadata": {},
   "outputs": [
    {
     "data": {
      "image/png": "[encoded data removed]",
      "text/plain": [
       "plot without title"
      ]
     },
     "metadata": {
      "image/png": {
       "height": 420,
       "width": 420
      },
      "text/plain": {
       "height": 420,
       "width": 420
      }
     },
     "output_type": "display_data"
    }
   ],
   "source": [
    "#many splits\n",
    "plot(tree.carseats)\n",
    "text(tree.carseats,pretty=0)"
   ]
  },
  {
   "cell_type": "markdown",
   "metadata": {},
   "source": [
    "For detailed summary of the tree, print it\n",
    "\n",
    "details of every node, observations of the root, mean deviance of the root, every splitting variable, and proportion of yes/no\n",
    "\n",
    "every node is numbered (corresponds to tree going down)\n",
    " "
   ]
  },
  {
   "cell_type": "code",
   "execution_count": 23,
   "metadata": {},
   "outputs": [],
   "source": [
    "#tree.carseats"
   ]
  },
  {
   "cell_type": "markdown",
   "metadata": {},
   "source": [
    "Let's create a TRAINING/TESTING set (250,150) split of the 400 observations\n",
    "\n",
    "grow the tree on TRAINING set\n",
    "\n",
    "evaluate performance on the TEST set"
   ]
  },
  {
   "cell_type": "markdown",
   "metadata": {},
   "source": [
    "seed -- make results reproducable (use diff seeds each time)\n",
    "\n",
    "\n",
    "sample--take random sample from the index numbers of samples. \n",
    "\n",
    "1 to nrow (ie, 400) . \n",
    "\n",
    "We eant a sample size of 250. \n",
    "\n",
    "Default is w/ out replacement.\n"
   ]
  },
  {
   "cell_type": "code",
   "execution_count": 29,
   "metadata": {},
   "outputs": [],
   "source": [
    "set.seed(1011)\n",
    "#indexes 250 of 400 observations\n",
    "train<-sample(1:nrow(Carseats),250)\n",
    "#refit tree, but use subset (training set)\n",
    "tree.carseats<-tree(High~.-Sales,Carseats,subset=train)"
   ]
  },
  {
   "cell_type": "code",
   "execution_count": 30,
   "metadata": {},
   "outputs": [
    {
     "data": {
      "image/png": "[encoded data removed]",
      "text/plain": [
       "plot without title"
      ]
     },
     "metadata": {
      "image/png": {
       "height": 420,
       "width": 420
      },
      "text/plain": {
       "height": 420,
       "width": 420
      }
     },
     "output_type": "display_data"
    }
   ],
   "source": [
    "#different, b/c diff data set\n",
    "plot(tree.carseats); text(tree.carseats,pretty=0)"
   ]
  },
  {
   "cell_type": "markdown",
   "metadata": {},
   "source": [
    "Predict on TEST set\n",
    "\n",
    "1)use predict function (predict())\n",
    "\n",
    "2)give it Fitted tree (tree.carseats)\n",
    "\n",
    "3)give it data to which we want to Predict ([-train,]\n",
    "\n",
    "4) type = 'class' -- can make different types of predictions, here we want to predict class labels, not Probabilities"
   ]
  },
  {
   "cell_type": "code",
   "execution_count": 31,
   "metadata": {},
   "outputs": [],
   "source": [
    "tree.pred<-predict(tree.carseats, Carseats[-train,],type='class')\n"
   ]
  },
  {
   "cell_type": "markdown",
   "metadata": {},
   "source": [
    "with -- ' with tests data (Carseats[-train]), make a table, w/ TRUE vs PREDICT (compares predicted vs actual values in the 'High' variable) "
   ]
  },
  {
   "cell_type": "code",
   "execution_count": 33,
   "metadata": {},
   "outputs": [
    {
     "data": {
      "text/plain": [
       "         High\n",
       "tree.pred No Yes\n",
       "      No  58  20\n",
       "      Yes 27  45"
      ]
     },
     "metadata": {},
     "output_type": "display_data"
    }
   ],
   "source": [
    "with(Carseats[-train,],table(tree.pred,High))"
   ]
  },
  {
   "cell_type": "markdown",
   "metadata": {},
   "source": [
    "Accuracy"
   ]
  },
  {
   "cell_type": "code",
   "execution_count": 34,
   "metadata": {},
   "outputs": [
    {
     "data": {
      "text/html": [
       "0.686666666666667"
      ],
      "text/latex": [
       "0.686666666666667"
      ],
      "text/markdown": [
       "0.686666666666667"
      ],
      "text/plain": [
       "[1] 0.6866667"
      ]
     },
     "metadata": {},
     "output_type": "display_data"
    }
   ],
   "source": [
    "#error rate of .69\n",
    "(58+45)/150"
   ]
  },
  {
   "cell_type": "markdown",
   "metadata": {},
   "source": [
    "#### Cross-Validation\n",
    "\n",
    "This tree was grown to full depth, and might be too variable.\n",
    "\n",
    "We use CV to prune it.\n",
    "\n",
    "1) use cv.tree\n",
    "\n",
    "2) tell it we want misclassification as basis for pruning the tree\n",
    "\n",
    "Note: this will do 10-fold CV"
   ]
  },
  {
   "cell_type": "code",
   "execution_count": 36,
   "metadata": {},
   "outputs": [],
   "source": [
    "cv.carseats<-cv.tree(tree.carseats, FUN=prune.misclass)"
   ]
  },
  {
   "cell_type": "markdown",
   "metadata": {},
   "source": [
    "1) tells you size of the trees as pruned back\n",
    "\n",
    "2) deviiance as pruned back\n",
    "\n",
    "Notice deviance goes down and then up as pruning continues\n",
    "\n",
    "3) tells you cost-complexity paramter for the process "
   ]
  },
  {
   "cell_type": "code",
   "execution_count": 40,
   "metadata": {},
   "outputs": [
    {
     "data": {
      "text/plain": [
       "$size\n",
       " [1] 23 17 16 14 10  8  6  5  4  2  1\n",
       "\n",
       "$dev\n",
       " [1]  64  61  69  67  70  81  80  83  81  81 101\n",
       "\n",
       "$k\n",
       " [1] -Inf  0.0  1.0  1.5  2.0  3.0  3.5  5.0  6.0  7.0 27.0\n",
       "\n",
       "$method\n",
       "[1] \"misclass\"\n",
       "\n",
       "attr(,\"class\")\n",
       "[1] \"prune\"         \"tree.sequence\""
      ]
     },
     "metadata": {},
     "output_type": "display_data"
    }
   ],
   "source": [
    "cv.carseats"
   ]
  },
  {
   "cell_type": "markdown",
   "metadata": {},
   "source": [
    "plot looks jumpy b/c misclassifcation on 250 cv points\n",
    "\n",
    "bottom around 17/18 before it increases again\n"
   ]
  },
  {
   "cell_type": "code",
   "execution_count": 39,
   "metadata": {},
   "outputs": [
    {
     "data": {
      "image/png": "[encoded data removed]",
      "text/plain": [
       "plot without title"
      ]
     },
     "metadata": {
      "image/png": {
       "height": 420,
       "width": 420
      },
      "text/plain": {
       "height": 420,
       "width": 420
      }
     },
     "output_type": "display_data"
    }
   ],
   "source": [
    "#min appears to be 17\n",
    "plot(cv.carseats)"
   ]
  },
  {
   "cell_type": "markdown",
   "metadata": {},
   "source": [
    "prune our three to size of 17 to identify that tree\n",
    "\n",
    "fit tree on entired data"
   ]
  },
  {
   "cell_type": "code",
   "execution_count": 41,
   "metadata": {},
   "outputs": [],
   "source": [
    "#min appears to be 17\n",
    "prune.carseats<-prune.misclass(tree.carseats,best=17)"
   ]
  },
  {
   "cell_type": "code",
   "execution_count": 42,
   "metadata": {},
   "outputs": [
    {
     "data": {
      "image/png": "[encoded data removed]",
      "text/plain": [
       "plot without title"
      ]
     },
     "metadata": {
      "image/png": {
       "height": 420,
       "width": 420
      },
      "text/plain": {
       "height": 420,
       "width": 420
      }
     },
     "output_type": "display_data"
    }
   ],
   "source": [
    "#shollower tree\n",
    "#can read labels now\n",
    "plot(prune.carseats);text(prune.carseats,pretty=0)"
   ]
  },
  {
   "cell_type": "markdown",
   "metadata": {},
   "source": [
    "Predict the pruned tree of size 17"
   ]
  },
  {
   "cell_type": "code",
   "execution_count": 43,
   "metadata": {
    "scrolled": true
   },
   "outputs": [
    {
     "data": {
      "text/plain": [
       "         High\n",
       "tree.pred No Yes\n",
       "      No  61  19\n",
       "      Yes 24  46"
      ]
     },
     "metadata": {},
     "output_type": "display_data"
    }
   ],
   "source": [
    "tree.pred<-predict(prune.carseats, Carseats[-train,],type='class')\n",
    "with(Carseats[-train,],table(tree.pred,High))"
   ]
  },
  {
   "cell_type": "markdown",
   "metadata": {},
   "source": [
    "not much improvement, but it is a shollwer tree, which is easier to interpret"
   ]
  },
  {
   "cell_type": "code",
   "execution_count": 44,
   "metadata": {},
   "outputs": [
    {
     "data": {
      "text/html": [
       "0.713333333333333"
      ],
      "text/latex": [
       "0.713333333333333"
      ],
      "text/markdown": [
       "0.713333333333333"
      ],
      "text/plain": [
       "[1] 0.7133333"
      ]
     },
     "metadata": {},
     "output_type": "display_data"
    }
   ],
   "source": [
    "(61+46)/150"
   ]
  },
  {
   "cell_type": "markdown",
   "metadata": {},
   "source": [
    "#### Conclusion\n",
    "\n",
    "Trees are easy to interpret, but they do poorly on prediction."
   ]
  }
 ],
 "metadata": {
  "kernelspec": {
   "display_name": "R",
   "language": "R",
   "name": "ir"
  },
  "language_info": {
   "codemirror_mode": "r",
   "file_extension": ".r",
   "mimetype": "text/x-r-source",
   "name": "R",
   "pygments_lexer": "r",
   "version": "3.6.2"
  }
 },
 "nbformat": 4,
 "nbformat_minor": 2
}
