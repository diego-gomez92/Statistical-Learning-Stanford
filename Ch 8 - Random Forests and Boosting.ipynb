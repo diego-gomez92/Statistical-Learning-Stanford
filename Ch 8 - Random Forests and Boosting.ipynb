{
 "cells": [
  {
   "cell_type": "markdown",
   "metadata": {},
   "source": [
    "### Random Forests and Boosting\n",
    "\n",
    "These methods use trees as building blocks to build more complex models.\n",
    "\n",
    "We will use the BOSTON housing data set to explore RANDOM FORESTS and BOOSTING. \n",
    "\n",
    "These data are in the 'MASS' package.\n",
    "\n",
    "It gives housing values and other stats in each of 506 suburbs of Boston based on a 1970 census. "
   ]
  },
  {
   "cell_type": "markdown",
   "metadata": {},
   "source": [
    "### Random Forests\n",
    "\n",
    "Random Forests build lots of bushy trees, and the average them to reduce the variance."
   ]
  },
  {
   "cell_type": "code",
   "execution_count": 2,
   "metadata": {},
   "outputs": [
    {
     "name": "stderr",
     "output_type": "stream",
     "text": [
      "Installing package into 'C:/Users/Diego/Documents/R/win-library/3.6'\n",
      "(as 'lib' is unspecified)\n",
      "\n"
     ]
    },
    {
     "name": "stdout",
     "output_type": "stream",
     "text": [
      "package 'randomForest' successfully unpacked and MD5 sums checked\n",
      "\n",
      "The downloaded binary packages are in\n",
      "\tC:\\Users\\Diego\\AppData\\Local\\Temp\\Rtmp25z5cd\\downloaded_packages\n"
     ]
    }
   ],
   "source": [
    "install.packages('randomForest')"
   ]
  },
  {
   "cell_type": "code",
   "execution_count": 3,
   "metadata": {},
   "outputs": [
    {
     "name": "stderr",
     "output_type": "stream",
     "text": [
      "Loading required package: randomForest\n",
      "\n",
      "Warning message:\n",
      "\"package 'randomForest' was built under R version 3.6.3\"\n",
      "randomForest 4.6-14\n",
      "\n",
      "Type rfNews() to see new features/changes/bug fixes.\n",
      "\n"
     ]
    }
   ],
   "source": [
    "require(randomForest)\n",
    "require(MASS)"
   ]
  },
  {
   "cell_type": "code",
   "execution_count": 5,
   "metadata": {},
   "outputs": [
    {
     "data": {
      "text/html": [
       "<style>\n",
       ".list-inline {list-style: none; margin:0; padding: 0}\n",
       ".list-inline>li {display: inline-block}\n",
       ".list-inline>li:not(:last-child)::after {content: \"\\00b7\"; padding: 0 .5ex}\n",
       "</style>\n",
       "<ol class=list-inline><li>506</li><li>14</li></ol>\n"
      ],
      "text/latex": [
       "\\begin{enumerate*}\n",
       "\\item 506\n",
       "\\item 14\n",
       "\\end{enumerate*}\n"
      ],
      "text/markdown": [
       "1. 506\n",
       "2. 14\n",
       "\n",
       "\n"
      ],
      "text/plain": [
       "[1] 506  14"
      ]
     },
     "metadata": {},
     "output_type": "display_data"
    }
   ],
   "source": [
    "set.seed(101)\n",
    "dim(Boston)"
   ]
  },
  {
   "cell_type": "code",
   "execution_count": 6,
   "metadata": {},
   "outputs": [],
   "source": [
    "#training size of 300 from Boston data set\n",
    "train<-sample(1:nrow(Boston),300)"
   ]
  },
  {
   "cell_type": "code",
   "execution_count": 8,
   "metadata": {},
   "outputs": [],
   "source": [
    "?sample"
   ]
  },
  {
   "cell_type": "code",
   "execution_count": 7,
   "metadata": {},
   "outputs": [],
   "source": [
    "#demographics, crime, age of house, etc.\n",
    "?Boston"
   ]
  },
  {
   "cell_type": "markdown",
   "metadata": {},
   "source": [
    "REESPONSE (y) == medv (median value of owner-occupied homes in \\$1000s."
   ]
  },
  {
   "cell_type": "markdown",
   "metadata": {},
   "source": [
    "Lets fit a RANDOM FOREST and see how well it performs.\n",
    "\n",
    "We will use the response 'medv'"
   ]
  },
  {
   "cell_type": "code",
   "execution_count": 10,
   "metadata": {},
   "outputs": [],
   "source": [
    "#fit training data\n",
    "rf.boston<-randomForest(medv~.,data=Boston,subset=train)\n"
   ]
  },
  {
   "cell_type": "markdown",
   "metadata": {},
   "source": [
    "500 trees \n",
    "\n",
    "summary of fit\n",
    "\n",
    "mean squared residual-- out-of-bag mean squared residuals (see lecture). So each observation was predicted using the average of\n",
    "trees that didn't include it.  de-biased estimates of\n",
    "prediction error.\n",
    "\n",
    "percentage variance explained."
   ]
  },
  {
   "cell_type": "code",
   "execution_count": 13,
   "metadata": {
    "scrolled": true
   },
   "outputs": [
    {
     "data": {
      "text/html": [
       "<style>\n",
       ".list-inline {list-style: none; margin:0; padding: 0}\n",
       ".list-inline>li {display: inline-block}\n",
       ".list-inline>li:not(:last-child)::after {content: \"\\00b7\"; padding: 0 .5ex}\n",
       "</style>\n",
       "<ol class=list-inline><li>'call'</li><li>'type'</li><li>'predicted'</li><li>'mse'</li><li>'rsq'</li><li>'oob.times'</li><li>'importance'</li><li>'importanceSD'</li><li>'localImportance'</li><li>'proximity'</li><li>'ntree'</li><li>'mtry'</li><li>'forest'</li><li>'coefs'</li><li>'y'</li><li>'test'</li><li>'inbag'</li><li>'terms'</li></ol>\n"
      ],
      "text/latex": [
       "\\begin{enumerate*}\n",
       "\\item 'call'\n",
       "\\item 'type'\n",
       "\\item 'predicted'\n",
       "\\item 'mse'\n",
       "\\item 'rsq'\n",
       "\\item 'oob.times'\n",
       "\\item 'importance'\n",
       "\\item 'importanceSD'\n",
       "\\item 'localImportance'\n",
       "\\item 'proximity'\n",
       "\\item 'ntree'\n",
       "\\item 'mtry'\n",
       "\\item 'forest'\n",
       "\\item 'coefs'\n",
       "\\item 'y'\n",
       "\\item 'test'\n",
       "\\item 'inbag'\n",
       "\\item 'terms'\n",
       "\\end{enumerate*}\n"
      ],
      "text/markdown": [
       "1. 'call'\n",
       "2. 'type'\n",
       "3. 'predicted'\n",
       "4. 'mse'\n",
       "5. 'rsq'\n",
       "6. 'oob.times'\n",
       "7. 'importance'\n",
       "8. 'importanceSD'\n",
       "9. 'localImportance'\n",
       "10. 'proximity'\n",
       "11. 'ntree'\n",
       "12. 'mtry'\n",
       "13. 'forest'\n",
       "14. 'coefs'\n",
       "15. 'y'\n",
       "16. 'test'\n",
       "17. 'inbag'\n",
       "18. 'terms'\n",
       "\n",
       "\n"
      ],
      "text/plain": [
       " [1] \"call\"            \"type\"            \"predicted\"       \"mse\"            \n",
       " [5] \"rsq\"             \"oob.times\"       \"importance\"      \"importanceSD\"   \n",
       " [9] \"localImportance\" \"proximity\"       \"ntree\"           \"mtry\"           \n",
       "[13] \"forest\"          \"coefs\"           \"y\"               \"test\"           \n",
       "[17] \"inbag\"           \"terms\"          "
      ]
     },
     "metadata": {},
     "output_type": "display_data"
    }
   ],
   "source": [
    "names(rf.boston)"
   ]
  },
  {
   "cell_type": "markdown",
   "metadata": {},
   "source": [
    "mtry == number of vars selected at each split of each tree. \n",
    "\n",
    "IN this case, 4 vars selcted at random, each time you come to a split node, 4 would be selected at random, and then the split would be confiend to one of those variables.\n",
    "\n",
    "How RF de-correlates trees "
   ]
  },
  {
   "cell_type": "code",
   "execution_count": 16,
   "metadata": {},
   "outputs": [
    {
     "data": {
      "text/html": [
       "4"
      ],
      "text/latex": [
       "4"
      ],
      "text/markdown": [
       "4"
      ],
      "text/plain": [
       "[1] 4"
      ]
     },
     "metadata": {},
     "output_type": "display_data"
    }
   ],
   "source": [
    "rf.boston$'mtry'"
   ]
  },
  {
   "cell_type": "code",
   "execution_count": 19,
   "metadata": {},
   "outputs": [],
   "source": [
    "#rf.boston"
   ]
  },
  {
   "cell_type": "markdown",
   "metadata": {},
   "source": [
    "The MSR and % variance explained are based on OOB (out-og-bag) estimates, a clever device in Random Forests to get honest error estimates. \n",
    "\n",
    "The model reports that 'mtry=4', which is the number of variables randomly chosen at each split. \n",
    "\n",
    "Since $p=13$ here, we could try all 13 possible values of 'mtry'. \n",
    "\n",
    "We will do so, record the results for a number of trees, and make a plot."
   ]
  },
  {
   "cell_type": "code",
   "execution_count": 20,
   "metadata": {},
   "outputs": [
    {
     "data": {
      "text/html": [
       "<style>\n",
       ".list-inline {list-style: none; margin:0; padding: 0}\n",
       ".list-inline>li {display: inline-block}\n",
       ".list-inline>li:not(:last-child)::after {content: \"\\00b7\"; padding: 0 .5ex}\n",
       "</style>\n",
       "<ol class=list-inline><li>0</li><li>0</li><li>0</li><li>0</li><li>0</li><li>0</li><li>0</li><li>0</li><li>0</li><li>0</li><li>0</li><li>0</li><li>0</li></ol>\n"
      ],
      "text/latex": [
       "\\begin{enumerate*}\n",
       "\\item 0\n",
       "\\item 0\n",
       "\\item 0\n",
       "\\item 0\n",
       "\\item 0\n",
       "\\item 0\n",
       "\\item 0\n",
       "\\item 0\n",
       "\\item 0\n",
       "\\item 0\n",
       "\\item 0\n",
       "\\item 0\n",
       "\\item 0\n",
       "\\end{enumerate*}\n"
      ],
      "text/markdown": [
       "1. 0\n",
       "2. 0\n",
       "3. 0\n",
       "4. 0\n",
       "5. 0\n",
       "6. 0\n",
       "7. 0\n",
       "8. 0\n",
       "9. 0\n",
       "10. 0\n",
       "11. 0\n",
       "12. 0\n",
       "13. 0\n",
       "\n",
       "\n"
      ],
      "text/plain": [
       " [1] 0 0 0 0 0 0 0 0 0 0 0 0 0"
      ]
     },
     "metadata": {},
     "output_type": "display_data"
    }
   ],
   "source": [
    "#13 zeros\n",
    "oob.err<-double(13)\n",
    "oob.err"
   ]
  },
  {
   "cell_type": "markdown",
   "metadata": {},
   "source": [
    "fit a series of randomForests.\n",
    "\n",
    "There are 13 variables, so we're going to have mtry range through the values 1 to 13.\n",
    "\n",
    " record the errors.\n",
    " \n",
    " set up two variables to do the\n",
    "recording of the errors.\n",
    "And then we're going to loop for mtry in 1 to 13.\n",
    "\n",
    "We're going to fit the randomForest with that value of mtry.\n",
    "\n",
    "we'll just restrict the number of trees to be 400,\n",
    "for no good reason, except that 400 is sufficient here.\n",
    "\n",
    "give mtry as an argument.\n",
    "And of course, its fit on the training data.\n",
    "\n",
    "we can straightaway extract the mean squared\n",
    "error, because that's out-of-bag error, that's on\n",
    "the object.\n",
    "\n",
    "then we predict on the test data.\n",
    "So there's Boston minus train, and passed as the data in the\n",
    "argument to predict."
   ]
  },
  {
   "cell_type": "code",
   "execution_count": 28,
   "metadata": {},
   "outputs": [
    {
     "name": "stdout",
     "output_type": "stream",
     "text": [
      "1  2  3  4  5  6  7  8  9  10  11  12  13  "
     ]
    }
   ],
   "source": [
    "#record errors\n",
    "oob.err<-double(13)\n",
    "test.err<-double(13)\n",
    "\n",
    "#fit trees w/ diff num of vars at each split\n",
    "#400 trees per model\n",
    "for (mtry in 1:13){\n",
    "    #fit on training data\n",
    "    fit<-randomForest(medv~.,\n",
    "     data=Boston,subset=train,mtry=mtry,\n",
    "     ntree=400)\n",
    "    #extract Mean Squared Error and put in var\n",
    "    oob.err[mtry]<-fit$mse[400]\n",
    "    #predict on testing data\n",
    "    #fit is the fit of the Random Forest\n",
    "    pred<-predict(fit,Boston[-train,])\n",
    "    #test error (MSE) = (actual - pred)^2\n",
    "    test.err[mtry]<-with(Boston[-train,],\n",
    "     mean((medv-pred)^2))\n",
    "    #Concatenate and Print\n",
    "    cat(mtry, \" \")\n",
    "}"
   ]
  },
  {
   "cell_type": "code",
   "execution_count": 29,
   "metadata": {},
   "outputs": [],
   "source": [
    "#?cat"
   ]
  },
  {
   "cell_type": "markdown",
   "metadata": {},
   "source": [
    " 13 times 400 trees have been grown here.\n",
    " \n",
    "use a math plot command, because we've\n",
    "got two columns.\n",
    "\n",
    "got test.error and\n",
    "out-of-bag dot error, oob.error.\n",
    "\n",
    "c bind them together to make a two column matrix.\n",
    "And then we make a single plot with math plot.\n",
    "\n",
    " type equals b means, type equals both.\n",
    "It means it plots both points and connect them with lines.\n",
    "\n",
    " ylab mean square error.\n",
    " \n",
    " put a legend in the top right corner."
   ]
  },
  {
   "cell_type": "markdown",
   "metadata": {},
   "source": [
    "Iterepretation of the Plot:\n",
    "\n",
    "test error a bit higher\n",
    "\n",
    "But be warned, there's a lot of variability in these test\n",
    "error estimates.\n",
    "And so since the out-of-bag was computer on one data set\n",
    "and the test error on a different data set, and they\n",
    "weren't very large, these differences are pretty much\n",
    "well within the standard errors.\n",
    "\n",
    "And don't get fooled by the fact that the red curve is\n",
    "smoothly above the blue curve.\n",
    "These error estimates are very correlated, because the\n",
    "randomForest with mtry equals 4 is very similar to the one\n",
    "with mtry equals 5.\n",
    "And so that's why these curves, or each of the curves\n",
    "is quite smooth.\n",
    "\n",
    "\n",
    "What we do see is that mtry try around 6 seems to be about\n",
    "the best, at least for the test error.\n",
    "For the out-of-bag error, around about 7.\n",
    "\n",
    "Good performance\n",
    "\n",
    "Just two points to note here.\n",
    "On the left-hand side is the performance of a single tree.\n",
    "So this will be a bushy tree.\n",
    "But that's the performance of a single bushy tree.\n",
    "And the mean squared error on out-of-bag is 23.\n",
    "And we drop down to about just over 11, here. (REDUCED error by half)\n",
    "\n",
    "\n",
    "Right side, we use all 13 variables (ie, BAGGING)\n",
    "\n",
    "RF == reduces variance by growing big trees and avging. \n",
    "\n",
    "Boosting, on the other hand, is really going off to bias.\n",
    "And so boosting grows smaller, stubbier trees\n",
    "and goes at the bias."
   ]
  },
  {
   "cell_type": "code",
   "execution_count": 58,
   "metadata": {
    "scrolled": true
   },
   "outputs": [
    {
     "data": {
      "image/png": "[encoded data removed]",
      "text/plain": [
       "plot without title"
      ]
     },
     "metadata": {
      "image/png": {
       "height": 420,
       "width": 420
      },
      "text/plain": {
       "height": 420,
       "width": 420
      }
     },
     "output_type": "display_data"
    }
   ],
   "source": [
    "matplot(1:mtry,cbind(test.err,oob.err),\n",
    "       pch=19,col=c('red','blue'),\n",
    "       type='b',ylab='Mean Squared Error')\n",
    "legend('topright',legend=c('Test','OOB'),\n",
    "      pch=19,col=c('red','blue'))"
   ]
  },
  {
   "cell_type": "markdown",
   "metadata": {},
   "source": [
    "Not too difficult! Altough the OOB error drops below test-error curve, these are estimates based on data, and so have their own standard errors (which are typically large). Notice that the points at the end with 'mtry=13' correspond to BAGGING."
   ]
  },
  {
   "cell_type": "markdown",
   "metadata": {},
   "source": [
    "### Boosting\n",
    "\n",
    "Boosting builds lots of smaller trees. Unlike random forests, each new tree in boosting tries to patch up the defiencies of the current ensemble."
   ]
  },
  {
   "cell_type": "code",
   "execution_count": 32,
   "metadata": {},
   "outputs": [
    {
     "name": "stderr",
     "output_type": "stream",
     "text": [
      "Installing package into 'C:/Users/Diego/Documents/R/win-library/3.6'\n",
      "(as 'lib' is unspecified)\n",
      "\n",
      "also installing the dependency 'gridExtra'\n",
      "\n",
      "\n"
     ]
    },
    {
     "name": "stdout",
     "output_type": "stream",
     "text": [
      "package 'gridExtra' successfully unpacked and MD5 sums checked\n",
      "package 'gbm' successfully unpacked and MD5 sums checked\n",
      "\n",
      "The downloaded binary packages are in\n",
      "\tC:\\Users\\Diego\\AppData\\Local\\Temp\\Rtmp25z5cd\\downloaded_packages\n"
     ]
    }
   ],
   "source": [
    "install.packages('gbm')"
   ]
  },
  {
   "cell_type": "code",
   "execution_count": 33,
   "metadata": {},
   "outputs": [
    {
     "name": "stderr",
     "output_type": "stream",
     "text": [
      "Loading required package: gbm\n",
      "\n",
      "Warning message:\n",
      "\"package 'gbm' was built under R version 3.6.3\"\n",
      "Loaded gbm 2.1.5\n",
      "\n"
     ]
    }
   ],
   "source": [
    "require(gbm)"
   ]
  },
  {
   "cell_type": "markdown",
   "metadata": {},
   "source": [
    "GBM asks for the distribution, which is Gaussian, because\n",
    "we're doing squared error loss.\n",
    "\n",
    "We're going to ask GBM for 10,000 trees, which sounds\n",
    "like a lot, but these are going to be shallow trees.\n",
    "\n",
    "So interaction depth is the number of splits.\n",
    "So we're going to say we only want 4 splits\n",
    "in each of the trees. So it will do best first splitting.\n",
    "And it will stop after 4 splits.\n",
    "\n",
    "And then shrinkage is 0.01.\n",
    "So that's how much we're going to shrink the tree step back.\n",
    "\n",
    "And then shrinkage is 0.01.\n",
    "So that's how much we're going to shrink the tree step back."
   ]
  },
  {
   "cell_type": "code",
   "execution_count": 35,
   "metadata": {},
   "outputs": [],
   "source": [
    "boost.boston<-gbm(medv~.,data=Boston[train,],\n",
    "        distribution='gaussian',n.trees=10000,\n",
    "        shrinkage=0.01,interaction.depth=4)"
   ]
  },
  {
   "cell_type": "markdown",
   "metadata": {},
   "source": [
    "summary does is, it actually gives a variable\n",
    "importance plot.\n",
    "\n",
    "wo variables that seem to be the most important.\n",
    "\n",
    "1) number of rooms.\n",
    "And this, oh, the second variable is \n",
    "\n",
    "2) lstat, which is\n",
    "the percentage of lower economic status\n",
    "people in the community."
   ]
  },
  {
   "cell_type": "code",
   "execution_count": 37,
   "metadata": {},
   "outputs": [
    {
     "data": {
      "text/html": [
       "<table>\n",
       "<caption>A data.frame: 13 × 2</caption>\n",
       "<thead>\n",
       "\t<tr><th></th><th scope=col>var</th><th scope=col>rel.inf</th></tr>\n",
       "\t<tr><th></th><th scope=col>&lt;fct&gt;</th><th scope=col>&lt;dbl&gt;</th></tr>\n",
       "</thead>\n",
       "<tbody>\n",
       "\t<tr><th scope=row>lstat</th><td>lstat  </td><td>36.379451303</td></tr>\n",
       "\t<tr><th scope=row>rm</th><td>rm     </td><td>27.975075367</td></tr>\n",
       "\t<tr><th scope=row>dis</th><td>dis    </td><td> 9.591799721</td></tr>\n",
       "\t<tr><th scope=row>crim</th><td>crim   </td><td> 6.037401811</td></tr>\n",
       "\t<tr><th scope=row>age</th><td>age    </td><td> 5.442559141</td></tr>\n",
       "\t<tr><th scope=row>nox</th><td>nox    </td><td> 4.304759477</td></tr>\n",
       "\t<tr><th scope=row>black</th><td>black  </td><td> 3.186801720</td></tr>\n",
       "\t<tr><th scope=row>ptratio</th><td>ptratio</td><td> 2.498316635</td></tr>\n",
       "\t<tr><th scope=row>tax</th><td>tax    </td><td> 2.092489041</td></tr>\n",
       "\t<tr><th scope=row>indus</th><td>indus  </td><td> 1.474039234</td></tr>\n",
       "\t<tr><th scope=row>rad</th><td>rad    </td><td> 0.862037857</td></tr>\n",
       "\t<tr><th scope=row>zn</th><td>zn     </td><td> 0.147511140</td></tr>\n",
       "\t<tr><th scope=row>chas</th><td>chas   </td><td> 0.007757551</td></tr>\n",
       "</tbody>\n",
       "</table>\n"
      ],
      "text/latex": [
       "A data.frame: 13 × 2\n",
       "\\begin{tabular}{r|ll}\n",
       "  & var & rel.inf\\\\\n",
       "  & <fct> & <dbl>\\\\\n",
       "\\hline\n",
       "\tlstat & lstat   & 36.379451303\\\\\n",
       "\trm & rm      & 27.975075367\\\\\n",
       "\tdis & dis     &  9.591799721\\\\\n",
       "\tcrim & crim    &  6.037401811\\\\\n",
       "\tage & age     &  5.442559141\\\\\n",
       "\tnox & nox     &  4.304759477\\\\\n",
       "\tblack & black   &  3.186801720\\\\\n",
       "\tptratio & ptratio &  2.498316635\\\\\n",
       "\ttax & tax     &  2.092489041\\\\\n",
       "\tindus & indus   &  1.474039234\\\\\n",
       "\trad & rad     &  0.862037857\\\\\n",
       "\tzn & zn      &  0.147511140\\\\\n",
       "\tchas & chas    &  0.007757551\\\\\n",
       "\\end{tabular}\n"
      ],
      "text/markdown": [
       "\n",
       "A data.frame: 13 × 2\n",
       "\n",
       "| <!--/--> | var &lt;fct&gt; | rel.inf &lt;dbl&gt; |\n",
       "|---|---|---|\n",
       "| lstat | lstat   | 36.379451303 |\n",
       "| rm | rm      | 27.975075367 |\n",
       "| dis | dis     |  9.591799721 |\n",
       "| crim | crim    |  6.037401811 |\n",
       "| age | age     |  5.442559141 |\n",
       "| nox | nox     |  4.304759477 |\n",
       "| black | black   |  3.186801720 |\n",
       "| ptratio | ptratio |  2.498316635 |\n",
       "| tax | tax     |  2.092489041 |\n",
       "| indus | indus   |  1.474039234 |\n",
       "| rad | rad     |  0.862037857 |\n",
       "| zn | zn      |  0.147511140 |\n",
       "| chas | chas    |  0.007757551 |\n",
       "\n"
      ],
      "text/plain": [
       "        var     rel.inf     \n",
       "lstat   lstat   36.379451303\n",
       "rm      rm      27.975075367\n",
       "dis     dis      9.591799721\n",
       "crim    crim     6.037401811\n",
       "age     age      5.442559141\n",
       "nox     nox      4.304759477\n",
       "black   black    3.186801720\n",
       "ptratio ptratio  2.498316635\n",
       "tax     tax      2.092489041\n",
       "indus   indus    1.474039234\n",
       "rad     rad      0.862037857\n",
       "zn      zn       0.147511140\n",
       "chas    chas     0.007757551"
      ]
     },
     "metadata": {},
     "output_type": "display_data"
    },
    {
     "data": {
      "image/png": "[encoded data removed]",
      "text/plain": [
       "plot without title"
      ]
     },
     "metadata": {
      "image/png": {
       "height": 420,
       "width": 420
      },
      "text/plain": {
       "height": 420,
       "width": 420
      }
     },
     "output_type": "display_data"
    }
   ],
   "source": [
    "summary(boost.boston)"
   ]
  },
  {
   "cell_type": "markdown",
   "metadata": {},
   "source": [
    "We can do partial dependence plots.\n",
    "\n",
    "So let's plot these top two variables.\n",
    "\n",
    " kind of a roughly\n",
    "relationship, but it shows us that the higher the proportion\n",
    "of lower status people in the suburb, the lower the value of\n",
    "the house, the housing prices--\n",
    "not a big surprise there.\n",
    "\n",
    "reversed relationship with the number of rooms.\n",
    "The average number of rooms in the house\n",
    "increases, the price increases."
   ]
  },
  {
   "cell_type": "code",
   "execution_count": 38,
   "metadata": {},
   "outputs": [
    {
     "data": {
      "image/png": "[encoded data removed]",
      "text/plain": [
       "plot without title"
      ]
     },
     "metadata": {
      "image/png": {
       "height": 420,
       "width": 420
      },
      "text/plain": {
       "height": 420,
       "width": 420
      }
     },
     "output_type": "display_data"
    },
    {
     "data": {
      "image/png": "[encoded data removed]",
      "text/plain": [
       "plot without title"
      ]
     },
     "metadata": {
      "image/png": {
       "height": 420,
       "width": 420
      },
      "text/plain": {
       "height": 420,
       "width": 420
      }
     },
     "output_type": "display_data"
    }
   ],
   "source": [
    "plot(boost.boston,i='lstat')\n",
    "plot(boost.boston,i='rm')"
   ]
  },
  {
   "cell_type": "markdown",
   "metadata": {},
   "source": [
    "Lets make a prediction on the test set. With boosting, the number of trees is a tuning paramter, and if we have too many we can overfit. So we should use cross-validation to select the number of trees. We will leave this as an exercise. Istead, we will compute the test error as a function of the number of trees, and make a plot."
   ]
  },
  {
   "cell_type": "markdown",
   "metadata": {},
   "source": [
    "we'll just look at the test\n",
    "performance as a function of the number of trees.\n",
    "\n",
    "make a grid of number of trees in steps of\n",
    "100 from 100 to 10,000.\n",
    "\n",
    "run the Predict function on the boosted model.\n",
    "\n",
    "And it takes n.dot trees as an argument."
   ]
  },
  {
   "cell_type": "code",
   "execution_count": 40,
   "metadata": {},
   "outputs": [],
   "source": [
    "n.trees<-seq(from=100,to=10000,by=100)"
   ]
  },
  {
   "cell_type": "code",
   "execution_count": 41,
   "metadata": {},
   "outputs": [],
   "source": [
    "predmat<-predict(boost.boston,\n",
    "    newdata=Boston[-train,],n.trees=n.trees)"
   ]
  },
  {
   "cell_type": "markdown",
   "metadata": {},
   "source": [
    "And it's produced a matrix of predictions on the test data.\n",
    "There are 206 test observations.\n",
    "And you see, we've got 100 different predict vectors at\n",
    "those 100 different values of tree."
   ]
  },
  {
   "cell_type": "code",
   "execution_count": 42,
   "metadata": {},
   "outputs": [
    {
     "data": {
      "text/html": [
       "<style>\n",
       ".list-inline {list-style: none; margin:0; padding: 0}\n",
       ".list-inline>li {display: inline-block}\n",
       ".list-inline>li:not(:last-child)::after {content: \"\\00b7\"; padding: 0 .5ex}\n",
       "</style>\n",
       "<ol class=list-inline><li>206</li><li>100</li></ol>\n"
      ],
      "text/latex": [
       "\\begin{enumerate*}\n",
       "\\item 206\n",
       "\\item 100\n",
       "\\end{enumerate*}\n"
      ],
      "text/markdown": [
       "1. 206\n",
       "2. 100\n",
       "\n",
       "\n"
      ],
      "text/plain": [
       "[1] 206 100"
      ]
     },
     "metadata": {},
     "output_type": "display_data"
    }
   ],
   "source": [
    "dim(predmat)"
   ]
  },
  {
   "cell_type": "markdown",
   "metadata": {},
   "source": [
    " compute the test error for each of those.\n",
    "And we use the Apply function.\n",
    "So we use our With command again.\n",
    "\n",
    "And we use the Apply function.\n",
    "And now predmat are matrix, but medv is our vector.\n",
    "And so this just recycles this vector.\n",
    "So that's a little bit of trickery that I often use in\n",
    "R. \n",
    "\n",
    "So this is actually a matrix of differences.\n",
    "And then we apply to the columns of these square\n",
    "differences, the mean.\n",
    "And so that'll computed the column-wise mean squared error\n",
    "for these guys."
   ]
  },
  {
   "cell_type": "code",
   "execution_count": 44,
   "metadata": {},
   "outputs": [],
   "source": [
    "berr<-with(Boston[-train,],\n",
    "    apply((predmat-medv)^2,2,mean))"
   ]
  },
  {
   "cell_type": "markdown",
   "metadata": {},
   "source": [
    "And then we'll make a plot.\n",
    "And we see the boosting error plot.\n",
    "\n",
    "And it pretty much drops down.\n",
    "And drops down lower, it looks like, than the randomForest.\n",
    "\n",
    "This is as a function of the number of trees.\n",
    "\n",
    "And then it seems to level off, and it doesn't appear to\n",
    "be increasing.\n",
    "If you really ramped up the number of trees to a much\n",
    "bigger number, it would slowly start to increase.\n",
    "\n",
    "But this is evidence of the claim that boosting is\n",
    "reluctant to overfit."
   ]
  },
  {
   "cell_type": "code",
   "execution_count": 57,
   "metadata": {},
   "outputs": [
    {
     "data": {
      "image/png": "[encoded data removed]",
      "text/plain": [
       "Plot with title \"Boosting Test Error\""
      ]
     },
     "metadata": {
      "image/png": {
       "height": 420,
       "width": 420
      },
      "text/plain": {
       "height": 420,
       "width": 420
      }
     },
     "output_type": "display_data"
    }
   ],
   "source": [
    "plot(n.trees,berr,pch=19,ylab='Mean Squared Error',\n",
    "    xlab='# of Trees', main='Boosting Test Error')\n",
    "#seems really low\n",
    "#test error for BOOSTING should be lower\n",
    "abline(h=min(test.err),col='red')"
   ]
  },
  {
   "cell_type": "markdown",
   "metadata": {},
   "source": [
    "Compare RF (w/ test error) vs BOOSTING"
   ]
  },
  {
   "cell_type": "code",
   "execution_count": 51,
   "metadata": {},
   "outputs": [
    {
     "data": {
      "image/png": "[encoded data removed]",
      "text/plain": [
       "plot without title"
      ]
     },
     "metadata": {
      "image/png": {
       "height": 420,
       "width": 420
      },
      "text/plain": {
       "height": 420,
       "width": 420
      }
     },
     "output_type": "display_data"
    }
   ],
   "source": [
    "matplot(1:mtry,cbind(test.err,oob.err),\n",
    "       pch=19,col=c('red','blue'),\n",
    "       type='b',ylab='Mean Squared Error')\n",
    "legend('topright',legend=c('OOB', 'Test'),\n",
    "      pch=19,col=c('red','blue'))\n",
    "abline(h=min(test.err),col='red')"
   ]
  },
  {
   "cell_type": "markdown",
   "metadata": {},
   "source": [
    "BOOSTING is better but more tweaks and can overfit w/ too many trees. RF is easier, will not overfit. "
   ]
  },
  {
   "cell_type": "code",
   "execution_count": 59,
   "metadata": {},
   "outputs": [
    {
     "name": "stderr",
     "output_type": "stream",
     "text": [
      "Warning message:\n",
      "\"package 'tree' was built under R version 3.6.3\"\n"
     ]
    }
   ],
   "source": [
    "library(tree)"
   ]
  }
 ],
 "metadata": {
  "kernelspec": {
   "display_name": "R",
   "language": "R",
   "name": "ir"
  },
  "language_info": {
   "codemirror_mode": "r",
   "file_extension": ".r",
   "mimetype": "text/x-r-source",
   "name": "R",
   "pygments_lexer": "r",
   "version": "3.6.2"
  }
 },
 "nbformat": 4,
 "nbformat_minor": 2
}
