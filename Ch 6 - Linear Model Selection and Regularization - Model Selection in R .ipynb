{
 "cells": [
  {
   "cell_type": "markdown",
   "metadata": {},
   "source": [
    "### Model Selection"
   ]
  },
  {
   "cell_type": "code",
   "execution_count": 392,
   "metadata": {},
   "outputs": [],
   "source": [
    "library(ISLR)"
   ]
  },
  {
   "cell_type": "code",
   "execution_count": 393,
   "metadata": {},
   "outputs": [
    {
     "data": {
      "text/plain": [
       "     AtBat            Hits           HmRun            Runs       \n",
       " Min.   : 19.0   Min.   :  1.0   Min.   : 0.00   Min.   :  0.00  \n",
       " 1st Qu.:282.5   1st Qu.: 71.5   1st Qu.: 5.00   1st Qu.: 33.50  \n",
       " Median :413.0   Median :103.0   Median : 9.00   Median : 52.00  \n",
       " Mean   :403.6   Mean   :107.8   Mean   :11.62   Mean   : 54.75  \n",
       " 3rd Qu.:526.0   3rd Qu.:141.5   3rd Qu.:18.00   3rd Qu.: 73.00  \n",
       " Max.   :687.0   Max.   :238.0   Max.   :40.00   Max.   :130.00  \n",
       "      RBI             Walks            Years            CAtBat       \n",
       " Min.   :  0.00   Min.   :  0.00   Min.   : 1.000   Min.   :   19.0  \n",
       " 1st Qu.: 30.00   1st Qu.: 23.00   1st Qu.: 4.000   1st Qu.:  842.5  \n",
       " Median : 47.00   Median : 37.00   Median : 6.000   Median : 1931.0  \n",
       " Mean   : 51.49   Mean   : 41.11   Mean   : 7.312   Mean   : 2657.5  \n",
       " 3rd Qu.: 71.00   3rd Qu.: 57.00   3rd Qu.:10.000   3rd Qu.: 3890.5  \n",
       " Max.   :121.00   Max.   :105.00   Max.   :24.000   Max.   :14053.0  \n",
       "     CHits            CHmRun           CRuns             CRBI       \n",
       " Min.   :   4.0   Min.   :  0.00   Min.   :   2.0   Min.   :   3.0  \n",
       " 1st Qu.: 212.0   1st Qu.: 15.00   1st Qu.: 105.5   1st Qu.:  95.0  \n",
       " Median : 516.0   Median : 40.00   Median : 250.0   Median : 230.0  \n",
       " Mean   : 722.2   Mean   : 69.24   Mean   : 361.2   Mean   : 330.4  \n",
       " 3rd Qu.:1054.0   3rd Qu.: 92.50   3rd Qu.: 497.5   3rd Qu.: 424.5  \n",
       " Max.   :4256.0   Max.   :548.00   Max.   :2165.0   Max.   :1659.0  \n",
       "     CWalks       League  Division    PutOuts          Assists     \n",
       " Min.   :   1.0   A:139   E:129    Min.   :   0.0   Min.   :  0.0  \n",
       " 1st Qu.:  71.0   N:124   W:134    1st Qu.: 113.5   1st Qu.:  8.0  \n",
       " Median : 174.0                    Median : 224.0   Median : 45.0  \n",
       " Mean   : 260.3                    Mean   : 290.7   Mean   :118.8  \n",
       " 3rd Qu.: 328.5                    3rd Qu.: 322.5   3rd Qu.:192.0  \n",
       " Max.   :1566.0                    Max.   :1377.0   Max.   :492.0  \n",
       "     Errors           Salary       NewLeague\n",
       " Min.   : 0.000   Min.   :  67.5   A:141    \n",
       " 1st Qu.: 3.000   1st Qu.: 190.0   N:122    \n",
       " Median : 7.000   Median : 425.0            \n",
       " Mean   : 8.593   Mean   : 535.9            \n",
       " 3rd Qu.:13.000   3rd Qu.: 750.0            \n",
       " Max.   :32.000   Max.   :2460.0            "
      ]
     },
     "metadata": {},
     "output_type": "display_data"
    }
   ],
   "source": [
    "#baseball stats, w/ response var == salary\n",
    "#many missing values\n",
    "summary(Hitters)"
   ]
  },
  {
   "cell_type": "code",
   "execution_count": 394,
   "metadata": {},
   "outputs": [
    {
     "name": "stdout",
     "output_type": "stream",
     "text": [
      "'data.frame':\t263 obs. of  20 variables:\n",
      " $ AtBat    : int  315 479 496 321 594 185 298 323 401 574 ...\n",
      " $ Hits     : int  81 130 141 87 169 37 73 81 92 159 ...\n",
      " $ HmRun    : int  7 18 20 10 4 1 0 6 17 21 ...\n",
      " $ Runs     : int  24 66 65 39 74 23 24 26 49 107 ...\n",
      " $ RBI      : int  38 72 78 42 51 8 24 32 66 75 ...\n",
      " $ Walks    : int  39 76 37 30 35 21 7 8 65 59 ...\n",
      " $ Years    : int  14 3 11 2 11 2 3 2 13 10 ...\n",
      " $ CAtBat   : int  3449 1624 5628 396 4408 214 509 341 5206 4631 ...\n",
      " $ CHits    : int  835 457 1575 101 1133 42 108 86 1332 1300 ...\n",
      " $ CHmRun   : int  69 63 225 12 19 1 0 6 253 90 ...\n",
      " $ CRuns    : int  321 224 828 48 501 30 41 32 784 702 ...\n",
      " $ CRBI     : int  414 266 838 46 336 9 37 34 890 504 ...\n",
      " $ CWalks   : int  375 263 354 33 194 24 12 8 866 488 ...\n",
      " $ League   : Factor w/ 2 levels \"A\",\"N\": 2 1 2 2 1 2 1 2 1 1 ...\n",
      " $ Division : Factor w/ 2 levels \"E\",\"W\": 2 2 1 1 2 1 2 2 1 1 ...\n",
      " $ PutOuts  : int  632 880 200 805 282 76 121 143 0 238 ...\n",
      " $ Assists  : int  43 82 11 40 421 127 283 290 0 445 ...\n",
      " $ Errors   : int  10 14 3 4 25 7 9 19 0 22 ...\n",
      " $ Salary   : num  475 480 500 91.5 750 ...\n",
      " $ NewLeague: Factor w/ 2 levels \"A\",\"N\": 2 1 2 2 1 1 1 2 1 1 ...\n",
      " - attr(*, \"na.action\")= 'omit' Named int  1 16 19 23 31 33 37 39 40 42 ...\n",
      "  ..- attr(*, \"names\")= chr  \"-Andy Allanson\" \"-Billy Beane\" \"-Bruce Bochte\" \"-Bob Boone\" ...\n"
     ]
    }
   ],
   "source": [
    "str(Hitters)"
   ]
  },
  {
   "cell_type": "markdown",
   "metadata": {},
   "source": [
    "Predict the salaries of the baseball players"
   ]
  },
  {
   "cell_type": "code",
   "execution_count": 395,
   "metadata": {},
   "outputs": [
    {
     "data": {
      "text/html": [
       "0"
      ],
      "text/latex": [
       "0"
      ],
      "text/markdown": [
       "0"
      ],
      "text/plain": [
       "[1] 0"
      ]
     },
     "metadata": {},
     "output_type": "display_data"
    }
   ],
   "source": [
    "#missing values\n",
    "NA_index <- is.na(Hitters)\n",
    "length(Hitters[NA_index])"
   ]
  },
  {
   "cell_type": "code",
   "execution_count": 396,
   "metadata": {},
   "outputs": [
    {
     "data": {
      "text/html": [
       "0"
      ],
      "text/latex": [
       "0"
      ],
      "text/markdown": [
       "0"
      ],
      "text/plain": [
       "[1] 0"
      ]
     },
     "metadata": {},
     "output_type": "display_data"
    }
   ],
   "source": [
    "#deal w/ MISSING values\n",
    "#easy way == elminate any row w/ missing value\n",
    "#na.omit == does that for you \n",
    "#produces new DF that overides original \n",
    "#new df == less rows; no missing values\n",
    "\n",
    "Hitters<-na.omit(Hitters)\n",
    "\n",
    "#check if any missing values\n",
    "#sum(is.na(Salary) == check if any NAs in variable salary\n",
    "#we get 0 == what we expected\n",
    "with(Hitters, sum(is.na(Salary)))"
   ]
  },
  {
   "cell_type": "code",
   "execution_count": 397,
   "metadata": {},
   "outputs": [
    {
     "data": {
      "text/html": [
       "0"
      ],
      "text/latex": [
       "0"
      ],
      "text/markdown": [
       "0"
      ],
      "text/plain": [
       "[1] 0"
      ]
     },
     "metadata": {},
     "output_type": "display_data"
    }
   ],
   "source": [
    "\n",
    "NA_index <- is.na(Hitters)\n",
    "\n",
    "length(Hitters[NA_index])"
   ]
  },
  {
   "cell_type": "code",
   "execution_count": 42,
   "metadata": {},
   "outputs": [
    {
     "data": {
      "text/html": [
       "263"
      ],
      "text/latex": [
       "263"
      ],
      "text/markdown": [
       "263"
      ],
      "text/plain": [
       "[1] 263"
      ]
     },
     "metadata": {},
     "output_type": "display_data"
    }
   ],
   "source": [
    "nrow(Hitters)"
   ]
  },
  {
   "cell_type": "code",
   "execution_count": 43,
   "metadata": {},
   "outputs": [
    {
     "data": {
      "text/html": [
       "20"
      ],
      "text/latex": [
       "20"
      ],
      "text/markdown": [
       "20"
      ],
      "text/plain": [
       "[1] 20"
      ]
     },
     "metadata": {},
     "output_type": "display_data"
    }
   ],
   "source": [
    "ncol(Hitters)"
   ]
  },
  {
   "cell_type": "markdown",
   "metadata": {},
   "source": [
    "### Best Subset  Regression \n",
    "\n",
    "looks through all possible regression modesl of all different subset sizes\n",
    "\n",
    "then looks for best of each size\n",
    "\n",
    "produces a sequence of models which is the best subset for each particular size "
   ]
  },
  {
   "cell_type": "code",
   "execution_count": 398,
   "metadata": {},
   "outputs": [],
   "source": [
    "#install.packages('leaps') "
   ]
  },
  {
   "cell_type": "code",
   "execution_count": 2,
   "metadata": {},
   "outputs": [],
   "source": [
    "#leaps == evaluate all best-subset models\n",
    "library(leaps)"
   ]
  },
  {
   "cell_type": "code",
   "execution_count": 5,
   "metadata": {},
   "outputs": [],
   "source": [
    "#data set in ISLR\n",
    "\n",
    "#200 baseball players\n",
    "#regsubsets == best subset modeling\n",
    "regfit.full <- regsubsets(Salary~.,data=Hitters)"
   ]
  },
  {
   "cell_type": "code",
   "execution_count": 6,
   "metadata": {},
   "outputs": [
    {
     "data": {
      "text/plain": [
       "Subset selection object\n",
       "Call: regsubsets.formula(Salary ~ ., data = Hitters)\n",
       "19 Variables  (and intercept)\n",
       "           Forced in Forced out\n",
       "AtBat          FALSE      FALSE\n",
       "Hits           FALSE      FALSE\n",
       "HmRun          FALSE      FALSE\n",
       "Runs           FALSE      FALSE\n",
       "RBI            FALSE      FALSE\n",
       "Walks          FALSE      FALSE\n",
       "Years          FALSE      FALSE\n",
       "CAtBat         FALSE      FALSE\n",
       "CHits          FALSE      FALSE\n",
       "CHmRun         FALSE      FALSE\n",
       "CRuns          FALSE      FALSE\n",
       "CRBI           FALSE      FALSE\n",
       "CWalks         FALSE      FALSE\n",
       "LeagueN        FALSE      FALSE\n",
       "DivisionW      FALSE      FALSE\n",
       "PutOuts        FALSE      FALSE\n",
       "Assists        FALSE      FALSE\n",
       "Errors         FALSE      FALSE\n",
       "NewLeagueN     FALSE      FALSE\n",
       "1 subsets of each size up to 8\n",
       "Selection Algorithm: exhaustive\n",
       "         AtBat Hits HmRun Runs RBI Walks Years CAtBat CHits CHmRun CRuns CRBI\n",
       "1  ( 1 ) \" \"   \" \"  \" \"   \" \"  \" \" \" \"   \" \"   \" \"    \" \"   \" \"    \" \"   \"*\" \n",
       "2  ( 1 ) \" \"   \"*\"  \" \"   \" \"  \" \" \" \"   \" \"   \" \"    \" \"   \" \"    \" \"   \"*\" \n",
       "3  ( 1 ) \" \"   \"*\"  \" \"   \" \"  \" \" \" \"   \" \"   \" \"    \" \"   \" \"    \" \"   \"*\" \n",
       "4  ( 1 ) \" \"   \"*\"  \" \"   \" \"  \" \" \" \"   \" \"   \" \"    \" \"   \" \"    \" \"   \"*\" \n",
       "5  ( 1 ) \"*\"   \"*\"  \" \"   \" \"  \" \" \" \"   \" \"   \" \"    \" \"   \" \"    \" \"   \"*\" \n",
       "6  ( 1 ) \"*\"   \"*\"  \" \"   \" \"  \" \" \"*\"   \" \"   \" \"    \" \"   \" \"    \" \"   \"*\" \n",
       "7  ( 1 ) \" \"   \"*\"  \" \"   \" \"  \" \" \"*\"   \" \"   \"*\"    \"*\"   \"*\"    \" \"   \" \" \n",
       "8  ( 1 ) \"*\"   \"*\"  \" \"   \" \"  \" \" \"*\"   \" \"   \" \"    \" \"   \"*\"    \"*\"   \" \" \n",
       "         CWalks LeagueN DivisionW PutOuts Assists Errors NewLeagueN\n",
       "1  ( 1 ) \" \"    \" \"     \" \"       \" \"     \" \"     \" \"    \" \"       \n",
       "2  ( 1 ) \" \"    \" \"     \" \"       \" \"     \" \"     \" \"    \" \"       \n",
       "3  ( 1 ) \" \"    \" \"     \" \"       \"*\"     \" \"     \" \"    \" \"       \n",
       "4  ( 1 ) \" \"    \" \"     \"*\"       \"*\"     \" \"     \" \"    \" \"       \n",
       "5  ( 1 ) \" \"    \" \"     \"*\"       \"*\"     \" \"     \" \"    \" \"       \n",
       "6  ( 1 ) \" \"    \" \"     \"*\"       \"*\"     \" \"     \" \"    \" \"       \n",
       "7  ( 1 ) \" \"    \" \"     \"*\"       \"*\"     \" \"     \" \"    \" \"       \n",
       "8  ( 1 ) \"*\"    \" \"     \"*\"       \"*\"     \" \"     \" \"    \" \"       "
      ]
     },
     "metadata": {},
     "output_type": "display_data"
    }
   ],
   "source": [
    "#got 19 variables\n",
    "#puts asterisk next to vars for best subsets\n",
    "summary(regfit.full)"
   ]
  },
  {
   "cell_type": "markdown",
   "metadata": {},
   "source": [
    "gives by default best-subsets up to size 8\n",
    "\n",
    "lets increase to 19, i.e., all the variables"
   ]
  },
  {
   "cell_type": "code",
   "execution_count": 7,
   "metadata": {},
   "outputs": [],
   "source": [
    "#19 variables\n",
    "regfit.full2 <- regsubsets(Salary~.,data=Hitters,nvmax=19)"
   ]
  },
  {
   "cell_type": "code",
   "execution_count": 9,
   "metadata": {},
   "outputs": [
    {
     "data": {
      "text/plain": [
       "Subset selection object\n",
       "Call: regsubsets.formula(Salary ~ ., data = Hitters, nvmax = 19)\n",
       "19 Variables  (and intercept)\n",
       "           Forced in Forced out\n",
       "AtBat          FALSE      FALSE\n",
       "Hits           FALSE      FALSE\n",
       "HmRun          FALSE      FALSE\n",
       "Runs           FALSE      FALSE\n",
       "RBI            FALSE      FALSE\n",
       "Walks          FALSE      FALSE\n",
       "Years          FALSE      FALSE\n",
       "CAtBat         FALSE      FALSE\n",
       "CHits          FALSE      FALSE\n",
       "CHmRun         FALSE      FALSE\n",
       "CRuns          FALSE      FALSE\n",
       "CRBI           FALSE      FALSE\n",
       "CWalks         FALSE      FALSE\n",
       "LeagueN        FALSE      FALSE\n",
       "DivisionW      FALSE      FALSE\n",
       "PutOuts        FALSE      FALSE\n",
       "Assists        FALSE      FALSE\n",
       "Errors         FALSE      FALSE\n",
       "NewLeagueN     FALSE      FALSE\n",
       "1 subsets of each size up to 19\n",
       "Selection Algorithm: exhaustive\n",
       "          AtBat Hits HmRun Runs RBI Walks Years CAtBat CHits CHmRun CRuns CRBI\n",
       "1  ( 1 )  \" \"   \" \"  \" \"   \" \"  \" \" \" \"   \" \"   \" \"    \" \"   \" \"    \" \"   \"*\" \n",
       "2  ( 1 )  \" \"   \"*\"  \" \"   \" \"  \" \" \" \"   \" \"   \" \"    \" \"   \" \"    \" \"   \"*\" \n",
       "3  ( 1 )  \" \"   \"*\"  \" \"   \" \"  \" \" \" \"   \" \"   \" \"    \" \"   \" \"    \" \"   \"*\" \n",
       "4  ( 1 )  \" \"   \"*\"  \" \"   \" \"  \" \" \" \"   \" \"   \" \"    \" \"   \" \"    \" \"   \"*\" \n",
       "5  ( 1 )  \"*\"   \"*\"  \" \"   \" \"  \" \" \" \"   \" \"   \" \"    \" \"   \" \"    \" \"   \"*\" \n",
       "6  ( 1 )  \"*\"   \"*\"  \" \"   \" \"  \" \" \"*\"   \" \"   \" \"    \" \"   \" \"    \" \"   \"*\" \n",
       "7  ( 1 )  \" \"   \"*\"  \" \"   \" \"  \" \" \"*\"   \" \"   \"*\"    \"*\"   \"*\"    \" \"   \" \" \n",
       "8  ( 1 )  \"*\"   \"*\"  \" \"   \" \"  \" \" \"*\"   \" \"   \" \"    \" \"   \"*\"    \"*\"   \" \" \n",
       "9  ( 1 )  \"*\"   \"*\"  \" \"   \" \"  \" \" \"*\"   \" \"   \"*\"    \" \"   \" \"    \"*\"   \"*\" \n",
       "10  ( 1 ) \"*\"   \"*\"  \" \"   \" \"  \" \" \"*\"   \" \"   \"*\"    \" \"   \" \"    \"*\"   \"*\" \n",
       "11  ( 1 ) \"*\"   \"*\"  \" \"   \" \"  \" \" \"*\"   \" \"   \"*\"    \" \"   \" \"    \"*\"   \"*\" \n",
       "12  ( 1 ) \"*\"   \"*\"  \" \"   \"*\"  \" \" \"*\"   \" \"   \"*\"    \" \"   \" \"    \"*\"   \"*\" \n",
       "13  ( 1 ) \"*\"   \"*\"  \" \"   \"*\"  \" \" \"*\"   \" \"   \"*\"    \" \"   \" \"    \"*\"   \"*\" \n",
       "14  ( 1 ) \"*\"   \"*\"  \"*\"   \"*\"  \" \" \"*\"   \" \"   \"*\"    \" \"   \" \"    \"*\"   \"*\" \n",
       "15  ( 1 ) \"*\"   \"*\"  \"*\"   \"*\"  \" \" \"*\"   \" \"   \"*\"    \"*\"   \" \"    \"*\"   \"*\" \n",
       "16  ( 1 ) \"*\"   \"*\"  \"*\"   \"*\"  \"*\" \"*\"   \" \"   \"*\"    \"*\"   \" \"    \"*\"   \"*\" \n",
       "17  ( 1 ) \"*\"   \"*\"  \"*\"   \"*\"  \"*\" \"*\"   \" \"   \"*\"    \"*\"   \" \"    \"*\"   \"*\" \n",
       "18  ( 1 ) \"*\"   \"*\"  \"*\"   \"*\"  \"*\" \"*\"   \"*\"   \"*\"    \"*\"   \" \"    \"*\"   \"*\" \n",
       "19  ( 1 ) \"*\"   \"*\"  \"*\"   \"*\"  \"*\" \"*\"   \"*\"   \"*\"    \"*\"   \"*\"    \"*\"   \"*\" \n",
       "          CWalks LeagueN DivisionW PutOuts Assists Errors NewLeagueN\n",
       "1  ( 1 )  \" \"    \" \"     \" \"       \" \"     \" \"     \" \"    \" \"       \n",
       "2  ( 1 )  \" \"    \" \"     \" \"       \" \"     \" \"     \" \"    \" \"       \n",
       "3  ( 1 )  \" \"    \" \"     \" \"       \"*\"     \" \"     \" \"    \" \"       \n",
       "4  ( 1 )  \" \"    \" \"     \"*\"       \"*\"     \" \"     \" \"    \" \"       \n",
       "5  ( 1 )  \" \"    \" \"     \"*\"       \"*\"     \" \"     \" \"    \" \"       \n",
       "6  ( 1 )  \" \"    \" \"     \"*\"       \"*\"     \" \"     \" \"    \" \"       \n",
       "7  ( 1 )  \" \"    \" \"     \"*\"       \"*\"     \" \"     \" \"    \" \"       \n",
       "8  ( 1 )  \"*\"    \" \"     \"*\"       \"*\"     \" \"     \" \"    \" \"       \n",
       "9  ( 1 )  \"*\"    \" \"     \"*\"       \"*\"     \" \"     \" \"    \" \"       \n",
       "10  ( 1 ) \"*\"    \" \"     \"*\"       \"*\"     \"*\"     \" \"    \" \"       \n",
       "11  ( 1 ) \"*\"    \"*\"     \"*\"       \"*\"     \"*\"     \" \"    \" \"       \n",
       "12  ( 1 ) \"*\"    \"*\"     \"*\"       \"*\"     \"*\"     \" \"    \" \"       \n",
       "13  ( 1 ) \"*\"    \"*\"     \"*\"       \"*\"     \"*\"     \"*\"    \" \"       \n",
       "14  ( 1 ) \"*\"    \"*\"     \"*\"       \"*\"     \"*\"     \"*\"    \" \"       \n",
       "15  ( 1 ) \"*\"    \"*\"     \"*\"       \"*\"     \"*\"     \"*\"    \" \"       \n",
       "16  ( 1 ) \"*\"    \"*\"     \"*\"       \"*\"     \"*\"     \"*\"    \" \"       \n",
       "17  ( 1 ) \"*\"    \"*\"     \"*\"       \"*\"     \"*\"     \"*\"    \"*\"       \n",
       "18  ( 1 ) \"*\"    \"*\"     \"*\"       \"*\"     \"*\"     \"*\"    \"*\"       \n",
       "19  ( 1 ) \"*\"    \"*\"     \"*\"       \"*\"     \"*\"     \"*\"    \"*\"       "
      ]
     },
     "metadata": {},
     "output_type": "display_data"
    }
   ],
   "source": [
    "reg.summary<- summary(regfit.full2)\n",
    "\n",
    "\n",
    "reg.summary"
   ]
  },
  {
   "cell_type": "code",
   "execution_count": 10,
   "metadata": {},
   "outputs": [
    {
     "data": {
      "text/html": [
       "<style>\n",
       ".list-inline {list-style: none; margin:0; padding: 0}\n",
       ".list-inline>li {display: inline-block}\n",
       ".list-inline>li:not(:last-child)::after {content: \"\\00b7\"; padding: 0 .5ex}\n",
       "</style>\n",
       "<ol class=list-inline><li>'which'</li><li>'rsq'</li><li>'rss'</li><li>'adjr2'</li><li>'cp'</li><li>'bic'</li><li>'outmat'</li><li>'obj'</li></ol>\n"
      ],
      "text/latex": [
       "\\begin{enumerate*}\n",
       "\\item 'which'\n",
       "\\item 'rsq'\n",
       "\\item 'rss'\n",
       "\\item 'adjr2'\n",
       "\\item 'cp'\n",
       "\\item 'bic'\n",
       "\\item 'outmat'\n",
       "\\item 'obj'\n",
       "\\end{enumerate*}\n"
      ],
      "text/markdown": [
       "1. 'which'\n",
       "2. 'rsq'\n",
       "3. 'rss'\n",
       "4. 'adjr2'\n",
       "5. 'cp'\n",
       "6. 'bic'\n",
       "7. 'outmat'\n",
       "8. 'obj'\n",
       "\n",
       "\n"
      ],
      "text/plain": [
       "[1] \"which\"  \"rsq\"    \"rss\"    \"adjr2\"  \"cp\"     \"bic\"    \"outmat\" \"obj\"   "
      ]
     },
     "metadata": {},
     "output_type": "display_data"
    }
   ],
   "source": [
    "#gives R^2, adjusted, BIC, etc. statistics\n",
    "#good for model selection \n",
    "names(reg.summary)"
   ]
  },
  {
   "cell_type": "code",
   "execution_count": 11,
   "metadata": {},
   "outputs": [
    {
     "name": "stderr",
     "output_type": "stream",
     "text": [
      "Warning message in plot.window(...):\n",
      "\"\"xlap\" is not a graphical parameter\"\n",
      "Warning message in plot.xy(xy, type, ...):\n",
      "\"\"xlap\" is not a graphical parameter\"\n",
      "Warning message in axis(side = side, at = at, labels = labels, ...):\n",
      "\"\"xlap\" is not a graphical parameter\"\n",
      "Warning message in axis(side = side, at = at, labels = labels, ...):\n",
      "\"\"xlap\" is not a graphical parameter\"\n",
      "Warning message in box(...):\n",
      "\"\"xlap\" is not a graphical parameter\"\n",
      "Warning message in title(...):\n",
      "\"\"xlap\" is not a graphical parameter\"\n"
     ]
    },
    {
     "data": {
      "image/png": "[encoded data removed]",
      "text/plain": [
       "plot without title"
      ]
     },
     "metadata": {
      "image/png": {
       "height": 420,
       "width": 420
      },
      "text/plain": {
       "height": 420,
       "width": 420
      }
     },
     "output_type": "display_data"
    }
   ],
   "source": [
    "#plot cp component of ergsummary \n",
    "#cp == estimate of predictor error\n",
    "#plotted against number of variables\n",
    "#pick model with LOWEST CP\n",
    "\n",
    "#model w/ 10 variables ideal here(smallest CP)\n",
    "plot(reg.summary$cp,xlap='Number of Variables',ylab='Cp')"
   ]
  },
  {
   "cell_type": "code",
   "execution_count": 14,
   "metadata": {},
   "outputs": [
    {
     "data": {
      "text/html": [
       "10"
      ],
      "text/latex": [
       "10"
      ],
      "text/markdown": [
       "10"
      ],
      "text/plain": [
       "[1] 10"
      ]
     },
     "metadata": {},
     "output_type": "display_data"
    }
   ],
   "source": [
    "#show which is the minimum CP value by variables\n",
    "which.min(reg.summary$cp)"
   ]
  },
  {
   "cell_type": "code",
   "execution_count": 16,
   "metadata": {},
   "outputs": [
    {
     "name": "stderr",
     "output_type": "stream",
     "text": [
      "Warning message in plot.window(...):\n",
      "\"\"xlap\" is not a graphical parameter\"\n",
      "Warning message in plot.xy(xy, type, ...):\n",
      "\"\"xlap\" is not a graphical parameter\"\n",
      "Warning message in axis(side = side, at = at, labels = labels, ...):\n",
      "\"\"xlap\" is not a graphical parameter\"\n",
      "Warning message in axis(side = side, at = at, labels = labels, ...):\n",
      "\"\"xlap\" is not a graphical parameter\"\n",
      "Warning message in box(...):\n",
      "\"\"xlap\" is not a graphical parameter\"\n",
      "Warning message in title(...):\n",
      "\"\"xlap\" is not a graphical parameter\"\n"
     ]
    },
    {
     "data": {
      "image/png": "[encoded data removed]",
      "text/plain": [
       "plot without title"
      ]
     },
     "metadata": {
      "image/png": {
       "height": 420,
       "width": 420
      },
      "text/plain": {
       "height": 420,
       "width": 420
      }
     },
     "output_type": "display_data"
    }
   ],
   "source": [
    "#color min CP in red\n",
    "plot(reg.summary$cp,xlap='Number of Variables',ylab='Cp')\n",
    "\n",
    "#10 == x\n",
    "#reg.summary$cp[10] == y == cp == 5.00931724974294\n",
    "points(10,reg.summary$cp[10],pch=20,col='red')"
   ]
  },
  {
   "cell_type": "code",
   "execution_count": 19,
   "metadata": {},
   "outputs": [
    {
     "data": {
      "text/html": [
       "5.00931724974294"
      ],
      "text/latex": [
       "5.00931724974294"
      ],
      "text/markdown": [
       "5.00931724974294"
      ],
      "text/plain": [
       "[1] 5.009317"
      ]
     },
     "metadata": {},
     "output_type": "display_data"
    }
   ],
   "source": [
    "#what value is the cp min?\n",
    "reg.summary$cp[10]"
   ]
  },
  {
   "cell_type": "code",
   "execution_count": 20,
   "metadata": {},
   "outputs": [],
   "source": [
    "#?points"
   ]
  },
  {
   "cell_type": "markdown",
   "metadata": {},
   "source": [
    "Plot method for 'regsubsets' object"
   ]
  },
  {
   "cell_type": "code",
   "execution_count": 21,
   "metadata": {},
   "outputs": [
    {
     "data": {
      "image/png": "[encoded data removed]",
      "text/plain": [
       "plot without title"
      ]
     },
     "metadata": {
      "image/png": {
       "height": 420,
       "width": 420
      },
      "text/plain": {
       "height": 420,
       "width": 420
      }
     },
     "output_type": "display_data"
    }
   ],
   "source": [
    "#pattern picture\n",
    "#y-axis == cp; small is good\n",
    "#on top, it is the best, corresponds to 10\n",
    "#as it goes down, it gets worse and worse\n",
    "\n",
    "#bad cp == correspond to models w/ all variables in (bottom of plot)\n",
    "\n",
    "#black squares == vars are in\n",
    "#white squares == vars are out\n",
    "\n",
    "plot(regfit.full2, scale='Cp')"
   ]
  },
  {
   "cell_type": "code",
   "execution_count": 22,
   "metadata": {},
   "outputs": [
    {
     "data": {
      "text/html": [
       "<style>\n",
       ".dl-inline {width: auto; margin:0; padding: 0}\n",
       ".dl-inline>dt, .dl-inline>dd {float: none; width: auto; display: inline-block}\n",
       ".dl-inline>dt::after {content: \":\\0020\"; padding-right: .5ex}\n",
       ".dl-inline>dt:not(:first-of-type) {padding-left: .5ex}\n",
       "</style><dl class=dl-inline><dt>(Intercept)</dt><dd>162.535442040545</dd><dt>AtBat</dt><dd>-2.16865005340437</dd><dt>Hits</dt><dd>6.91801749476659</dd><dt>Walks</dt><dd>5.7732246470264</dd><dt>CAtBat</dt><dd>-0.130079783913646</dd><dt>CRuns</dt><dd>1.40824900877044</dd><dt>CRBI</dt><dd>0.774312153250204</dd><dt>CWalks</dt><dd>-0.830826351501743</dd><dt>DivisionW</dt><dd>-112.380057493543</dd><dt>PutOuts</dt><dd>0.297372596603942</dd><dt>Assists</dt><dd>0.283168028635278</dd></dl>\n"
      ],
      "text/latex": [
       "\\begin{description*}\n",
       "\\item[(Intercept)] 162.535442040545\n",
       "\\item[AtBat] -2.16865005340437\n",
       "\\item[Hits] 6.91801749476659\n",
       "\\item[Walks] 5.7732246470264\n",
       "\\item[CAtBat] -0.130079783913646\n",
       "\\item[CRuns] 1.40824900877044\n",
       "\\item[CRBI] 0.774312153250204\n",
       "\\item[CWalks] -0.830826351501743\n",
       "\\item[DivisionW] -112.380057493543\n",
       "\\item[PutOuts] 0.297372596603942\n",
       "\\item[Assists] 0.283168028635278\n",
       "\\end{description*}\n"
      ],
      "text/markdown": [
       "(Intercept)\n",
       ":   162.535442040545AtBat\n",
       ":   -2.16865005340437Hits\n",
       ":   6.91801749476659Walks\n",
       ":   5.7732246470264CAtBat\n",
       ":   -0.130079783913646CRuns\n",
       ":   1.40824900877044CRBI\n",
       ":   0.774312153250204CWalks\n",
       ":   -0.830826351501743DivisionW\n",
       ":   -112.380057493543PutOuts\n",
       ":   0.297372596603942Assists\n",
       ":   0.283168028635278\n",
       "\n"
      ],
      "text/plain": [
       " (Intercept)        AtBat         Hits        Walks       CAtBat        CRuns \n",
       " 162.5354420   -2.1686501    6.9180175    5.7732246   -0.1300798    1.4082490 \n",
       "        CRBI       CWalks    DivisionW      PutOuts      Assists \n",
       "   0.7743122   -0.8308264 -112.3800575    0.2973726    0.2831680 "
      ]
     },
     "metadata": {},
     "output_type": "display_data"
    }
   ],
   "source": [
    "#we chose model 10\n",
    "# ask for coefficients of 10 variables in model \n",
    "coef(regfit.full2,10)"
   ]
  },
  {
   "cell_type": "markdown",
   "metadata": {},
   "source": [
    "### Forward Stepwise Method\n",
    "\n",
    "greedy algorithm (best next variable)\n",
    "\n",
    "nested sequence of models == less adventourous search\n",
    "\n",
    "adds predictors that improve the model the most\n"
   ]
  },
  {
   "cell_type": "markdown",
   "metadata": {},
   "source": [
    "Here we use the 'regsubsets' function but specify the 'method=\"forward\"' option:"
   ]
  },
  {
   "cell_type": "code",
   "execution_count": 117,
   "metadata": {
    "scrolled": true
   },
   "outputs": [],
   "source": [
    "regfit.fwd<-regsubsets(Salary~.,\n",
    "        data=Hitters,nvmax=19,method='forward')\n",
    "#each new model includes predictior of previous model\n",
    "reg.summary2 <- summary(regfit.fwd)\n",
    "#reg.summary2"
   ]
  },
  {
   "cell_type": "code",
   "execution_count": 118,
   "metadata": {},
   "outputs": [
    {
     "data": {
      "image/png": "[encoded data removed]",
      "text/plain": [
       "plot without title"
      ]
     },
     "metadata": {
      "image/png": {
       "height": 420,
       "width": 420
      },
      "text/plain": {
       "height": 420,
       "width": 420
      }
     },
     "output_type": "display_data"
    }
   ],
   "source": [
    "#similar to best subsets\n",
    "#low cp similar\n",
    "plot(regfit.fwd,scale='Cp')"
   ]
  },
  {
   "cell_type": "code",
   "execution_count": 26,
   "metadata": {},
   "outputs": [
    {
     "name": "stderr",
     "output_type": "stream",
     "text": [
      "Warning message in plot.window(...):\n",
      "\"\"xlap\" is not a graphical parameter\"\n",
      "Warning message in plot.xy(xy, type, ...):\n",
      "\"\"xlap\" is not a graphical parameter\"\n",
      "Warning message in axis(side = side, at = at, labels = labels, ...):\n",
      "\"\"xlap\" is not a graphical parameter\"\n",
      "Warning message in axis(side = side, at = at, labels = labels, ...):\n",
      "\"\"xlap\" is not a graphical parameter\"\n",
      "Warning message in box(...):\n",
      "\"\"xlap\" is not a graphical parameter\"\n",
      "Warning message in title(...):\n",
      "\"\"xlap\" is not a graphical parameter\"\n"
     ]
    },
    {
     "data": {
      "image/png": "[encoded data removed]",
      "text/plain": [
       "plot without title"
      ]
     },
     "metadata": {
      "image/png": {
       "height": 420,
       "width": 420
      },
      "text/plain": {
       "height": 420,
       "width": 420
      }
     },
     "output_type": "display_data"
    }
   ],
   "source": [
    "plot(reg.summary2$cp,xlap='Number of Variables',ylab='Cp')\n",
    "points(10,reg.summary2$cp[10],pch=20,col='red')"
   ]
  },
  {
   "cell_type": "markdown",
   "metadata": {},
   "source": [
    "Let's do the same analysis for BIC to determine the best model"
   ]
  },
  {
   "cell_type": "code",
   "execution_count": 27,
   "metadata": {},
   "outputs": [
    {
     "data": {
      "text/html": [
       "<style>\n",
       ".list-inline {list-style: none; margin:0; padding: 0}\n",
       ".list-inline>li {display: inline-block}\n",
       ".list-inline>li:not(:last-child)::after {content: \"\\00b7\"; padding: 0 .5ex}\n",
       "</style>\n",
       "<ol class=list-inline><li>'np'</li><li>'nrbar'</li><li>'d'</li><li>'rbar'</li><li>'thetab'</li><li>'first'</li><li>'last'</li><li>'vorder'</li><li>'tol'</li><li>'rss'</li><li>'bound'</li><li>'nvmax'</li><li>'ress'</li><li>'ir'</li><li>'nbest'</li><li>'lopt'</li><li>'il'</li><li>'ier'</li><li>'xnames'</li><li>'method'</li><li>'force.in'</li><li>'force.out'</li><li>'sserr'</li><li>'intercept'</li><li>'lindep'</li><li>'nullrss'</li><li>'nn'</li><li>'call'</li></ol>\n"
      ],
      "text/latex": [
       "\\begin{enumerate*}\n",
       "\\item 'np'\n",
       "\\item 'nrbar'\n",
       "\\item 'd'\n",
       "\\item 'rbar'\n",
       "\\item 'thetab'\n",
       "\\item 'first'\n",
       "\\item 'last'\n",
       "\\item 'vorder'\n",
       "\\item 'tol'\n",
       "\\item 'rss'\n",
       "\\item 'bound'\n",
       "\\item 'nvmax'\n",
       "\\item 'ress'\n",
       "\\item 'ir'\n",
       "\\item 'nbest'\n",
       "\\item 'lopt'\n",
       "\\item 'il'\n",
       "\\item 'ier'\n",
       "\\item 'xnames'\n",
       "\\item 'method'\n",
       "\\item 'force.in'\n",
       "\\item 'force.out'\n",
       "\\item 'sserr'\n",
       "\\item 'intercept'\n",
       "\\item 'lindep'\n",
       "\\item 'nullrss'\n",
       "\\item 'nn'\n",
       "\\item 'call'\n",
       "\\end{enumerate*}\n"
      ],
      "text/markdown": [
       "1. 'np'\n",
       "2. 'nrbar'\n",
       "3. 'd'\n",
       "4. 'rbar'\n",
       "5. 'thetab'\n",
       "6. 'first'\n",
       "7. 'last'\n",
       "8. 'vorder'\n",
       "9. 'tol'\n",
       "10. 'rss'\n",
       "11. 'bound'\n",
       "12. 'nvmax'\n",
       "13. 'ress'\n",
       "14. 'ir'\n",
       "15. 'nbest'\n",
       "16. 'lopt'\n",
       "17. 'il'\n",
       "18. 'ier'\n",
       "19. 'xnames'\n",
       "20. 'method'\n",
       "21. 'force.in'\n",
       "22. 'force.out'\n",
       "23. 'sserr'\n",
       "24. 'intercept'\n",
       "25. 'lindep'\n",
       "26. 'nullrss'\n",
       "27. 'nn'\n",
       "28. 'call'\n",
       "\n",
       "\n"
      ],
      "text/plain": [
       " [1] \"np\"        \"nrbar\"     \"d\"         \"rbar\"      \"thetab\"    \"first\"    \n",
       " [7] \"last\"      \"vorder\"    \"tol\"       \"rss\"       \"bound\"     \"nvmax\"    \n",
       "[13] \"ress\"      \"ir\"        \"nbest\"     \"lopt\"      \"il\"        \"ier\"      \n",
       "[19] \"xnames\"    \"method\"    \"force.in\"  \"force.out\" \"sserr\"     \"intercept\"\n",
       "[25] \"lindep\"    \"nullrss\"   \"nn\"        \"call\"     "
      ]
     },
     "metadata": {},
     "output_type": "display_data"
    }
   ],
   "source": [
    "names(regfit.fwd)"
   ]
  },
  {
   "cell_type": "code",
   "execution_count": 32,
   "metadata": {},
   "outputs": [
    {
     "data": {
      "text/html": [
       "<style>\n",
       ".list-inline {list-style: none; margin:0; padding: 0}\n",
       ".list-inline>li {display: inline-block}\n",
       ".list-inline>li:not(:last-child)::after {content: \"\\00b7\"; padding: 0 .5ex}\n",
       "</style>\n",
       "<ol class=list-inline><li>'which'</li><li>'rsq'</li><li>'rss'</li><li>'adjr2'</li><li>'cp'</li><li>'bic'</li><li>'outmat'</li><li>'obj'</li></ol>\n"
      ],
      "text/latex": [
       "\\begin{enumerate*}\n",
       "\\item 'which'\n",
       "\\item 'rsq'\n",
       "\\item 'rss'\n",
       "\\item 'adjr2'\n",
       "\\item 'cp'\n",
       "\\item 'bic'\n",
       "\\item 'outmat'\n",
       "\\item 'obj'\n",
       "\\end{enumerate*}\n"
      ],
      "text/markdown": [
       "1. 'which'\n",
       "2. 'rsq'\n",
       "3. 'rss'\n",
       "4. 'adjr2'\n",
       "5. 'cp'\n",
       "6. 'bic'\n",
       "7. 'outmat'\n",
       "8. 'obj'\n",
       "\n",
       "\n"
      ],
      "text/plain": [
       "[1] \"which\"  \"rsq\"    \"rss\"    \"adjr2\"  \"cp\"     \"bic\"    \"outmat\" \"obj\"   "
      ]
     },
     "metadata": {},
     "output_type": "display_data"
    }
   ],
   "source": [
    "names(reg.summary2)"
   ]
  },
  {
   "cell_type": "code",
   "execution_count": 39,
   "metadata": {},
   "outputs": [
    {
     "data": {
      "text/html": [
       "6"
      ],
      "text/latex": [
       "6"
      ],
      "text/markdown": [
       "6"
      ],
      "text/plain": [
       "[1] 6"
      ]
     },
     "metadata": {},
     "output_type": "display_data"
    }
   ],
   "source": [
    "which.min(reg.summary2$bic)"
   ]
  },
  {
   "cell_type": "code",
   "execution_count": 38,
   "metadata": {},
   "outputs": [
    {
     "name": "stderr",
     "output_type": "stream",
     "text": [
      "Warning message in plot.window(...):\n",
      "\"\"xlap\" is not a graphical parameter\"\n",
      "Warning message in plot.xy(xy, type, ...):\n",
      "\"\"xlap\" is not a graphical parameter\"\n",
      "Warning message in axis(side = side, at = at, labels = labels, ...):\n",
      "\"\"xlap\" is not a graphical parameter\"\n",
      "Warning message in axis(side = side, at = at, labels = labels, ...):\n",
      "\"\"xlap\" is not a graphical parameter\"\n",
      "Warning message in box(...):\n",
      "\"\"xlap\" is not a graphical parameter\"\n",
      "Warning message in title(...):\n",
      "\"\"xlap\" is not a graphical parameter\"\n"
     ]
    },
    {
     "data": {
      "image/png": "[encoded data removed]",
      "text/plain": [
       "plot without title"
      ]
     },
     "metadata": {
      "image/png": {
       "height": 420,
       "width": 420
      },
      "text/plain": {
       "height": 420,
       "width": 420
      }
     },
     "output_type": "display_data"
    }
   ],
   "source": [
    "plot(reg.summary2$bic,xlap='Number of Variables',ylab='Bic')\n",
    "points(6,reg.summary2$bic[6],pch=20,col='red')"
   ]
  },
  {
   "cell_type": "code",
   "execution_count": 33,
   "metadata": {},
   "outputs": [
    {
     "data": {
      "image/png": "[encoded data removed]",
      "text/plain": [
       "plot without title"
      ]
     },
     "metadata": {
      "image/png": {
       "height": 420,
       "width": 420
      },
      "text/plain": {
       "height": 420,
       "width": 420
      }
     },
     "output_type": "display_data"
    }
   ],
   "source": [
    "plot(regfit.fwd,scale='bic')"
   ]
  },
  {
   "cell_type": "code",
   "execution_count": null,
   "metadata": {},
   "outputs": [],
   "source": [
    "plot(regfit.fwd,scale='Cp')"
   ]
  },
  {
   "cell_type": "markdown",
   "metadata": {},
   "source": [
    "### Model Selection Using a Validation Set\n",
    "\n",
    "Let's make a training and validation set, so that we can choose a good subset model\n",
    "\n",
    "Slightly different approach from what was done in the book"
   ]
  },
  {
   "cell_type": "markdown",
   "metadata": {},
   "source": [
    "Create a Training set"
   ]
  },
  {
   "cell_type": "code",
   "execution_count": 374,
   "metadata": {},
   "outputs": [
    {
     "data": {
      "text/html": [
       "<style>\n",
       ".list-inline {list-style: none; margin:0; padding: 0}\n",
       ".list-inline>li {display: inline-block}\n",
       ".list-inline>li:not(:last-child)::after {content: \"\\00b7\"; padding: 0 .5ex}\n",
       "</style>\n",
       "<ol class=list-inline><li>263</li><li>20</li></ol>\n"
      ],
      "text/latex": [
       "\\begin{enumerate*}\n",
       "\\item 263\n",
       "\\item 20\n",
       "\\end{enumerate*}\n"
      ],
      "text/markdown": [
       "1. 263\n",
       "2. 20\n",
       "\n",
       "\n"
      ],
      "text/plain": [
       "[1] 263  20"
      ]
     },
     "metadata": {},
     "output_type": "display_data"
    }
   ],
   "source": [
    "dim(Hitters)"
   ]
  },
  {
   "cell_type": "code",
   "execution_count": 379,
   "metadata": {
    "scrolled": false
   },
   "outputs": [
    {
     "data": {
      "text/html": [
       "<style>\n",
       ".list-inline {list-style: none; margin:0; padding: 0}\n",
       ".list-inline>li {display: inline-block}\n",
       ".list-inline>li:not(:last-child)::after {content: \"\\00b7\"; padding: 0 .5ex}\n",
       "</style>\n",
       "<ol class=list-inline><li>167</li><li>129</li><li>187</li><li>85</li><li>79</li><li>213</li><li>37</li><li>105</li><li>217</li><li>110</li><li>229</li><li>165</li><li>34</li><li>106</li><li>126</li><li>89</li><li>172</li><li>207</li><li>33</li><li>84</li><li>163</li><li>70</li><li>74</li><li>42</li><li>166</li><li>111</li><li>148</li><li>156</li><li>20</li><li>44</li><li>121</li><li>87</li><li>242</li><li>233</li><li>40</li><li>247</li><li>25</li><li>119</li><li>198</li><li>122</li><li>39</li><li>179</li><li>240</li><li>134</li><li>24</li><li>160</li><li>14</li><li>130</li><li>45</li><li>146</li><li>22</li><li>206</li><li>193</li><li>115</li><li>104</li><li>231</li><li>208</li><li>209</li><li>103</li><li>75</li><li>13</li><li>253</li><li>176</li><li>248</li><li>23</li><li>254</li><li>244</li><li>205</li><li>29</li><li>141</li><li>150</li><li>236</li><li>108</li><li>48</li><li>245</li><li>215</li><li>149</li><li>31</li><li>102</li><li>145</li><li>73</li><li>232</li><li>83</li><li>118</li><li>90</li><li>190</li><li>107</li><li>64</li><li>196</li><li>60</li><li>51</li><li>251</li><li>138</li><li>262</li><li>43</li><li>26</li><li>143</li><li>195</li><li>152</li><li>178</li><li>223</li><li>219</li><li>202</li><li>181</li><li>222</li><li>169</li><li>1</li><li>239</li><li>78</li><li>211</li><li>246</li><li>28</li><li>116</li><li>257</li><li>61</li><li>113</li><li>86</li><li>71</li><li>225</li><li>99</li><li>173</li><li>234</li><li>49</li><li>256</li><li>174</li><li>194</li><li>50</li><li>135</li><li>238</li><li>235</li><li>230</li><li>263</li><li>53</li><li>100</li><li>164</li><li>65</li><li>142</li><li>175</li><li>140</li><li>124</li><li>224</li><li>77</li><li>159</li><li>98</li><li>66</li><li>19</li><li>17</li><li>228</li><li>204</li><li>186</li><li>35</li><li>144</li><li>46</li><li>180</li><li>109</li><li>210</li><li>16</li><li>161</li><li>9</li><li>137</li><li>92</li><li>162</li><li>10</li><li>259</li><li>32</li><li>243</li><li>95</li><li>154</li><li>93</li><li>12</li><li>255</li><li>177</li><li>15</li><li>2</li><li>128</li><li>67</li><li>183</li><li>117</li><li>197</li><li>5</li></ol>\n"
      ],
      "text/latex": [
       "\\begin{enumerate*}\n",
       "\\item 167\n",
       "\\item 129\n",
       "\\item 187\n",
       "\\item 85\n",
       "\\item 79\n",
       "\\item 213\n",
       "\\item 37\n",
       "\\item 105\n",
       "\\item 217\n",
       "\\item 110\n",
       "\\item 229\n",
       "\\item 165\n",
       "\\item 34\n",
       "\\item 106\n",
       "\\item 126\n",
       "\\item 89\n",
       "\\item 172\n",
       "\\item 207\n",
       "\\item 33\n",
       "\\item 84\n",
       "\\item 163\n",
       "\\item 70\n",
       "\\item 74\n",
       "\\item 42\n",
       "\\item 166\n",
       "\\item 111\n",
       "\\item 148\n",
       "\\item 156\n",
       "\\item 20\n",
       "\\item 44\n",
       "\\item 121\n",
       "\\item 87\n",
       "\\item 242\n",
       "\\item 233\n",
       "\\item 40\n",
       "\\item 247\n",
       "\\item 25\n",
       "\\item 119\n",
       "\\item 198\n",
       "\\item 122\n",
       "\\item 39\n",
       "\\item 179\n",
       "\\item 240\n",
       "\\item 134\n",
       "\\item 24\n",
       "\\item 160\n",
       "\\item 14\n",
       "\\item 130\n",
       "\\item 45\n",
       "\\item 146\n",
       "\\item 22\n",
       "\\item 206\n",
       "\\item 193\n",
       "\\item 115\n",
       "\\item 104\n",
       "\\item 231\n",
       "\\item 208\n",
       "\\item 209\n",
       "\\item 103\n",
       "\\item 75\n",
       "\\item 13\n",
       "\\item 253\n",
       "\\item 176\n",
       "\\item 248\n",
       "\\item 23\n",
       "\\item 254\n",
       "\\item 244\n",
       "\\item 205\n",
       "\\item 29\n",
       "\\item 141\n",
       "\\item 150\n",
       "\\item 236\n",
       "\\item 108\n",
       "\\item 48\n",
       "\\item 245\n",
       "\\item 215\n",
       "\\item 149\n",
       "\\item 31\n",
       "\\item 102\n",
       "\\item 145\n",
       "\\item 73\n",
       "\\item 232\n",
       "\\item 83\n",
       "\\item 118\n",
       "\\item 90\n",
       "\\item 190\n",
       "\\item 107\n",
       "\\item 64\n",
       "\\item 196\n",
       "\\item 60\n",
       "\\item 51\n",
       "\\item 251\n",
       "\\item 138\n",
       "\\item 262\n",
       "\\item 43\n",
       "\\item 26\n",
       "\\item 143\n",
       "\\item 195\n",
       "\\item 152\n",
       "\\item 178\n",
       "\\item 223\n",
       "\\item 219\n",
       "\\item 202\n",
       "\\item 181\n",
       "\\item 222\n",
       "\\item 169\n",
       "\\item 1\n",
       "\\item 239\n",
       "\\item 78\n",
       "\\item 211\n",
       "\\item 246\n",
       "\\item 28\n",
       "\\item 116\n",
       "\\item 257\n",
       "\\item 61\n",
       "\\item 113\n",
       "\\item 86\n",
       "\\item 71\n",
       "\\item 225\n",
       "\\item 99\n",
       "\\item 173\n",
       "\\item 234\n",
       "\\item 49\n",
       "\\item 256\n",
       "\\item 174\n",
       "\\item 194\n",
       "\\item 50\n",
       "\\item 135\n",
       "\\item 238\n",
       "\\item 235\n",
       "\\item 230\n",
       "\\item 263\n",
       "\\item 53\n",
       "\\item 100\n",
       "\\item 164\n",
       "\\item 65\n",
       "\\item 142\n",
       "\\item 175\n",
       "\\item 140\n",
       "\\item 124\n",
       "\\item 224\n",
       "\\item 77\n",
       "\\item 159\n",
       "\\item 98\n",
       "\\item 66\n",
       "\\item 19\n",
       "\\item 17\n",
       "\\item 228\n",
       "\\item 204\n",
       "\\item 186\n",
       "\\item 35\n",
       "\\item 144\n",
       "\\item 46\n",
       "\\item 180\n",
       "\\item 109\n",
       "\\item 210\n",
       "\\item 16\n",
       "\\item 161\n",
       "\\item 9\n",
       "\\item 137\n",
       "\\item 92\n",
       "\\item 162\n",
       "\\item 10\n",
       "\\item 259\n",
       "\\item 32\n",
       "\\item 243\n",
       "\\item 95\n",
       "\\item 154\n",
       "\\item 93\n",
       "\\item 12\n",
       "\\item 255\n",
       "\\item 177\n",
       "\\item 15\n",
       "\\item 2\n",
       "\\item 128\n",
       "\\item 67\n",
       "\\item 183\n",
       "\\item 117\n",
       "\\item 197\n",
       "\\item 5\n",
       "\\end{enumerate*}\n"
      ],
      "text/markdown": [
       "1. 167\n",
       "2. 129\n",
       "3. 187\n",
       "4. 85\n",
       "5. 79\n",
       "6. 213\n",
       "7. 37\n",
       "8. 105\n",
       "9. 217\n",
       "10. 110\n",
       "11. 229\n",
       "12. 165\n",
       "13. 34\n",
       "14. 106\n",
       "15. 126\n",
       "16. 89\n",
       "17. 172\n",
       "18. 207\n",
       "19. 33\n",
       "20. 84\n",
       "21. 163\n",
       "22. 70\n",
       "23. 74\n",
       "24. 42\n",
       "25. 166\n",
       "26. 111\n",
       "27. 148\n",
       "28. 156\n",
       "29. 20\n",
       "30. 44\n",
       "31. 121\n",
       "32. 87\n",
       "33. 242\n",
       "34. 233\n",
       "35. 40\n",
       "36. 247\n",
       "37. 25\n",
       "38. 119\n",
       "39. 198\n",
       "40. 122\n",
       "41. 39\n",
       "42. 179\n",
       "43. 240\n",
       "44. 134\n",
       "45. 24\n",
       "46. 160\n",
       "47. 14\n",
       "48. 130\n",
       "49. 45\n",
       "50. 146\n",
       "51. 22\n",
       "52. 206\n",
       "53. 193\n",
       "54. 115\n",
       "55. 104\n",
       "56. 231\n",
       "57. 208\n",
       "58. 209\n",
       "59. 103\n",
       "60. 75\n",
       "61. 13\n",
       "62. 253\n",
       "63. 176\n",
       "64. 248\n",
       "65. 23\n",
       "66. 254\n",
       "67. 244\n",
       "68. 205\n",
       "69. 29\n",
       "70. 141\n",
       "71. 150\n",
       "72. 236\n",
       "73. 108\n",
       "74. 48\n",
       "75. 245\n",
       "76. 215\n",
       "77. 149\n",
       "78. 31\n",
       "79. 102\n",
       "80. 145\n",
       "81. 73\n",
       "82. 232\n",
       "83. 83\n",
       "84. 118\n",
       "85. 90\n",
       "86. 190\n",
       "87. 107\n",
       "88. 64\n",
       "89. 196\n",
       "90. 60\n",
       "91. 51\n",
       "92. 251\n",
       "93. 138\n",
       "94. 262\n",
       "95. 43\n",
       "96. 26\n",
       "97. 143\n",
       "98. 195\n",
       "99. 152\n",
       "100. 178\n",
       "101. 223\n",
       "102. 219\n",
       "103. 202\n",
       "104. 181\n",
       "105. 222\n",
       "106. 169\n",
       "107. 1\n",
       "108. 239\n",
       "109. 78\n",
       "110. 211\n",
       "111. 246\n",
       "112. 28\n",
       "113. 116\n",
       "114. 257\n",
       "115. 61\n",
       "116. 113\n",
       "117. 86\n",
       "118. 71\n",
       "119. 225\n",
       "120. 99\n",
       "121. 173\n",
       "122. 234\n",
       "123. 49\n",
       "124. 256\n",
       "125. 174\n",
       "126. 194\n",
       "127. 50\n",
       "128. 135\n",
       "129. 238\n",
       "130. 235\n",
       "131. 230\n",
       "132. 263\n",
       "133. 53\n",
       "134. 100\n",
       "135. 164\n",
       "136. 65\n",
       "137. 142\n",
       "138. 175\n",
       "139. 140\n",
       "140. 124\n",
       "141. 224\n",
       "142. 77\n",
       "143. 159\n",
       "144. 98\n",
       "145. 66\n",
       "146. 19\n",
       "147. 17\n",
       "148. 228\n",
       "149. 204\n",
       "150. 186\n",
       "151. 35\n",
       "152. 144\n",
       "153. 46\n",
       "154. 180\n",
       "155. 109\n",
       "156. 210\n",
       "157. 16\n",
       "158. 161\n",
       "159. 9\n",
       "160. 137\n",
       "161. 92\n",
       "162. 162\n",
       "163. 10\n",
       "164. 259\n",
       "165. 32\n",
       "166. 243\n",
       "167. 95\n",
       "168. 154\n",
       "169. 93\n",
       "170. 12\n",
       "171. 255\n",
       "172. 177\n",
       "173. 15\n",
       "174. 2\n",
       "175. 128\n",
       "176. 67\n",
       "177. 183\n",
       "178. 117\n",
       "179. 197\n",
       "180. 5\n",
       "\n",
       "\n"
      ],
      "text/plain": [
       "  [1] 167 129 187  85  79 213  37 105 217 110 229 165  34 106 126  89 172 207\n",
       " [19]  33  84 163  70  74  42 166 111 148 156  20  44 121  87 242 233  40 247\n",
       " [37]  25 119 198 122  39 179 240 134  24 160  14 130  45 146  22 206 193 115\n",
       " [55] 104 231 208 209 103  75  13 253 176 248  23 254 244 205  29 141 150 236\n",
       " [73] 108  48 245 215 149  31 102 145  73 232  83 118  90 190 107  64 196  60\n",
       " [91]  51 251 138 262  43  26 143 195 152 178 223 219 202 181 222 169   1 239\n",
       "[109]  78 211 246  28 116 257  61 113  86  71 225  99 173 234  49 256 174 194\n",
       "[127]  50 135 238 235 230 263  53 100 164  65 142 175 140 124 224  77 159  98\n",
       "[145]  66  19  17 228 204 186  35 144  46 180 109 210  16 161   9 137  92 162\n",
       "[163]  10 259  32 243  95 154  93  12 255 177  15   2 128  67 183 117 197   5"
      ]
     },
     "metadata": {},
     "output_type": "display_data"
    }
   ],
   "source": [
    "#keeps numbers consistent eberytime\n",
    "#good for repeated sampling\n",
    "#can set to any number\n",
    "#does not matter\n",
    "set.seed(1)\n",
    "#seq -- makes sequence to specified number\n",
    "#sample--random sample (sample from sequence)\n",
    "#sample of size 180\n",
    "#do not replace values once taken out\n",
    "#only 180 samples for training set (2/3)\n",
    "train=sample(seq(263),180,replace=FALSE)\n",
    "train"
   ]
  },
  {
   "cell_type": "code",
   "execution_count": 380,
   "metadata": {},
   "outputs": [
    {
     "data": {
      "text/html": [
       "180"
      ],
      "text/latex": [
       "180"
      ],
      "text/markdown": [
       "180"
      ],
      "text/plain": [
       "[1] 180"
      ]
     },
     "metadata": {},
     "output_type": "display_data"
    }
   ],
   "source": [
    "length(train)"
   ]
  },
  {
   "cell_type": "code",
   "execution_count": 381,
   "metadata": {},
   "outputs": [
    {
     "data": {
      "text/html": [
       "180"
      ],
      "text/latex": [
       "180"
      ],
      "text/markdown": [
       "180"
      ],
      "text/plain": [
       "[1] 180"
      ]
     },
     "metadata": {},
     "output_type": "display_data"
    }
   ],
   "source": [
    "sum(train)/mean(train)"
   ]
  },
  {
   "cell_type": "code",
   "execution_count": 147,
   "metadata": {},
   "outputs": [],
   "source": [
    "#fit training set\n",
    "regfit.fwd2=regsubsets(Salary~.,\n",
    "        #df Hitters, but indexed by rows in training set\n",
    "        data=Hitters[train,],\n",
    "        nvmax=19,\n",
    "        method='forward')"
   ]
  },
  {
   "cell_type": "markdown",
   "metadata": {},
   "source": [
    "make predictions on observation not used for training\n",
    "\n",
    "19 models, so we set up some vectors to record the errors\n",
    "\n",
    "Have to work b/c no predict method for 'regsubsets'\n"
   ]
  },
  {
   "cell_type": "code",
   "execution_count": 148,
   "metadata": {},
   "outputs": [],
   "source": [
    "#validation errors on remaining of data\n",
    "#19 subsets b/c 19 vars\n",
    "#set up vector w/ 19 slots\n",
    "val.errors=rep(NA,19)"
   ]
  },
  {
   "cell_type": "code",
   "execution_count": 85,
   "metadata": {},
   "outputs": [],
   "source": [
    "?model.matrix"
   ]
  },
  {
   "cell_type": "code",
   "execution_count": 149,
   "metadata": {},
   "outputs": [],
   "source": [
    "#matrix corresponding to validation set\n",
    "\n",
    "#Salary as a function of all other vars\n",
    "x.test=model.matrix(Salary~.,\n",
    "        #indices excluded (notice negative index)\n",
    "        data=Hitters[-train,])"
   ]
  },
  {
   "cell_type": "code",
   "execution_count": 100,
   "metadata": {},
   "outputs": [],
   "source": [
    "#practice code to see coefficinets for all 19 vars\n",
    "# for (i in 1:19){\n",
    "#     print(coef(regfit.fwd,i))\n",
    "#     #print(i)\n",
    "# }"
   ]
  },
  {
   "cell_type": "code",
   "execution_count": 150,
   "metadata": {},
   "outputs": [
    {
     "data": {
      "text/html": [
       "<style>\n",
       ".dl-inline {width: auto; margin:0; padding: 0}\n",
       ".dl-inline>dt, .dl-inline>dd {float: none; width: auto; display: inline-block}\n",
       ".dl-inline>dt::after {content: \":\\0020\"; padding-right: .5ex}\n",
       ".dl-inline>dt:not(:first-of-type) {padding-left: .5ex}\n",
       "</style><dl class=dl-inline><dt>(Intercept)</dt><dd>241.800230406936</dd><dt>CRBI</dt><dd>0.958798999159236</dd></dl>\n"
      ],
      "text/latex": [
       "\\begin{description*}\n",
       "\\item[(Intercept)] 241.800230406936\n",
       "\\item[CRBI] 0.958798999159236\n",
       "\\end{description*}\n"
      ],
      "text/markdown": [
       "(Intercept)\n",
       ":   241.800230406936CRBI\n",
       ":   0.958798999159236\n",
       "\n"
      ],
      "text/plain": [
       "(Intercept)        CRBI \n",
       " 241.800230    0.958799 "
      ]
     },
     "metadata": {},
     "output_type": "display_data"
    },
    {
     "data": {
      "text/html": [
       "<style>\n",
       ".dl-inline {width: auto; margin:0; padding: 0}\n",
       ".dl-inline>dt, .dl-inline>dd {float: none; width: auto; display: inline-block}\n",
       ".dl-inline>dt::after {content: \":\\0020\"; padding-right: .5ex}\n",
       ".dl-inline>dt:not(:first-of-type) {padding-left: .5ex}\n",
       "</style><dl class=dl-inline><dt>(Intercept)</dt><dd>10.3909138291584</dd><dt>Walks</dt><dd>6.96194517668056</dd><dt>CRBI</dt><dd>0.777842074084111</dd></dl>\n"
      ],
      "text/latex": [
       "\\begin{description*}\n",
       "\\item[(Intercept)] 10.3909138291584\n",
       "\\item[Walks] 6.96194517668056\n",
       "\\item[CRBI] 0.777842074084111\n",
       "\\end{description*}\n"
      ],
      "text/markdown": [
       "(Intercept)\n",
       ":   10.3909138291584Walks\n",
       ":   6.96194517668056CRBI\n",
       ":   0.777842074084111\n",
       "\n"
      ],
      "text/plain": [
       "(Intercept)       Walks        CRBI \n",
       " 10.3909138   6.9619452   0.7778421 "
      ]
     },
     "metadata": {},
     "output_type": "display_data"
    },
    {
     "data": {
      "text/html": [
       "<style>\n",
       ".dl-inline {width: auto; margin:0; padding: 0}\n",
       ".dl-inline>dt, .dl-inline>dd {float: none; width: auto; display: inline-block}\n",
       ".dl-inline>dt::after {content: \":\\0020\"; padding-right: .5ex}\n",
       ".dl-inline>dt:not(:first-of-type) {padding-left: .5ex}\n",
       "</style><dl class=dl-inline><dt>(Intercept)</dt><dd>116.342138685443</dd><dt>Walks</dt><dd>6.78101548566575</dd><dt>CRBI</dt><dd>0.751674782500371</dd><dt>DivisionW</dt><dd>-177.870086160008</dd></dl>\n"
      ],
      "text/latex": [
       "\\begin{description*}\n",
       "\\item[(Intercept)] 116.342138685443\n",
       "\\item[Walks] 6.78101548566575\n",
       "\\item[CRBI] 0.751674782500371\n",
       "\\item[DivisionW] -177.870086160008\n",
       "\\end{description*}\n"
      ],
      "text/markdown": [
       "(Intercept)\n",
       ":   116.342138685443Walks\n",
       ":   6.78101548566575CRBI\n",
       ":   0.751674782500371DivisionW\n",
       ":   -177.870086160008\n",
       "\n"
      ],
      "text/plain": [
       " (Intercept)        Walks         CRBI    DivisionW \n",
       " 116.3421387    6.7810155    0.7516748 -177.8700862 "
      ]
     },
     "metadata": {},
     "output_type": "display_data"
    }
   ],
   "source": [
    "# #each index corresponds to the number var\n",
    "# coef(regfit.fwd2,1)\n",
    "# coef(regfit.fwd2,2)\n",
    "# coef(regfit.fwd2,3)"
   ]
  },
  {
   "cell_type": "code",
   "execution_count": 171,
   "metadata": {},
   "outputs": [],
   "source": [
    "#make predictions for each model\n",
    "for(i in 1:19){\n",
    "    #coef function to extract coefficients\n",
    "    #size id == 1\n",
    "    #i is going to index the size (# of vars)\n",
    "    #loop and do it for each size\n",
    "    coefi=coef(regfit.fwd2,id=i)\n",
    "    #no predict function for subsets\n",
    "    #do it ourselves\n",
    "    #to get right elements of x-test, \n",
    "    #index columns by names of coefficient vector\n",
    "    #subset of columns that correspond to vars in coeffcient vector\n",
    "    #multiply matrix by coefficient vector\n",
    "    #gets predictions\n",
    "    pred=x.test[,names(coefi)]%*%coefi\n",
    "      #B1*X1..BpXp\n",
    "    #compute MSE == Hitters$Salary[-train]-pred\n",
    "    #== mean((y - y-hat)^2)\n",
    "    val.errors[i] <- mean((Hitters$Salary[-train]-pred)^2) #MSE for each model\n",
    "}"
   ]
  },
  {
   "cell_type": "code",
   "execution_count": 180,
   "metadata": {},
   "outputs": [],
   "source": [
    "#val.errors"
   ]
  },
  {
   "cell_type": "code",
   "execution_count": 205,
   "metadata": {},
   "outputs": [
    {
     "data": {
      "image/png": "[encoded data removed]",
      "text/plain": [
       "plot without title"
      ]
     },
     "metadata": {
      "image/png": {
       "height": 420,
       "width": 420
      },
      "text/plain": {
       "height": 420,
       "width": 420
      }
     },
     "output_type": "display_data"
    }
   ],
   "source": [
    "plot(sqrt(val.errors), ylab='Root MSE',\n",
    "    ylim=c(300,400),pch=19, type='b')"
   ]
  },
  {
   "cell_type": "code",
   "execution_count": null,
   "metadata": {},
   "outputs": [],
   "source": [
    "#c(300,400)"
   ]
  },
  {
   "cell_type": "markdown",
   "metadata": {},
   "source": [
    "DOES NOT WORK; COULD BE DUE TO SEED"
   ]
  },
  {
   "cell_type": "code",
   "execution_count": 206,
   "metadata": {
    "scrolled": false
   },
   "outputs": [
    {
     "data": {
      "image/png": "[encoded data removed]",
      "text/plain": [
       "plot without title"
      ]
     },
     "metadata": {
      "image/png": {
       "height": 420,
       "width": 420
      },
      "text/plain": {
       "height": 420,
       "width": 420
      }
     },
     "output_type": "display_data"
    }
   ],
   "source": [
    "#Note, I a get different plot\n",
    "#maybe b/c of set.seed?\n",
    "#however, min still around5!\n",
    "\n",
    "\n",
    "#does NOT WORK\n",
    "#plot root MSE\n",
    "#jumpy b/c not much n in validation set (>90)\n",
    "plot(sqrt(val.errors), ylab='Root MSE',ylim=c(300,400),pch=19, type='b')\n",
    "\n",
    "#put RSS model in the same plot\n",
    "#regfit.fwd$rss[-1] == remove first (y-intercept);null model\n",
    "\n",
    "\n",
    "#RSS (should overlap at 5); \n",
    "#monotone decreasing == the more predictors, the more it decreases\n",
    "#b/c stepwise == every added predictor aids model\n",
    "points(sqrt(regfit.fwd2$rss[-1]/180),col='blue', pch=19,type='b')\n",
    "\n",
    "#annotate w/ a legend\n",
    "legend(\"topright\",legend=c('Training','Validation'),col=c('blue','black'),pch=19)"
   ]
  },
  {
   "cell_type": "markdown",
   "metadata": {},
   "source": [
    "Training error goes down monotonically as the model gets bigger, but not so for the validation error"
   ]
  },
  {
   "cell_type": "code",
   "execution_count": 184,
   "metadata": {},
   "outputs": [],
   "source": [
    "#object -- subsets to predict from\n",
    "#new data\n",
    "#id of the model\n",
    "#calll == used to create it; exctract formula w/ [[]]\n",
    "#then make model matrix from it\n",
    "#extract coefficients and multiply by matrix\n",
    "#creates subsets of original data\n",
    "\n",
    "predict.regsubsets=function(object,newdata,id,...){\n",
    "  form=as.formula(object$call[[2]])\n",
    "  mat=model.matrix(form,newdata)\n",
    "  coefi=coef(object,id=id)\n",
    "  xvars=names(coefi)\n",
    "  mat[,xvars]%*%coefi\n",
    "  }"
   ]
  },
  {
   "cell_type": "markdown",
   "metadata": {},
   "source": [
    "### Model Selection and Cross Validation\n",
    "\n",
    "preferred by authors\n",
    "\n",
    "10-fold validation"
   ]
  },
  {
   "cell_type": "markdown",
   "metadata": {},
   "source": [
    "MAKE FOLDS "
   ]
  },
  {
   "cell_type": "code",
   "execution_count": 249,
   "metadata": {
    "scrolled": false
   },
   "outputs": [
    {
     "data": {
      "text/html": [
       "<style>\n",
       ".list-inline {list-style: none; margin:0; padding: 0}\n",
       ".list-inline>li {display: inline-block}\n",
       ".list-inline>li:not(:last-child)::after {content: \"\\00b7\"; padding: 0 .5ex}\n",
       "</style>\n",
       "<ol class=list-inline><li>10</li><li>4</li><li>4</li><li>4</li><li>3</li><li>7</li><li>10</li><li>8</li><li>10</li><li>3</li><li>4</li><li>2</li><li>2</li><li>1</li><li>1</li><li>5</li><li>3</li><li>3</li><li>5</li><li>9</li><li>5</li><li>2</li><li>7</li><li>3</li><li>8</li><li>7</li><li>4</li><li>6</li><li>7</li><li>7</li><li>7</li><li>10</li><li>2</li><li>6</li><li>6</li><li>1</li><li>8</li><li>8</li><li>10</li><li>1</li><li>8</li><li>3</li><li>7</li><li>10</li><li>1</li><li>6</li><li>10</li><li>3</li><li>8</li><li>7</li><li>9</li><li>3</li><li>6</li><li>2</li><li>5</li><li>6</li><li>5</li><li>5</li><li>2</li><li>6</li><li>4</li><li>7</li><li>10</li><li>7</li><li>1</li><li>8</li><li>1</li><li>2</li><li>8</li><li>2</li><li>1</li><li>8</li><li>2</li><li>6</li><li>4</li><li>3</li><li>1</li><li>1</li><li>5</li><li>1</li><li>2</li><li>10</li><li>5</li><li>8</li><li>8</li><li>3</li><li>9</li><li>8</li><li>3</li><li>6</li><li>1</li><li>9</li><li>5</li><li>9</li><li>9</li><li>8</li><li>8</li><li>6</li><li>8</li><li>10</li><li>9</li><li>8</li><li>7</li><li>8</li><li>10</li><li>1</li><li>3</li><li>1</li><li>10</li><li>5</li><li>2</li><li>5</li><li>2</li><li>4</li><li>4</li><li>10</li><li>3</li><li>6</li><li>9</li><li>7</li><li>4</li><li>3</li><li>9</li><li>8</li><li>10</li><li>7</li><li>5</li><li>9</li><li>10</li><li>4</li><li>7</li><li>4</li><li>1</li><li>9</li><li>4</li><li>5</li><li>6</li><li>8</li><li>10</li><li>6</li><li>7</li><li>1</li><li>10</li><li>6</li><li>4</li><li>6</li><li>7</li><li>1</li><li>9</li><li>4</li><li>2</li><li>1</li><li>7</li><li>2</li><li>5</li><li>7</li><li>10</li><li>7</li><li>9</li><li>6</li><li>9</li><li>5</li><li>5</li><li>4</li><li>10</li><li>4</li><li>2</li><li>10</li><li>9</li><li>3</li><li>3</li><li>2</li><li>9</li><li>2</li><li>6</li><li>9</li><li>4</li><li>3</li><li>9</li><li>9</li><li>9</li><li>4</li><li>6</li><li>1</li><li>7</li><li>8</li><li>5</li><li>8</li><li>10</li><li>6</li><li>9</li><li>8</li><li>9</li><li>1</li><li>5</li><li>3</li><li>3</li><li>1</li><li>7</li><li>1</li><li>2</li><li>9</li><li>1</li><li>9</li><li>10</li><li>3</li><li>10</li><li>3</li><li>4</li><li>6</li><li>8</li><li>2</li><li>9</li><li>5</li><li>7</li><li>2</li><li>10</li><li>4</li><li>1</li><li>6</li><li>10</li><li>3</li><li>5</li><li>5</li><li>3</li><li>5</li><li>7</li><li>3</li><li>6</li><li>5</li><li>4</li><li>1</li><li>3</li><li>7</li><li>1</li><li>5</li><li>2</li><li>9</li><li>4</li><li>6</li><li>8</li><li>3</li><li>2</li><li>4</li><li>5</li><li>10</li><li>8</li><li>5</li><li>2</li><li>2</li><li>2</li><li>6</li><li>3</li><li>4</li><li>7</li><li>2</li><li>6</li><li>4</li><li>8</li><li>7</li><li>1</li><li>2</li><li>6</li></ol>\n"
      ],
      "text/latex": [
       "\\begin{enumerate*}\n",
       "\\item 10\n",
       "\\item 4\n",
       "\\item 4\n",
       "\\item 4\n",
       "\\item 3\n",
       "\\item 7\n",
       "\\item 10\n",
       "\\item 8\n",
       "\\item 10\n",
       "\\item 3\n",
       "\\item 4\n",
       "\\item 2\n",
       "\\item 2\n",
       "\\item 1\n",
       "\\item 1\n",
       "\\item 5\n",
       "\\item 3\n",
       "\\item 3\n",
       "\\item 5\n",
       "\\item 9\n",
       "\\item 5\n",
       "\\item 2\n",
       "\\item 7\n",
       "\\item 3\n",
       "\\item 8\n",
       "\\item 7\n",
       "\\item 4\n",
       "\\item 6\n",
       "\\item 7\n",
       "\\item 7\n",
       "\\item 7\n",
       "\\item 10\n",
       "\\item 2\n",
       "\\item 6\n",
       "\\item 6\n",
       "\\item 1\n",
       "\\item 8\n",
       "\\item 8\n",
       "\\item 10\n",
       "\\item 1\n",
       "\\item 8\n",
       "\\item 3\n",
       "\\item 7\n",
       "\\item 10\n",
       "\\item 1\n",
       "\\item 6\n",
       "\\item 10\n",
       "\\item 3\n",
       "\\item 8\n",
       "\\item 7\n",
       "\\item 9\n",
       "\\item 3\n",
       "\\item 6\n",
       "\\item 2\n",
       "\\item 5\n",
       "\\item 6\n",
       "\\item 5\n",
       "\\item 5\n",
       "\\item 2\n",
       "\\item 6\n",
       "\\item 4\n",
       "\\item 7\n",
       "\\item 10\n",
       "\\item 7\n",
       "\\item 1\n",
       "\\item 8\n",
       "\\item 1\n",
       "\\item 2\n",
       "\\item 8\n",
       "\\item 2\n",
       "\\item 1\n",
       "\\item 8\n",
       "\\item 2\n",
       "\\item 6\n",
       "\\item 4\n",
       "\\item 3\n",
       "\\item 1\n",
       "\\item 1\n",
       "\\item 5\n",
       "\\item 1\n",
       "\\item 2\n",
       "\\item 10\n",
       "\\item 5\n",
       "\\item 8\n",
       "\\item 8\n",
       "\\item 3\n",
       "\\item 9\n",
       "\\item 8\n",
       "\\item 3\n",
       "\\item 6\n",
       "\\item 1\n",
       "\\item 9\n",
       "\\item 5\n",
       "\\item 9\n",
       "\\item 9\n",
       "\\item 8\n",
       "\\item 8\n",
       "\\item 6\n",
       "\\item 8\n",
       "\\item 10\n",
       "\\item 9\n",
       "\\item 8\n",
       "\\item 7\n",
       "\\item 8\n",
       "\\item 10\n",
       "\\item 1\n",
       "\\item 3\n",
       "\\item 1\n",
       "\\item 10\n",
       "\\item 5\n",
       "\\item 2\n",
       "\\item 5\n",
       "\\item 2\n",
       "\\item 4\n",
       "\\item 4\n",
       "\\item 10\n",
       "\\item 3\n",
       "\\item 6\n",
       "\\item 9\n",
       "\\item 7\n",
       "\\item 4\n",
       "\\item 3\n",
       "\\item 9\n",
       "\\item 8\n",
       "\\item 10\n",
       "\\item 7\n",
       "\\item 5\n",
       "\\item 9\n",
       "\\item 10\n",
       "\\item 4\n",
       "\\item 7\n",
       "\\item 4\n",
       "\\item 1\n",
       "\\item 9\n",
       "\\item 4\n",
       "\\item 5\n",
       "\\item 6\n",
       "\\item 8\n",
       "\\item 10\n",
       "\\item 6\n",
       "\\item 7\n",
       "\\item 1\n",
       "\\item 10\n",
       "\\item 6\n",
       "\\item 4\n",
       "\\item 6\n",
       "\\item 7\n",
       "\\item 1\n",
       "\\item 9\n",
       "\\item 4\n",
       "\\item 2\n",
       "\\item 1\n",
       "\\item 7\n",
       "\\item 2\n",
       "\\item 5\n",
       "\\item 7\n",
       "\\item 10\n",
       "\\item 7\n",
       "\\item 9\n",
       "\\item 6\n",
       "\\item 9\n",
       "\\item 5\n",
       "\\item 5\n",
       "\\item 4\n",
       "\\item 10\n",
       "\\item 4\n",
       "\\item 2\n",
       "\\item 10\n",
       "\\item 9\n",
       "\\item 3\n",
       "\\item 3\n",
       "\\item 2\n",
       "\\item 9\n",
       "\\item 2\n",
       "\\item 6\n",
       "\\item 9\n",
       "\\item 4\n",
       "\\item 3\n",
       "\\item 9\n",
       "\\item 9\n",
       "\\item 9\n",
       "\\item 4\n",
       "\\item 6\n",
       "\\item 1\n",
       "\\item 7\n",
       "\\item 8\n",
       "\\item 5\n",
       "\\item 8\n",
       "\\item 10\n",
       "\\item 6\n",
       "\\item 9\n",
       "\\item 8\n",
       "\\item 9\n",
       "\\item 1\n",
       "\\item 5\n",
       "\\item 3\n",
       "\\item 3\n",
       "\\item 1\n",
       "\\item 7\n",
       "\\item 1\n",
       "\\item 2\n",
       "\\item 9\n",
       "\\item 1\n",
       "\\item 9\n",
       "\\item 10\n",
       "\\item 3\n",
       "\\item 10\n",
       "\\item 3\n",
       "\\item 4\n",
       "\\item 6\n",
       "\\item 8\n",
       "\\item 2\n",
       "\\item 9\n",
       "\\item 5\n",
       "\\item 7\n",
       "\\item 2\n",
       "\\item 10\n",
       "\\item 4\n",
       "\\item 1\n",
       "\\item 6\n",
       "\\item 10\n",
       "\\item 3\n",
       "\\item 5\n",
       "\\item 5\n",
       "\\item 3\n",
       "\\item 5\n",
       "\\item 7\n",
       "\\item 3\n",
       "\\item 6\n",
       "\\item 5\n",
       "\\item 4\n",
       "\\item 1\n",
       "\\item 3\n",
       "\\item 7\n",
       "\\item 1\n",
       "\\item 5\n",
       "\\item 2\n",
       "\\item 9\n",
       "\\item 4\n",
       "\\item 6\n",
       "\\item 8\n",
       "\\item 3\n",
       "\\item 2\n",
       "\\item 4\n",
       "\\item 5\n",
       "\\item 10\n",
       "\\item 8\n",
       "\\item 5\n",
       "\\item 2\n",
       "\\item 2\n",
       "\\item 2\n",
       "\\item 6\n",
       "\\item 3\n",
       "\\item 4\n",
       "\\item 7\n",
       "\\item 2\n",
       "\\item 6\n",
       "\\item 4\n",
       "\\item 8\n",
       "\\item 7\n",
       "\\item 1\n",
       "\\item 2\n",
       "\\item 6\n",
       "\\end{enumerate*}\n"
      ],
      "text/markdown": [
       "1. 10\n",
       "2. 4\n",
       "3. 4\n",
       "4. 4\n",
       "5. 3\n",
       "6. 7\n",
       "7. 10\n",
       "8. 8\n",
       "9. 10\n",
       "10. 3\n",
       "11. 4\n",
       "12. 2\n",
       "13. 2\n",
       "14. 1\n",
       "15. 1\n",
       "16. 5\n",
       "17. 3\n",
       "18. 3\n",
       "19. 5\n",
       "20. 9\n",
       "21. 5\n",
       "22. 2\n",
       "23. 7\n",
       "24. 3\n",
       "25. 8\n",
       "26. 7\n",
       "27. 4\n",
       "28. 6\n",
       "29. 7\n",
       "30. 7\n",
       "31. 7\n",
       "32. 10\n",
       "33. 2\n",
       "34. 6\n",
       "35. 6\n",
       "36. 1\n",
       "37. 8\n",
       "38. 8\n",
       "39. 10\n",
       "40. 1\n",
       "41. 8\n",
       "42. 3\n",
       "43. 7\n",
       "44. 10\n",
       "45. 1\n",
       "46. 6\n",
       "47. 10\n",
       "48. 3\n",
       "49. 8\n",
       "50. 7\n",
       "51. 9\n",
       "52. 3\n",
       "53. 6\n",
       "54. 2\n",
       "55. 5\n",
       "56. 6\n",
       "57. 5\n",
       "58. 5\n",
       "59. 2\n",
       "60. 6\n",
       "61. 4\n",
       "62. 7\n",
       "63. 10\n",
       "64. 7\n",
       "65. 1\n",
       "66. 8\n",
       "67. 1\n",
       "68. 2\n",
       "69. 8\n",
       "70. 2\n",
       "71. 1\n",
       "72. 8\n",
       "73. 2\n",
       "74. 6\n",
       "75. 4\n",
       "76. 3\n",
       "77. 1\n",
       "78. 1\n",
       "79. 5\n",
       "80. 1\n",
       "81. 2\n",
       "82. 10\n",
       "83. 5\n",
       "84. 8\n",
       "85. 8\n",
       "86. 3\n",
       "87. 9\n",
       "88. 8\n",
       "89. 3\n",
       "90. 6\n",
       "91. 1\n",
       "92. 9\n",
       "93. 5\n",
       "94. 9\n",
       "95. 9\n",
       "96. 8\n",
       "97. 8\n",
       "98. 6\n",
       "99. 8\n",
       "100. 10\n",
       "101. 9\n",
       "102. 8\n",
       "103. 7\n",
       "104. 8\n",
       "105. 10\n",
       "106. 1\n",
       "107. 3\n",
       "108. 1\n",
       "109. 10\n",
       "110. 5\n",
       "111. 2\n",
       "112. 5\n",
       "113. 2\n",
       "114. 4\n",
       "115. 4\n",
       "116. 10\n",
       "117. 3\n",
       "118. 6\n",
       "119. 9\n",
       "120. 7\n",
       "121. 4\n",
       "122. 3\n",
       "123. 9\n",
       "124. 8\n",
       "125. 10\n",
       "126. 7\n",
       "127. 5\n",
       "128. 9\n",
       "129. 10\n",
       "130. 4\n",
       "131. 7\n",
       "132. 4\n",
       "133. 1\n",
       "134. 9\n",
       "135. 4\n",
       "136. 5\n",
       "137. 6\n",
       "138. 8\n",
       "139. 10\n",
       "140. 6\n",
       "141. 7\n",
       "142. 1\n",
       "143. 10\n",
       "144. 6\n",
       "145. 4\n",
       "146. 6\n",
       "147. 7\n",
       "148. 1\n",
       "149. 9\n",
       "150. 4\n",
       "151. 2\n",
       "152. 1\n",
       "153. 7\n",
       "154. 2\n",
       "155. 5\n",
       "156. 7\n",
       "157. 10\n",
       "158. 7\n",
       "159. 9\n",
       "160. 6\n",
       "161. 9\n",
       "162. 5\n",
       "163. 5\n",
       "164. 4\n",
       "165. 10\n",
       "166. 4\n",
       "167. 2\n",
       "168. 10\n",
       "169. 9\n",
       "170. 3\n",
       "171. 3\n",
       "172. 2\n",
       "173. 9\n",
       "174. 2\n",
       "175. 6\n",
       "176. 9\n",
       "177. 4\n",
       "178. 3\n",
       "179. 9\n",
       "180. 9\n",
       "181. 9\n",
       "182. 4\n",
       "183. 6\n",
       "184. 1\n",
       "185. 7\n",
       "186. 8\n",
       "187. 5\n",
       "188. 8\n",
       "189. 10\n",
       "190. 6\n",
       "191. 9\n",
       "192. 8\n",
       "193. 9\n",
       "194. 1\n",
       "195. 5\n",
       "196. 3\n",
       "197. 3\n",
       "198. 1\n",
       "199. 7\n",
       "200. 1\n",
       "201. 2\n",
       "202. 9\n",
       "203. 1\n",
       "204. 9\n",
       "205. 10\n",
       "206. 3\n",
       "207. 10\n",
       "208. 3\n",
       "209. 4\n",
       "210. 6\n",
       "211. 8\n",
       "212. 2\n",
       "213. 9\n",
       "214. 5\n",
       "215. 7\n",
       "216. 2\n",
       "217. 10\n",
       "218. 4\n",
       "219. 1\n",
       "220. 6\n",
       "221. 10\n",
       "222. 3\n",
       "223. 5\n",
       "224. 5\n",
       "225. 3\n",
       "226. 5\n",
       "227. 7\n",
       "228. 3\n",
       "229. 6\n",
       "230. 5\n",
       "231. 4\n",
       "232. 1\n",
       "233. 3\n",
       "234. 7\n",
       "235. 1\n",
       "236. 5\n",
       "237. 2\n",
       "238. 9\n",
       "239. 4\n",
       "240. 6\n",
       "241. 8\n",
       "242. 3\n",
       "243. 2\n",
       "244. 4\n",
       "245. 5\n",
       "246. 10\n",
       "247. 8\n",
       "248. 5\n",
       "249. 2\n",
       "250. 2\n",
       "251. 2\n",
       "252. 6\n",
       "253. 3\n",
       "254. 4\n",
       "255. 7\n",
       "256. 2\n",
       "257. 6\n",
       "258. 4\n",
       "259. 8\n",
       "260. 7\n",
       "261. 1\n",
       "262. 2\n",
       "263. 6\n",
       "\n",
       "\n"
      ],
      "text/plain": [
       "  [1] 10  4  4  4  3  7 10  8 10  3  4  2  2  1  1  5  3  3  5  9  5  2  7  3  8\n",
       " [26]  7  4  6  7  7  7 10  2  6  6  1  8  8 10  1  8  3  7 10  1  6 10  3  8  7\n",
       " [51]  9  3  6  2  5  6  5  5  2  6  4  7 10  7  1  8  1  2  8  2  1  8  2  6  4\n",
       " [76]  3  1  1  5  1  2 10  5  8  8  3  9  8  3  6  1  9  5  9  9  8  8  6  8 10\n",
       "[101]  9  8  7  8 10  1  3  1 10  5  2  5  2  4  4 10  3  6  9  7  4  3  9  8 10\n",
       "[126]  7  5  9 10  4  7  4  1  9  4  5  6  8 10  6  7  1 10  6  4  6  7  1  9  4\n",
       "[151]  2  1  7  2  5  7 10  7  9  6  9  5  5  4 10  4  2 10  9  3  3  2  9  2  6\n",
       "[176]  9  4  3  9  9  9  4  6  1  7  8  5  8 10  6  9  8  9  1  5  3  3  1  7  1\n",
       "[201]  2  9  1  9 10  3 10  3  4  6  8  2  9  5  7  2 10  4  1  6 10  3  5  5  3\n",
       "[226]  5  7  3  6  5  4  1  3  7  1  5  2  9  4  6  8  3  2  4  5 10  8  5  2  2\n",
       "[251]  2  6  3  4  7  2  6  4  8  7  1  2  6"
      ]
     },
     "metadata": {},
     "output_type": "display_data"
    }
   ],
   "source": [
    "set.seed(11)\n",
    "\n",
    "#each observation == fold number (10 folds)\n",
    "#vector from 1 to 10, length the number of hitters\n",
    "#then shuffle (sample function)\n",
    "folds=sample(rep(1:10, length=nrow(Hitters)))\n",
    "#our random assignment\n",
    "#of folds to each of the observations in hitters.\n",
    "#balanced (26-27 in each fold)\n",
    "folds"
   ]
  },
  {
   "cell_type": "code",
   "execution_count": 213,
   "metadata": {},
   "outputs": [
    {
     "data": {
      "text/html": [
       "'integer'"
      ],
      "text/latex": [
       "'integer'"
      ],
      "text/markdown": [
       "'integer'"
      ],
      "text/plain": [
       "[1] \"integer\""
      ]
     },
     "metadata": {},
     "output_type": "display_data"
    }
   ],
   "source": [
    "class(folds)"
   ]
  },
  {
   "cell_type": "code",
   "execution_count": 250,
   "metadata": {},
   "outputs": [
    {
     "data": {
      "text/plain": [
       "folds\n",
       " 1  2  3  4  5  6  7  8  9 10 \n",
       "27 27 27 26 26 26 26 26 26 26 "
      ]
     },
     "metadata": {},
     "output_type": "display_data"
    }
   ],
   "source": [
    "#very balanced\n",
    "table(folds)"
   ]
  },
  {
   "cell_type": "markdown",
   "metadata": {},
   "source": [
    "MATRIX FOR ERRORS"
   ]
  },
  {
   "cell_type": "code",
   "execution_count": 251,
   "metadata": {},
   "outputs": [],
   "source": [
    "#10 rows (for each fold)\n",
    "#19 columns (for vars)\n",
    "cv.errors=matrix(NA,10,19)"
   ]
  },
  {
   "cell_type": "markdown",
   "metadata": {},
   "source": [
    "FIT 10 MODELS; PREDICT 19 SUBSAMPLES\n",
    "\n",
    "FIT TRAINING DATA (NOT EQUAL TO K)\n",
    "\n",
    "USE PREDICT FUCNTION WE CREATED\n",
    "\n",
    "TEST SET IS DATA EQUAL TO K \n",
    "\n",
    "TEST DATA FOR EACH SUBSET SIZE i\n",
    "\n",
    "MSE OF PREDICTIONS FOR ALL i and K"
   ]
  },
  {
   "cell_type": "code",
   "execution_count": 252,
   "metadata": {},
   "outputs": [],
   "source": [
    "#fits 10 models\n",
    "#predictions for 19 subsets of each\n",
    "\n",
    "#look at folds\n",
    "for(k in 1:10){\n",
    "    #fit regsubsets model\n",
    "    best.fit=regsubsets(Salary~., \n",
    "    #training data == all observations\n",
    "    #whose fold ID not equal to k\n",
    "    #train on all but that one\n",
    "    data=Hitters[folds!=k,],nvmax=19,\n",
    "    method='forward')\n",
    "    #look at subsets\n",
    "    for(i in 1:19){\n",
    "        #predict using training data on test data\n",
    "        #where test data is k\n",
    "        #use our own predict function from earlier\n",
    "        #nwe data is test data\n",
    "        #for each subset size 1 == given to function by id\n",
    "        pred=predict(best.fit,Hitters[folds==k,],id=i)\n",
    "        #MSE\n",
    "        cv.errors[k,i]=mean((Hitters$Salary[folds==k]-pred)^2)\n",
    "    }\n",
    "}"
   ]
  },
  {
   "cell_type": "markdown",
   "metadata": {},
   "source": [
    "SRT-MSE -- AVG MSE FOR EACH COLUMN (PREDICTOR)"
   ]
  },
  {
   "cell_type": "code",
   "execution_count": 245,
   "metadata": {},
   "outputs": [],
   "source": [
    "#apply mean function to columns \n",
    "#each row MSE for a row\n",
    "#avg down the columns \n",
    "#use sqrt root to get the root mean squared error\n",
    "rmse.cv=sqrt(apply(cv.errors,2,mean))"
   ]
  },
  {
   "cell_type": "code",
   "execution_count": 253,
   "metadata": {},
   "outputs": [
    {
     "data": {
      "image/png": "[encoded data removed]",
      "text/plain": [
       "plot without title"
      ]
     },
     "metadata": {
      "image/png": {
       "height": 420,
       "width": 420
      },
      "text/plain": {
       "height": 420,
       "width": 420
      }
     },
     "output_type": "display_data"
    }
   ],
   "source": [
    "#plot slightly diff\n",
    "#pretty sure has to w/ seed function\n",
    "\n",
    "#10-fold CV curve, less jumpy than validation \n",
    "#avg over full training set (errors)\n",
    "#done fold by fold, so smoother\n",
    "#favors models of size 11-12\n",
    "plot(rmse.cv,pch=19,type='b')"
   ]
  },
  {
   "cell_type": "markdown",
   "metadata": {},
   "source": [
    "### Ridge Regression and Lasso\n",
    "\n",
    "We will use the package 'glment', which does not use the model formula language, so we will set up on 'x' and 'y"
   ]
  },
  {
   "cell_type": "code",
   "execution_count": 270,
   "metadata": {},
   "outputs": [],
   "source": [
    "#?setRepositories"
   ]
  },
  {
   "cell_type": "code",
   "execution_count": 269,
   "metadata": {},
   "outputs": [],
   "source": [
    "#install.packages('glmnet',repos='<a class=\"vglnk\" href=\"http://cran.us.r-project.org\" rel=\"nofollow\"><span>http</span><span>://</span><span>cran</span><span>.</span><span>us</span><span>.</span><span>r</span><span>-</span><span>project</span><span>.</span><span>org</span></a>')"
   ]
  },
  {
   "cell_type": "code",
   "execution_count": 268,
   "metadata": {},
   "outputs": [],
   "source": [
    "#install.packages(\"glmnet\", lib = \"C:\\\\Program Files\\\\R\\\\R-3.6.2\\\\library\")"
   ]
  },
  {
   "cell_type": "code",
   "execution_count": 266,
   "metadata": {},
   "outputs": [
    {
     "name": "stderr",
     "output_type": "stream",
     "text": [
      "Installing package into 'C:/Users/Diego/Documents/R/win-library/3.6'\n",
      "(as 'lib' is unspecified)\n",
      "\n",
      "also installing the dependencies 'iterators', 'foreach', 'shape'\n",
      "\n",
      "\n"
     ]
    },
    {
     "name": "stdout",
     "output_type": "stream",
     "text": [
      "package 'iterators' successfully unpacked and MD5 sums checked\n",
      "package 'foreach' successfully unpacked and MD5 sums checked\n",
      "package 'shape' successfully unpacked and MD5 sums checked\n",
      "package 'glmnet' successfully unpacked and MD5 sums checked\n",
      "\n",
      "The downloaded binary packages are in\n",
      "\tC:\\Users\\Diego\\AppData\\Local\\Temp\\Rtmpqmbhm3\\downloaded_packages\n"
     ]
    }
   ],
   "source": [
    "install.packages('glmnet') "
   ]
  },
  {
   "cell_type": "code",
   "execution_count": 267,
   "metadata": {},
   "outputs": [
    {
     "name": "stderr",
     "output_type": "stream",
     "text": [
      "Loading required package: Matrix\n",
      "\n",
      "Loaded glmnet 3.0-2\n",
      "\n",
      "\n"
     ]
    }
   ],
   "source": [
    "#authors created fitting lasso/ridge models etc.\n",
    "#loss functions\n",
    "#does not use a formula language\n",
    "library(glmnet)"
   ]
  },
  {
   "cell_type": "code",
   "execution_count": 362,
   "metadata": {},
   "outputs": [],
   "source": [
    "#required to give it a matrix x-predictors\n",
    "x=model.matrix(Salary~.-1,data=Hitters)\n",
    "#y-responses\n",
    "y=Hitters$Salary"
   ]
  },
  {
   "cell_type": "code",
   "execution_count": 339,
   "metadata": {},
   "outputs": [],
   "source": [
    "#x"
   ]
  },
  {
   "cell_type": "code",
   "execution_count": 363,
   "metadata": {},
   "outputs": [
    {
     "data": {
      "text/html": [
       "'matrix'"
      ],
      "text/latex": [
       "'matrix'"
      ],
      "text/markdown": [
       "'matrix'"
      ],
      "text/plain": [
       "[1] \"matrix\""
      ]
     },
     "metadata": {},
     "output_type": "display_data"
    }
   ],
   "source": [
    "class(x)"
   ]
  },
  {
   "cell_type": "code",
   "execution_count": 364,
   "metadata": {},
   "outputs": [
    {
     "data": {
      "text/html": [
       "'numeric'"
      ],
      "text/latex": [
       "'numeric'"
      ],
      "text/markdown": [
       "'numeric'"
      ],
      "text/plain": [
       "[1] \"numeric\""
      ]
     },
     "metadata": {},
     "output_type": "display_data"
    }
   ],
   "source": [
    "class(y)"
   ]
  },
  {
   "cell_type": "code",
   "execution_count": 365,
   "metadata": {},
   "outputs": [
    {
     "data": {
      "text/html": [
       "263"
      ],
      "text/latex": [
       "263"
      ],
      "text/markdown": [
       "263"
      ],
      "text/plain": [
       "[1] 263"
      ]
     },
     "metadata": {},
     "output_type": "display_data"
    }
   ],
   "source": [
    "length(y)"
   ]
  },
  {
   "cell_type": "code",
   "execution_count": 367,
   "metadata": {},
   "outputs": [
    {
     "data": {
      "text/html": [],
      "text/latex": [],
      "text/markdown": [],
      "text/plain": [
       "numeric(0)"
      ]
     },
     "metadata": {},
     "output_type": "display_data"
    }
   ],
   "source": [
    "#y[-train]"
   ]
  },
  {
   "cell_type": "code",
   "execution_count": null,
   "metadata": {},
   "outputs": [],
   "source": [
    "# length(x)"
   ]
  },
  {
   "cell_type": "code",
   "execution_count": 341,
   "metadata": {},
   "outputs": [],
   "source": [
    "#x[train]"
   ]
  },
  {
   "cell_type": "code",
   "execution_count": 343,
   "metadata": {},
   "outputs": [],
   "source": [
    "#x[-train]"
   ]
  },
  {
   "cell_type": "code",
   "execution_count": 344,
   "metadata": {},
   "outputs": [
    {
     "data": {
      "text/html": [
       "4997"
      ],
      "text/latex": [
       "4997"
      ],
      "text/markdown": [
       "4997"
      ],
      "text/plain": [
       "[1] 4997"
      ]
     },
     "metadata": {},
     "output_type": "display_data"
    }
   ],
   "source": [
    "#length(x[-train])"
   ]
  },
  {
   "cell_type": "markdown",
   "metadata": {},
   "source": [
    "Fit Ridge-regression model\n",
    "\n",
    "call 'glmnet' \n",
    "\n",
    "can also use 'cv.glmnet' function which will do the cross-validation for us"
   ]
  },
  {
   "cell_type": "code",
   "execution_count": 399,
   "metadata": {},
   "outputs": [],
   "source": [
    "?cv.glmnet"
   ]
  },
  {
   "cell_type": "code",
   "execution_count": 284,
   "metadata": {},
   "outputs": [
    {
     "data": {
      "image/png": "[encoded data removed]",
      "text/plain": [
       "plot without title"
      ]
     },
     "metadata": {
      "image/png": {
       "height": 420,
       "width": 420
      },
      "text/plain": {
       "height": 420,
       "width": 420
      }
     },
     "output_type": "display_data"
    }
   ],
   "source": [
    "#glmnet has a an alpha argument\n",
    "#alpha equals 1 is lasso\n",
    "#alpha equals 0 is ridge.\n",
    "#look on the help file\n",
    "\n",
    "#RIDGE\n",
    "fit.ridge=glmnet(x,y,alpha=0)\n",
    "\n",
    "#plotting coefficients\n",
    "#models penalized by RSS of coeffieicnets, controlled by lambda\n",
    "#RSS + LAMBDA*summation of Bj**2\n",
    "\n",
    "#if lambda (penalty) big, you want SS of coefficinets (Bj to be small)\n",
    "#that will shrink the coefficients toward zero\n",
    "#Lmabda very big == coefficinets 0\n",
    "\n",
    "#as lambda increaes, all coefficinets are 0\n",
    "#since log, lambda in the 100s\\\n",
    "plot(fit.ridge,xvar='lambda',label=TRUE)"
   ]
  },
  {
   "cell_type": "code",
   "execution_count": 274,
   "metadata": {},
   "outputs": [],
   "source": [
    "#summary(fit.ridge)"
   ]
  },
  {
   "cell_type": "code",
   "execution_count": 285,
   "metadata": {},
   "outputs": [
    {
     "data": {
      "image/png": "[encoded data removed]",
      "text/plain": [
       "plot without title"
      ]
     },
     "metadata": {
      "image/png": {
       "height": 420,
       "width": 420
      },
      "text/plain": {
       "height": 420,
       "width": 420
      }
     },
     "output_type": "display_data"
    }
   ],
   "source": [
    "#  cross validation for you, k-fold cross\n",
    "# validation.\n",
    "# And so we'll run CV.ridge, stand by default 10-fold cross\n",
    "# validation, and then we can do a plot.\n",
    "#10-fold\n",
    "cv.ridge=(cv.glmnet(x,y,alpha=0))\n",
    "# plot of the cross validated mean squared error\n",
    "# it goes, and you see it dips down \n",
    "#In the beginning, the mean squared error is very high,\n",
    "# and the coefficients are restricted to be too small,\n",
    "# and then at some point, it kind of levels off.\n",
    "\n",
    "#coefficinets too small oon right side of plot, hence high MSE\n",
    "#left vertical line == min\n",
    "#right vertical line == 1 sd of min (more restricted model)\n",
    "#top says there is 19 varsiables\n",
    "plot(cv.ridge)"
   ]
  },
  {
   "cell_type": "markdown",
   "metadata": {},
   "source": [
    "### LASSO\n",
    "\n",
    "use alpha =1 "
   ]
  },
  {
   "cell_type": "code",
   "execution_count": 286,
   "metadata": {},
   "outputs": [
    {
     "data": {
      "image/png": "[encoded data removed]",
      "text/plain": [
       "plot without title"
      ]
     },
     "metadata": {
      "image/png": {
       "height": 420,
       "width": 420
      },
      "text/plain": {
       "height": 420,
       "width": 420
      }
     },
     "output_type": "display_data"
    }
   ],
   "source": [
    "#RSS + LAMBDA*summation of |Bj| (absolute values of coeffieicents); makes some 0\n",
    "\n",
    "\n",
    "fit.lasso=glmnet(x,y)\n",
    "\n",
    "#high Lambda (right of plot) == all Bs ==0\n",
    "#top of plot == how many non-zero vars in plot\n",
    "#shrinkage and variable selection\n",
    "plot(fit.lasso,xvar='lambda',label=TRUE)"
   ]
  },
  {
   "cell_type": "code",
   "execution_count": 287,
   "metadata": {},
   "outputs": [
    {
     "data": {
      "image/png": "[encoded data removed]",
      "text/plain": [
       "plot without title"
      ]
     },
     "metadata": {
      "image/png": {
       "height": 420,
       "width": 420
      },
      "text/plain": {
       "height": 420,
       "width": 420
      }
     },
     "output_type": "display_data"
    }
   ],
   "source": [
    "# percentage of deviance\n",
    "# explained, or percentage of, in case of regression, your\n",
    "# sum of squares explained, which is the \n",
    "\n",
    "#r squared ==\n",
    "# lot of the r squared\n",
    "# was explained for quite heavily shrunk coefficients.\n",
    "# And towards the end, with a relatively small increase in r\n",
    "# squared from between 0.4 and 0.5,\n",
    "# coefficients grow very large.\n",
    "\n",
    "# indication that the end of the\n",
    "# path is overfitting.\n",
    "plot(fit.lasso,xvar='dev',label=TRUE)"
   ]
  },
  {
   "cell_type": "code",
   "execution_count": 288,
   "metadata": {
    "scrolled": true
   },
   "outputs": [
    {
     "data": {
      "image/png": "[encoded data removed]",
      "text/plain": [
       "plot without title"
      ]
     },
     "metadata": {
      "image/png": {
       "height": 420,
       "width": 420
      },
      "text/plain": {
       "height": 420,
       "width": 420
      }
     },
     "output_type": "display_data"
    }
   ],
   "source": [
    "#cross validation\n",
    "cv.lasso=cv.glmnet(x,y)\n",
    "#the minimum cross validation areas at full size 13\n",
    "#within one standard error, \n",
    "#we have a model of size 5\n",
    "#make choice based on that\n",
    "plot(cv.lasso)"
   ]
  },
  {
   "cell_type": "markdown",
   "metadata": {},
   "source": [
    "Show which Model siz is best\n",
    "\n",
    "Show which coefficients for which bars"
   ]
  },
  {
   "cell_type": "code",
   "execution_count": 361,
   "metadata": {},
   "outputs": [],
   "source": [
    "#coefficient extractor\n",
    "#coefficient vector corresponding to best model\n",
    "#Model of size 5\n",
    "#coef(cv.lasso)"
   ]
  },
  {
   "cell_type": "markdown",
   "metadata": {},
   "source": [
    "Suppose we want to use our earlier train/validaion division to select the 'lambda' for the lasso\n",
    "\n",
    "Easy to do"
   ]
  },
  {
   "cell_type": "code",
   "execution_count": 384,
   "metadata": {
    "scrolled": false
   },
   "outputs": [
    {
     "data": {
      "text/plain": [
       "\n",
       "Call:  glmnet(x = x[train, ], y = y[train]) \n",
       "\n",
       "   Df    %Dev  Lambda\n",
       "1   0 0.00000 262.100\n",
       "2   1 0.05919 238.800\n",
       "3   1 0.10830 217.600\n",
       "4   1 0.14910 198.300\n",
       "5   2 0.19720 180.600\n",
       "6   3 0.23940 164.600\n",
       "7   3 0.27450 150.000\n",
       "8   3 0.30370 136.700\n",
       "9   3 0.32790 124.500\n",
       "10  3 0.34800 113.500\n",
       "11  4 0.36500 103.400\n",
       "12  5 0.38770  94.190\n",
       "13  6 0.40900  85.820\n",
       "14  6 0.42730  78.200\n",
       "15  6 0.44250  71.250\n",
       "16  6 0.45510  64.920\n",
       "17  6 0.46550  59.150\n",
       "18  6 0.47420  53.900\n",
       "19  6 0.48140  49.110\n",
       "20  6 0.48740  44.750\n",
       "21  6 0.49240  40.770\n",
       "22  6 0.49650  37.150\n",
       "23  6 0.49990  33.850\n",
       "24  7 0.50280  30.840\n",
       "25  7 0.50510  28.100\n",
       "26  8 0.50710  25.610\n",
       "27  8 0.50940  23.330\n",
       "28  8 0.51120  21.260\n",
       "29  8 0.51280  19.370\n",
       "30  8 0.51410  17.650\n",
       "31  8 0.51520  16.080\n",
       "32  8 0.51600  14.650\n",
       "33  8 0.51680  13.350\n",
       "34  9 0.51750  12.170\n",
       "35  9 0.51990  11.080\n",
       "36 10 0.52230  10.100\n",
       "37 10 0.52440   9.202\n",
       "38 11 0.52640   8.385\n",
       "39 11 0.52820   7.640\n",
       "40 11 0.52970   6.961\n",
       "41 11 0.53090   6.343\n",
       "42 11 0.53190   5.779\n",
       "43 12 0.53280   5.266\n",
       "44 14 0.53530   4.798\n",
       "45 14 0.53830   4.372\n",
       "46 15 0.54060   3.984\n",
       "47 16 0.54450   3.630\n",
       "48 16 0.54790   3.307\n",
       "49 16 0.55060   3.013\n",
       "50 16 0.55290   2.746\n",
       "51 17 0.55480   2.502\n",
       "52 17 0.55650   2.280\n",
       "53 17 0.55780   2.077\n",
       "54 17 0.55890   1.892\n",
       "55 18 0.56000   1.724\n",
       "56 18 0.56160   1.571\n",
       "57 18 0.56300   1.432\n",
       "58 19 0.56420   1.304\n",
       "59 19 0.56530   1.189\n",
       "60 19 0.56630   1.083\n",
       "61 19 0.56710   0.987\n",
       "62 19 0.56770   0.899\n",
       "63 19 0.56830   0.819\n",
       "64 19 0.56880   0.746\n",
       "65 19 0.56920   0.680\n",
       "66 19 0.56950   0.620\n",
       "67 19 0.56980   0.565\n",
       "68 19 0.57000   0.514\n",
       "69 19 0.57020   0.469\n",
       "70 19 0.57040   0.427\n",
       "71 19 0.57050   0.389\n",
       "72 19 0.57060   0.355\n",
       "73 19 0.57070   0.323\n",
       "74 19 0.57080   0.294\n",
       "75 19 0.57080   0.268\n",
       "76 19 0.57090   0.244\n",
       "77 19 0.57090   0.223\n",
       "78 19 0.57100   0.203\n",
       "79 19 0.57100   0.185\n",
       "80 19 0.57110   0.168\n",
       "81 19 0.57110   0.154\n",
       "82 19 0.57110   0.140\n",
       "83 19 0.57110   0.127"
      ]
     },
     "metadata": {},
     "output_type": "display_data"
    }
   ],
   "source": [
    "#already have tr/tst splits\n",
    "lasso.tr=glmnet(x[train,],y[train])\n",
    "#df == non-zero coefficients\n",
    "#%dev of deviance explained\n",
    "#lambda for that fit\n",
    "lasso.tr"
   ]
  },
  {
   "cell_type": "code",
   "execution_count": 346,
   "metadata": {},
   "outputs": [
    {
     "data": {
      "text/html": [
       "<style>\n",
       ".list-inline {list-style: none; margin:0; padding: 0}\n",
       ".list-inline>li {display: inline-block}\n",
       ".list-inline>li:not(:last-child)::after {content: \"\\00b7\"; padding: 0 .5ex}\n",
       "</style>\n",
       "<ol class=list-inline><li>'elnet'</li><li>'glmnet'</li></ol>\n"
      ],
      "text/latex": [
       "\\begin{enumerate*}\n",
       "\\item 'elnet'\n",
       "\\item 'glmnet'\n",
       "\\end{enumerate*}\n"
      ],
      "text/markdown": [
       "1. 'elnet'\n",
       "2. 'glmnet'\n",
       "\n",
       "\n"
      ],
      "text/plain": [
       "[1] \"elnet\"  \"glmnet\""
      ]
     },
     "metadata": {},
     "output_type": "display_data"
    }
   ],
   "source": [
    "class(lasso.tr)"
   ]
  },
  {
   "cell_type": "code",
   "execution_count": 347,
   "metadata": {},
   "outputs": [
    {
     "data": {
      "text/html": [
       "12"
      ],
      "text/latex": [
       "12"
      ],
      "text/markdown": [
       "12"
      ],
      "text/plain": [
       "[1] 12"
      ]
     },
     "metadata": {},
     "output_type": "display_data"
    }
   ],
   "source": [
    "length(lasso.tr)"
   ]
  },
  {
   "cell_type": "code",
   "execution_count": 348,
   "metadata": {},
   "outputs": [
    {
     "data": {
      "text/html": [
       "<strong>$nobs</strong> = 264"
      ],
      "text/latex": [
       "\\textbf{\\$nobs} = 264"
      ],
      "text/markdown": [
       "**$nobs** = 264"
      ],
      "text/plain": [
       "$nobs\n",
       "[1] 264\n"
      ]
     },
     "metadata": {},
     "output_type": "display_data"
    }
   ],
   "source": [
    "lasso.tr[length(lasso.tr)]"
   ]
  },
  {
   "cell_type": "markdown",
   "metadata": {},
   "source": [
    "DOES NOT WORK???\n",
    "\n",
    "plot looks much different"
   ]
  },
  {
   "cell_type": "code",
   "execution_count": 385,
   "metadata": {},
   "outputs": [
    {
     "data": {
      "text/html": [
       "<style>\n",
       ".list-inline {list-style: none; margin:0; padding: 0}\n",
       ".list-inline>li {display: inline-block}\n",
       ".list-inline>li:not(:last-child)::after {content: \"\\00b7\"; padding: 0 .5ex}\n",
       "</style>\n",
       "<ol class=list-inline><li>83</li><li>83</li></ol>\n"
      ],
      "text/latex": [
       "\\begin{enumerate*}\n",
       "\\item 83\n",
       "\\item 83\n",
       "\\end{enumerate*}\n"
      ],
      "text/markdown": [
       "1. 83\n",
       "2. 83\n",
       "\n",
       "\n"
      ],
      "text/plain": [
       "[1] 83 83"
      ]
     },
     "metadata": {},
     "output_type": "display_data"
    }
   ],
   "source": [
    "#predictions on our left out data == -train\n",
    "pred=predict(lasso.tr,x[-train,])\n",
    "dim(pred)"
   ]
  },
  {
   "cell_type": "code",
   "execution_count": 332,
   "metadata": {},
   "outputs": [],
   "source": [
    "#class(x[-train,])"
   ]
  },
  {
   "cell_type": "code",
   "execution_count": 333,
   "metadata": {},
   "outputs": [],
   "source": [
    "#length(x[-train,])"
   ]
  },
  {
   "cell_type": "code",
   "execution_count": 334,
   "metadata": {},
   "outputs": [],
   "source": [
    "#min(x[-train,])"
   ]
  },
  {
   "cell_type": "code",
   "execution_count": 358,
   "metadata": {},
   "outputs": [],
   "source": [
    "#length(y[-train])"
   ]
  },
  {
   "cell_type": "code",
   "execution_count": 383,
   "metadata": {},
   "outputs": [
    {
     "data": {
      "image/png": "[encoded data removed]",
      "text/plain": [
       "plot without title"
      ]
     },
     "metadata": {
      "image/png": {
       "height": 420,
       "width": 420
      },
      "text/plain": {
       "height": 420,
       "width": 420
      }
     },
     "output_type": "display_data"
    }
   ],
   "source": [
    "#gave y as a vector\n",
    "#Recycles y vector 89 times, column wise\n",
    "#compute sum of squared errors\n",
    "#apply to compute the emans in each column of the squared errors\n",
    "#square root\n",
    "rmse=sqrt(apply((y[-train]-pred)^2,2,mean))\n",
    "\n",
    "#validation curve\n",
    "#left == overfit\n",
    "#right == underfit\n",
    "#lowest == sweetspot\n",
    "plot(log(lasso.tr$lambda),rmse,type='b',xlab='log(lambda)')"
   ]
  },
  {
   "cell_type": "code",
   "execution_count": 388,
   "metadata": {},
   "outputs": [
    {
     "data": {
      "text/html": [
       "0.184898786414909"
      ],
      "text/latex": [
       "0.184898786414909"
      ],
      "text/markdown": [
       "0.184898786414909"
      ],
      "text/plain": [
       "[1] 0.1848988"
      ]
     },
     "metadata": {},
     "output_type": "display_data"
    }
   ],
   "source": [
    "#extract best lambda\n",
    "\n",
    "# I do this by indexing.\n",
    "# There's a component on the glmnet object called lambda,\n",
    "# so this extracts that component.\n",
    "# Then our index that by order of rmac, so that's our root\n",
    "# meet squared error.\n",
    "# Order puts them in ascending order, and so we want the\n",
    "# index of the first or the smallest value. the best lambda\n",
    "lam.best=lasso.tr$lambda[order(rmse)[1]]\n",
    "#should be 19.98\n",
    "lam.best"
   ]
  },
  {
   "cell_type": "code",
   "execution_count": 389,
   "metadata": {},
   "outputs": [
    {
     "data": {
      "text/plain": [
       "21 x 1 sparse Matrix of class \"dgCMatrix\"\n",
       "                       1\n",
       "(Intercept)  350.6297539\n",
       "AtBat         -1.2578168\n",
       "Hits           4.9886233\n",
       "HmRun         -1.5697653\n",
       "Runs          -4.6112461\n",
       "RBI            1.4805894\n",
       "Walks          6.4727964\n",
       "Years        -15.1666096\n",
       "CAtBat        -0.2406861\n",
       "CHits          0.7827135\n",
       "CHmRun         1.2317185\n",
       "CRuns          1.0301163\n",
       "CRBI           0.2721197\n",
       "CWalks        -0.5677139\n",
       "LeagueA     -133.8315303\n",
       "LeagueN        .        \n",
       "DivisionW   -151.8512178\n",
       "PutOuts        0.2936503\n",
       "Assists        0.4126227\n",
       "Errors        -4.7895362\n",
       "NewLeagueN  -101.9146379"
      ]
     },
     "metadata": {},
     "output_type": "display_data"
    }
   ],
   "source": [
    "#look at coefficients corresponding to that variable\n",
    "#give us subset of those coeficicents\n",
    "\n",
    "\n",
    "# And the dots correspond to the zero, so those are the ones\n",
    "# that are missing.\n",
    "# And so they're not missing, but they're zeroes.\n",
    "# This is actually printed out in what's known as sparse\n",
    "# matrix format.\n",
    "# Which means only the non-missing values--\n",
    "# only the non-zero values are actually recorded.\n",
    "coef(lasso.tr,s=lam.best)"
   ]
  },
  {
   "cell_type": "markdown",
   "metadata": {},
   "source": [
    "### Fix above later!"
   ]
  },
  {
   "cell_type": "markdown",
   "metadata": {},
   "source": [
    "### THE END - CODE FROM BOOK (does not appear to work on the plot portion)"
   ]
  },
  {
   "cell_type": "code",
   "execution_count": 175,
   "metadata": {},
   "outputs": [],
   "source": [
    "set.seed(1)\n",
    "\n",
    "train=sample(c(TRUE,FALSE), nrow(Hitters),rep=TRUE)\n",
    "\n",
    "test=(!train)\n",
    "\n",
    "regfit.best=regsubsets(Salary~.,data=Hitters[train,],nvmax=19)\n",
    "\n",
    "test.mat=model.matrix(Salary~.,data=Hitters[test,])\n",
    "\n",
    "val.errors=rep(NA,19)\n",
    "\n",
    "for(i in 1:19){\n",
    "   coefi=coef(regfit.best,id=i)\n",
    "   pred=test.mat[,names(coefi)]%*%coefi\n",
    "   val.errors[i]=mean((Hitters$Salary[test]-pred)^2)\n",
    "}"
   ]
  },
  {
   "cell_type": "code",
   "execution_count": 176,
   "metadata": {},
   "outputs": [
    {
     "data": {
      "text/html": [
       "<style>\n",
       ".list-inline {list-style: none; margin:0; padding: 0}\n",
       ".list-inline>li {display: inline-block}\n",
       ".list-inline>li:not(:last-child)::after {content: \"\\00b7\"; padding: 0 .5ex}\n",
       "</style>\n",
       "<ol class=list-inline><li>164377.260362341</li><li>144405.470709589</li><li>152175.69459474</li><li>145198.381708901</li><li>137902.113680192</li><li>139175.74540071</li><li>126848.963422889</li><li>136191.381502395</li><li>132889.632125506</li><li>135434.897163883</li><li>136963.294656889</li><li>140694.931446905</li><li>140690.940552605</li><li>141951.168986255</li><li>141508.153781646</li><li>142164.368072385</li><li>141767.40236927</li><li>142339.552749068</li><li>142238.156755267</li></ol>\n"
      ],
      "text/latex": [
       "\\begin{enumerate*}\n",
       "\\item 164377.260362341\n",
       "\\item 144405.470709589\n",
       "\\item 152175.69459474\n",
       "\\item 145198.381708901\n",
       "\\item 137902.113680192\n",
       "\\item 139175.74540071\n",
       "\\item 126848.963422889\n",
       "\\item 136191.381502395\n",
       "\\item 132889.632125506\n",
       "\\item 135434.897163883\n",
       "\\item 136963.294656889\n",
       "\\item 140694.931446905\n",
       "\\item 140690.940552605\n",
       "\\item 141951.168986255\n",
       "\\item 141508.153781646\n",
       "\\item 142164.368072385\n",
       "\\item 141767.40236927\n",
       "\\item 142339.552749068\n",
       "\\item 142238.156755267\n",
       "\\end{enumerate*}\n"
      ],
      "text/markdown": [
       "1. 164377.260362341\n",
       "2. 144405.470709589\n",
       "3. 152175.69459474\n",
       "4. 145198.381708901\n",
       "5. 137902.113680192\n",
       "6. 139175.74540071\n",
       "7. 126848.963422889\n",
       "8. 136191.381502395\n",
       "9. 132889.632125506\n",
       "10. 135434.897163883\n",
       "11. 136963.294656889\n",
       "12. 140694.931446905\n",
       "13. 140690.940552605\n",
       "14. 141951.168986255\n",
       "15. 141508.153781646\n",
       "16. 142164.368072385\n",
       "17. 141767.40236927\n",
       "18. 142339.552749068\n",
       "19. 142238.156755267\n",
       "\n",
       "\n"
      ],
      "text/plain": [
       " [1] 164377.3 144405.5 152175.7 145198.4 137902.1 139175.7 126849.0 136191.4\n",
       " [9] 132889.6 135434.9 136963.3 140694.9 140690.9 141951.2 141508.2 142164.4\n",
       "[17] 141767.4 142339.6 142238.2"
      ]
     },
     "metadata": {},
     "output_type": "display_data"
    }
   ],
   "source": [
    "val.errors"
   ]
  },
  {
   "cell_type": "code",
   "execution_count": 177,
   "metadata": {},
   "outputs": [
    {
     "data": {
      "text/html": [
       "7"
      ],
      "text/latex": [
       "7"
      ],
      "text/markdown": [
       "7"
      ],
      "text/plain": [
       "[1] 7"
      ]
     },
     "metadata": {},
     "output_type": "display_data"
    }
   ],
   "source": [
    "which.min(val.errors)"
   ]
  },
  {
   "cell_type": "code",
   "execution_count": 178,
   "metadata": {},
   "outputs": [
    {
     "data": {
      "text/html": [
       "<style>\n",
       ".dl-inline {width: auto; margin:0; padding: 0}\n",
       ".dl-inline>dt, .dl-inline>dd {float: none; width: auto; display: inline-block}\n",
       ".dl-inline>dt::after {content: \":\\0020\"; padding-right: .5ex}\n",
       ".dl-inline>dt:not(:first-of-type) {padding-left: .5ex}\n",
       "</style><dl class=dl-inline><dt>(Intercept)</dt><dd>71.8074074569774</dd><dt>AtBat</dt><dd>-1.50381244746083</dd><dt>Hits</dt><dd>5.91304696100221</dd><dt>HmRun</dt><dd>-11.5241808840489</dd><dt>Walks</dt><dd>8.43497589129605</dd><dt>CAtBat</dt><dd>-0.16548497682062</dd><dt>CRuns</dt><dd>1.7064329882399</dd><dt>CRBI</dt><dd>0.790369393466115</dd><dt>CWalks</dt><dd>-0.910751547413058</dd><dt>DivisionW</dt><dd>-109.561699686686</dd><dt>PutOuts</dt><dd>0.242607822027539</dd></dl>\n"
      ],
      "text/latex": [
       "\\begin{description*}\n",
       "\\item[(Intercept)] 71.8074074569774\n",
       "\\item[AtBat] -1.50381244746083\n",
       "\\item[Hits] 5.91304696100221\n",
       "\\item[HmRun] -11.5241808840489\n",
       "\\item[Walks] 8.43497589129605\n",
       "\\item[CAtBat] -0.16548497682062\n",
       "\\item[CRuns] 1.7064329882399\n",
       "\\item[CRBI] 0.790369393466115\n",
       "\\item[CWalks] -0.910751547413058\n",
       "\\item[DivisionW] -109.561699686686\n",
       "\\item[PutOuts] 0.242607822027539\n",
       "\\end{description*}\n"
      ],
      "text/markdown": [
       "(Intercept)\n",
       ":   71.8074074569774AtBat\n",
       ":   -1.50381244746083Hits\n",
       ":   5.91304696100221HmRun\n",
       ":   -11.5241808840489Walks\n",
       ":   8.43497589129605CAtBat\n",
       ":   -0.16548497682062CRuns\n",
       ":   1.7064329882399CRBI\n",
       ":   0.790369393466115CWalks\n",
       ":   -0.910751547413058DivisionW\n",
       ":   -109.561699686686PutOuts\n",
       ":   0.242607822027539\n",
       "\n"
      ],
      "text/plain": [
       " (Intercept)        AtBat         Hits        HmRun        Walks       CAtBat \n",
       "  71.8074075   -1.5038124    5.9130470  -11.5241809    8.4349759   -0.1654850 \n",
       "       CRuns         CRBI       CWalks    DivisionW      PutOuts \n",
       "   1.7064330    0.7903694   -0.9107515 -109.5616997    0.2426078 "
      ]
     },
     "metadata": {},
     "output_type": "display_data"
    }
   ],
   "source": [
    "coef(regfit.best,10)"
   ]
  },
  {
   "cell_type": "code",
   "execution_count": 182,
   "metadata": {},
   "outputs": [
    {
     "data": {
      "image/png": "[encoded data removed]",
      "text/plain": [
       "plot without title"
      ]
     },
     "metadata": {
      "image/png": {
       "height": 420,
       "width": 420
      },
      "text/plain": {
       "height": 420,
       "width": 420
      }
     },
     "output_type": "display_data"
    }
   ],
   "source": [
    "#plot root MSE\n",
    "#jumpy b/c not much n in validation set (>90)\n",
    "plot(sqrt(val.errors), ylab='Root MSE',ylim=c(300,400),pch=19, type='b')\n",
    "\n",
    "#put RSS model in the same plot\n",
    "#regfit.fwd$rss[-1] == remove first (y-intercept);null model\n",
    "\n",
    "\n",
    "#does NOT WORK\n",
    "#RSS (should overlap at 5); \n",
    "#monotone decreasing == the more predictors, the more it decreases\n",
    "#b/c stepwise == every added predictor aids model\n",
    "points(sqrt(regfit.best$rss[-1]/180),col='blue', pch=19,type='b')\n",
    "\n",
    "#annotate w/ a legend\n",
    "legend(\"topright\",legend=c('Training','Validation'),col=c('blue','black'),pch=19)"
   ]
  },
  {
   "cell_type": "code",
   "execution_count": 179,
   "metadata": {},
   "outputs": [],
   "source": [
    "predict.regsubsets=function(object,newdata,id,...){\n",
    "  form=as.formula(object$call[[2]])\n",
    "  mat=model.matrix(form,newdata)\n",
    "  coefi=coef(object,id=id)\n",
    "  xvars=names(coefi)\n",
    "  mat[,xvars]%*%coefi\n",
    "  }"
   ]
  },
  {
   "cell_type": "code",
   "execution_count": null,
   "metadata": {},
   "outputs": [],
   "source": [
    "regfit.best=regsubsets(Salary~.,data=Hitters,nvmax=19)\n"
   ]
  }
 ],
 "metadata": {
  "kernelspec": {
   "display_name": "R",
   "language": "R",
   "name": "ir"
  },
  "language_info": {
   "codemirror_mode": "r",
   "file_extension": ".r",
   "mimetype": "text/x-r-source",
   "name": "R",
   "pygments_lexer": "r",
   "version": "3.6.2"
  }
 },
 "nbformat": 4,
 "nbformat_minor": 2
}
