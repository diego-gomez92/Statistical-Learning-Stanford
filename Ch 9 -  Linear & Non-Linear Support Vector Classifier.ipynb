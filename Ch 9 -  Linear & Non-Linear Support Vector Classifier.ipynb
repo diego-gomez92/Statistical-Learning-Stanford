{
 "cells": [
  {
   "cell_type": "markdown",
   "metadata": {},
   "source": [
    "### SVM\n",
    "\n",
    "To demonstrate that SVM, it is easiest to work in low dimensions, so we can see the data."
   ]
  },
  {
   "cell_type": "markdown",
   "metadata": {},
   "source": [
    "#### Linear SVM Classifier\n",
    "\n",
    "Lets generate some data in two dimensions, and make them a little seperated."
   ]
  },
  {
   "cell_type": "markdown",
   "metadata": {},
   "source": [
    "we'll make a matrix x.\n",
    "We'll make 20 observations in two classes on two variables.\n",
    "So we use the matrix command.\n",
    "And we make them normally distributed.\n",
    "\n",
    "And then we make a y variable, which is going to be\n",
    "minus 1 or plus 1.\n",
    "And there's 10 in each class.\n",
    "\n",
    "And then for the y equal plus 1 guys, we move the means from\n",
    "0 to 1 in each of the coordinates."
   ]
  },
  {
   "cell_type": "code",
   "execution_count": 34,
   "metadata": {},
   "outputs": [],
   "source": [
    "set.seed(10111)\n",
    "#n=40 (20 for each class); 2 vars\n",
    "x<-matrix(rnorm(40),20,2)\n",
    "y<-rep(c(-1,1),c(10,10))\n",
    "x[y==1,]<-x[y==1,]+1\n",
    "#x[c(1:20)]<-x[1:20]+1"
   ]
  },
  {
   "cell_type": "code",
   "execution_count": 28,
   "metadata": {},
   "outputs": [],
   "source": [
    "#y"
   ]
  },
  {
   "cell_type": "code",
   "execution_count": 38,
   "metadata": {},
   "outputs": [],
   "source": [
    "#x"
   ]
  },
  {
   "cell_type": "code",
   "execution_count": 35,
   "metadata": {},
   "outputs": [],
   "source": [
    "#x[c(1:20)]"
   ]
  },
  {
   "cell_type": "code",
   "execution_count": 39,
   "metadata": {},
   "outputs": [],
   "source": [
    "#x[y==y,]"
   ]
  },
  {
   "cell_type": "code",
   "execution_count": 40,
   "metadata": {},
   "outputs": [
    {
     "data": {
      "text/html": [
       "'matrix'"
      ],
      "text/latex": [
       "'matrix'"
      ],
      "text/markdown": [
       "'matrix'"
      ],
      "text/plain": [
       "[1] \"matrix\""
      ]
     },
     "metadata": {},
     "output_type": "display_data"
    }
   ],
   "source": [
    "class(x[y==1,])"
   ]
  },
  {
   "cell_type": "code",
   "execution_count": 41,
   "metadata": {},
   "outputs": [
    {
     "name": "stdout",
     "output_type": "stream",
     "text": [
      "     [,1] [,2]\n"
     ]
    }
   ],
   "source": [
    "print(x[y==0,])"
   ]
  },
  {
   "cell_type": "code",
   "execution_count": 42,
   "metadata": {},
   "outputs": [
    {
     "name": "stdout",
     "output_type": "stream",
     "text": [
      "            [,1]       [,2]\n",
      " [1,]  1.3264276  1.4006172\n",
      " [2,]  0.6886685  1.3855096\n",
      " [3,]  2.7057305  1.5263118\n",
      " [4,]  2.3354574 -0.4977975\n",
      " [5,] -1.3406379  2.2054430\n",
      " [6,]  1.2445945 -0.1841839\n",
      " [7,]  0.7721881  1.5391637\n",
      " [8,] -0.3640324  2.3233450\n",
      " [9,]  1.6404738  1.1770857\n",
      "[10,] -1.0440209  1.9501643\n"
     ]
    }
   ],
   "source": [
    "print(x[y==1,])"
   ]
  },
  {
   "cell_type": "markdown",
   "metadata": {},
   "source": [
    "Color code the points according to their response.\n",
    "\n",
    "visible dot coded blue or red\n",
    "according to whether the response is plus 1 or minus 1."
   ]
  },
  {
   "cell_type": "code",
   "execution_count": 5,
   "metadata": {},
   "outputs": [
    {
     "data": {
      "image/png": "[encoded data removed]",
      "text/plain": [
       "plot without title"
      ]
     },
     "metadata": {
      "image/png": {
       "height": 420,
       "width": 420
      },
      "text/plain": {
       "height": 420,
       "width": 420
      }
     },
     "output_type": "display_data"
    }
   ],
   "source": [
    "plot(x,col=y+3,pch=19)"
   ]
  },
  {
   "cell_type": "markdown",
   "metadata": {},
   "source": [
    "Now we wll load the package 'e1071' which constrains the 'svm' function we will use.\n",
    "\n",
    "We then compute the fit.\n",
    "\n",
    "Nortice that we have to specify a 'cost' parameter, which is a tuning paramter. "
   ]
  },
  {
   "cell_type": "code",
   "execution_count": 43,
   "metadata": {},
   "outputs": [
    {
     "name": "stderr",
     "output_type": "stream",
     "text": [
      "Installing package into 'C:/Users/Diego/Documents/R/win-library/3.6'\n",
      "(as 'lib' is unspecified)\n",
      "\n"
     ]
    },
    {
     "name": "stdout",
     "output_type": "stream",
     "text": [
      "package 'e1071' successfully unpacked and MD5 sums checked\n",
      "\n",
      "The downloaded binary packages are in\n",
      "\tC:\\Users\\Diego\\AppData\\Local\\Temp\\RtmpGO9Bc9\\downloaded_packages\n"
     ]
    }
   ],
   "source": [
    "install.packages('e1071')"
   ]
  },
  {
   "cell_type": "code",
   "execution_count": 44,
   "metadata": {},
   "outputs": [
    {
     "name": "stderr",
     "output_type": "stream",
     "text": [
      "Warning message:\n",
      "\"package 'e1071' was built under R version 3.6.3\"\n"
     ]
    }
   ],
   "source": [
    "library(e1071)"
   ]
  },
  {
   "cell_type": "markdown",
   "metadata": {},
   "source": [
    "And now, we'll make a data frame of our data. We're going to turn y into a factor variable here.\n",
    "\n",
    "And now, we make a call to SVM.\n",
    "So it uses the formula language, just like in our\n",
    "other example.\n",
    "\n",
    "So we'll go y twiddle dot.\n",
    "y is the response.\n",
    "And the other variables are the predictors.\n",
    "The data frame will have unpacked the matrix x into two\n",
    "columns named x1 and x2.\n",
    "And we tell SVM that the kernel is linear. Of course, we want it for the support vector classify, which\n",
    "is a linear classify in this case.\n",
    "\n",
    "And the tune-in parameter is the cost, which\n",
    "we'll set at 10.\n",
    "And scale equals false.\n",
    "For this example, we'll ask it not to\n",
    "standardize the variables."
   ]
  },
  {
   "cell_type": "code",
   "execution_count": 49,
   "metadata": {},
   "outputs": [],
   "source": [
    "#matrix w/ 3 columns, x1,x2,and y\n",
    "dat<-data.frame(x,y=as.factor(y))\n",
    "#fit\n",
    "svm.fit<-svm(y~.,data=dat,kernel='linear',\n",
    "    cost=10,scale=FALSE)"
   ]
  },
  {
   "cell_type": "code",
   "execution_count": 51,
   "metadata": {},
   "outputs": [],
   "source": [
    "#dat"
   ]
  },
  {
   "cell_type": "code",
   "execution_count": 55,
   "metadata": {},
   "outputs": [],
   "source": [
    "#head(svm.fit)"
   ]
  },
  {
   "cell_type": "markdown",
   "metadata": {},
   "source": [
    "support vectors are the points\n",
    "that are close to the boundary or on the\n",
    "wrong side of the boundary."
   ]
  },
  {
   "cell_type": "code",
   "execution_count": 59,
   "metadata": {},
   "outputs": [],
   "source": [
    "#number of support vectors is 6\n",
    "#print(svm.fit)"
   ]
  },
  {
   "cell_type": "markdown",
   "metadata": {},
   "source": [
    "It shows you the decision boundary.\n",
    "It looks a little bit jagged here.\n",
    "It doesn't seem there's much control over the colors.\n",
    "And as we point out in the book, it breaks with\n",
    "convention.\n",
    "\n",
    "And it puts x2 on the horizontal axis and x1 on the\n",
    "vertical axis."
   ]
  },
  {
   "cell_type": "code",
   "execution_count": 58,
   "metadata": {},
   "outputs": [
    {
     "data": {
      "image/png": "[encoded data removed]",
      "text/plain": [
       "Plot with title \"SVM classification plot\""
      ]
     },
     "metadata": {
      "image/png": {
       "height": 420,
       "width": 420
      },
      "text/plain": {
       "height": 420,
       "width": 420
      }
     },
     "output_type": "display_data"
    }
   ],
   "source": [
    "plot(svm.fit,dat)"
   ]
  },
  {
   "cell_type": "markdown",
   "metadata": {},
   "source": [
    "As mentioned in the chapter, the plot function is somewhat crude, and plots x2 on horizontal axis (unlike with R would do automatically for a matrix). Lets see how we might make our own plot. "
   ]
  },
  {
   "cell_type": "markdown",
   "metadata": {},
   "source": [
    "First thing we're going to\n",
    "do is we're going to make a grid of values or a lattice of\n",
    "values for x1 and x2 that covers the whole domain on a\n",
    "fairly fine lattice.\n",
    "\n",
    "We will write a function to do that, in case we want to reuse it. It uses the handy function 'expand.grid', and produces the coordinates of 'n*n' points on a lattice covering the domain of 'x'.\n",
    "\n",
    "Having made the lattice, we make a prediction at each point on the lattice. (And then we're going to predict the classified each\n",
    "point in the lattice and then plot them and color-code the\n",
    "points, so that we can actually see\n",
    "the decision boundary.)\n",
    "\n",
    "We then plot the lattice, color-coded according to the classification.\n",
    "\n",
    "Now we can see the decision boundary."
   ]
  },
  {
   "cell_type": "markdown",
   "metadata": {},
   "source": [
    "The support points (points on the margin, or on the wrong side of the margin) are indexed in the '$index' component of the fit."
   ]
  },
  {
   "cell_type": "markdown",
   "metadata": {},
   "source": [
    "1. first of all, we're going to make a\n",
    "function called make.grid.\n",
    "And it's going to take in our data matrix x.\n",
    "And it takes an argument and a number of\n",
    "points in each direction.\n",
    "And we're going to ask for 75.\n",
    "So we're going to ask for a 75 by 75 grid.\n",
    "\n",
    "2. first thing function does is it uses the Apply function to\n",
    "get the range of each of the variables in x.\n",
    "\n",
    "3.And then for each of them, x1 and x2, it uses the Seek\n",
    "function to go from the lowest value to the upper value and\n",
    "make a grid of length n. And then, now it's got these x1 and x2 now or each of\n",
    "length 75 uniformly-spaced values on each of the\n",
    "coordinates.\n",
    "\n",
    "4. And then there's this wonderful function called\n",
    "expand.grid, which takes those two and makes\n",
    "the lattice for you.\n",
    "And then that's what gets returned."
   ]
  },
  {
   "cell_type": "code",
   "execution_count": 71,
   "metadata": {},
   "outputs": [],
   "source": [
    "#2 == Marigin == \"or a matrix 1 indicates rows, 2 indicates columns, c(1, 2) indicates rows and columns\"\n",
    "#columns??\n",
    "# grange<-apply(x,2,range)\n",
    "# grange"
   ]
  },
  {
   "cell_type": "code",
   "execution_count": 64,
   "metadata": {},
   "outputs": [],
   "source": [
    "#?apply"
   ]
  },
  {
   "cell_type": "code",
   "execution_count": 70,
   "metadata": {},
   "outputs": [],
   "source": [
    "#lowest to highest\n",
    "#?range"
   ]
  },
  {
   "cell_type": "code",
   "execution_count": 72,
   "metadata": {},
   "outputs": [],
   "source": [
    "#makes vector size n\n",
    "#from row 1, col 1 in grange, to row2, col1\n",
    "#(-1.3 to 2.7)\n",
    "#increasing order\n",
    "# x1<-seq(from=grange[1,1],to=grange[2,1],length=10)\n",
    "# x1"
   ]
  },
  {
   "cell_type": "code",
   "execution_count": 73,
   "metadata": {},
   "outputs": [],
   "source": [
    "#from row1, col 2, to row 2, col 2\n",
    "#(-.54  to 2.3)\n",
    "# x2<-seq(from=grange[1,2],to=grange[2,2],length=10)\n",
    "# x2"
   ]
  },
  {
   "cell_type": "code",
   "execution_count": 74,
   "metadata": {},
   "outputs": [],
   "source": [
    "make.grid<-function(x,n=75){\n",
    "    #range for each var in x\n",
    "    grange<-apply(x,2,range)\n",
    "    #use seq to go from lowest to highest\n",
    "    #make grid of length n\n",
    "    x1<-seq(from=grange[1,1],to=grange[2,1],length=n)\n",
    "    x2<-seq(from=grange[1,2],to=grange[2,2],length=n)\n",
    "    #makes lattice\n",
    "    expand.grid(X1=x1,X2=x2)\n",
    "}"
   ]
  },
  {
   "cell_type": "markdown",
   "metadata": {},
   "source": [
    "And so you can see there's the grid starting.\n",
    "So it's going through the first coordinate first,\n",
    "holding the second coordinate fixed.\n",
    "And it'll be 75 times 75.\n",
    "So that's 5,625 points are going to be on this grid."
   ]
  },
  {
   "cell_type": "code",
   "execution_count": 80,
   "metadata": {},
   "outputs": [],
   "source": [
    "#x<-matrix(rnorm(40),20,2)\n",
    "#xgrid<-make.grid(x)\n",
    "#xgrid[1:10,] #comma indicates rows\n",
    "#tail(xgrid)"
   ]
  },
  {
   "cell_type": "markdown",
   "metadata": {},
   "source": [
    "We now predict from our SVM foot at the\n",
    "values on this grid.\n",
    "So the new data we've given it is xgrid.\n",
    "And we call the response ygrid."
   ]
  },
  {
   "cell_type": "code",
   "execution_count": 81,
   "metadata": {},
   "outputs": [],
   "source": [
    "xgrid<-make.grid(x)\n",
    "ygrid<-predict(svmfit,xgrid)"
   ]
  },
  {
   "cell_type": "markdown",
   "metadata": {},
   "source": [
    "So now, what I'm going to do is make a plot.\n",
    "And I'll plot all the points in xgrid.\n",
    "And I color them according to what their prediction was.\n",
    "\n",
    "And there it is.\n",
    "And so now you actually see the decision boundary.\n",
    "\n",
    "Do you see the fine lattice?\n",
    "Each of the points is one of the points on the lattice.\n",
    "And we've color-coded where they classify.\n",
    "So you can clearly see the decision boundary."
   ]
  },
  {
   "cell_type": "code",
   "execution_count": 82,
   "metadata": {},
   "outputs": [
    {
     "data": {
      "image/png": "[encoded data removed]",
      "text/plain": [
       "plot without title"
      ]
     },
     "metadata": {
      "image/png": {
       "height": 420,
       "width": 420
      },
      "text/plain": {
       "height": 420,
       "width": 420
      }
     },
     "output_type": "display_data"
    }
   ],
   "source": [
    "plot(xgrid,col=c('red','blue')[as.numeric(ygrid)],\n",
    "    pch=20,cex=.2)"
   ]
  },
  {
   "cell_type": "code",
   "execution_count": 83,
   "metadata": {
    "scrolled": true
   },
   "outputs": [
    {
     "data": {
      "image/png": "[encoded data removed]",
      "text/plain": [
       "plot without title"
      ]
     },
     "metadata": {
      "image/png": {
       "height": 420,
       "width": 420
      },
      "text/plain": {
       "height": 420,
       "width": 420
      }
     },
     "output_type": "display_data"
    }
   ],
   "source": [
    "plot(xgrid,col=c('red','blue')[as.numeric(ygrid)],\n",
    "    pch=20,cex=.2)\n",
    "#put original points on the plot \n",
    "points(x,col=y+3,pch=19)"
   ]
  },
  {
   "cell_type": "markdown",
   "metadata": {},
   "source": [
    "#### This was using SVM in 2-D\n",
    "\n",
    "And in fact, on the SVM foot is a component called index.\n",
    "\n",
    "And that actually tells you which are the support points.\n",
    "And so we're going to include them in the plot by using the\n",
    "points function."
   ]
  },
  {
   "cell_type": "code",
   "execution_count": 88,
   "metadata": {},
   "outputs": [
    {
     "data": {
      "image/png": "[encoded data removed]",
      "text/plain": [
       "plot without title"
      ]
     },
     "metadata": {
      "image/png": {
       "height": 420,
       "width": 420
      },
      "text/plain": {
       "height": 420,
       "width": 420
      }
     },
     "output_type": "display_data"
    }
   ],
   "source": [
    "plot(xgrid,col=c('red','blue')[as.numeric(ygrid)],\n",
    "    pch=20,cex=.2)\n",
    "#put original points on the plot \n",
    "points(x,col=y+3,pch=19)\n",
    "#support points \n",
    "#cex makes symbol different (character expansion)\n",
    "#these points are key in making decision boundary \n",
    "points(x[svmfit$index,],pch=5,cex=2)"
   ]
  },
  {
   "cell_type": "markdown",
   "metadata": {},
   "source": [
    "The 'svm' function is not fiendly, in that we have to do some work to get back the linear coefficients (to describe linear function), as described in the text.\n",
    "\n",
    "Problaby the reason is that this only makes sense for linear kernels, and the function is more general.\n",
    "\n",
    "Here we will use a formula to extract the coefficients; for those interested in where this comes from, have a look at ch12 of ESL. "
   ]
  },
  {
   "cell_type": "markdown",
   "metadata": {},
   "source": [
    "We extract the linear coefficients, and then using simple algebra, we include the decision voundary and the two margins.\n",
    "\n",
    "And so I extracted beta and beta 0, which used the\n",
    "formulas described in that chapter."
   ]
  },
  {
   "cell_type": "code",
   "execution_count": 90,
   "metadata": {},
   "outputs": [],
   "source": [
    "#create betas (coefficients)\n",
    "beta<-drop(t(svmfit$coefs)%*%x[svmfit$index,])\n",
    "beta0<-svmfit$rho"
   ]
  },
  {
   "cell_type": "markdown",
   "metadata": {},
   "source": [
    "And now, I'm going to use the coefficients to draw the\n",
    "decision boundary.\n",
    "\n",
    "It's a simple equation.\n",
    "The equations of the form beta 0 plus beta 1 x1 plus beta 2\n",
    "x2 equals 0.\n",
    "\n",
    "And from that equation, you have to figure out a slope and\n",
    "an intercept for the decision boundary.\n",
    "So it's a little bit of algebra.\n",
    "\n",
    "And once you do that, you can use a function ab line.\n",
    "ab line expects an intercept on a slope.\n",
    "And you can see we've got it spot on.\n",
    "There's the decision boundary."
   ]
  },
  {
   "cell_type": "code",
   "execution_count": 93,
   "metadata": {},
   "outputs": [
    {
     "data": {
      "image/png": "[encoded data removed]",
      "text/plain": [
       "plot without title"
      ]
     },
     "metadata": {
      "image/png": {
       "height": 420,
       "width": 420
      },
      "text/plain": {
       "height": 420,
       "width": 420
      }
     },
     "output_type": "display_data"
    }
   ],
   "source": [
    "plot(xgrid,col=c('red','blue')[as.numeric(ygrid)],\n",
    "    pch=20,cex=.2)\n",
    "points(x,col=y+3,pch=19)\n",
    "points(x[svmfit$index,],pch=5,cex=2)\n",
    "#decision boundary \n",
    "abline(beta0/beta[2],-beta[1]/beta[2])\n",
    "#margin +1 (upper margin)\n",
    "abline((beta0+1)/beta[2],-beta[1]/beta[2],lty=2)\n",
    "#margin -1\n",
    "abline((beta0-1)/beta[2],-beta[1]/beta[2],lty=2)"
   ]
  },
  {
   "cell_type": "markdown",
   "metadata": {},
   "source": [
    "### Non-Linear SVM\n",
    "\n",
    "Instead, we will run the SVM on some data where a non-linear boundary is called for. \n",
    "\n",
    "And again, when fitting the support vector machine, the\n",
    "cost parameter is a tuning parameter that one would\n",
    "normally have to select.\n",
    "\n",
    "We're not going to do this in these sessions, but you can\n",
    "use cross-validation to select that.\n",
    "And that's done in the R sessions in the book.\n",
    "\n",
    "\n",
    "We will use data from ESL:\n",
    "- which had a canonical example in two\n",
    "dimensions where the decision boundary was non-linear.\n",
    "And we're going to use the kernel support vector machine\n",
    "to try and learn that boundary."
   ]
  },
  {
   "cell_type": "code",
   "execution_count": 94,
   "metadata": {},
   "outputs": [],
   "source": [
    "#load directly from url (website)\n",
    "load(url('http://web.stanford.edu/~hastie/ElemStatLearn/datasets/ESL.mixture.rda'))"
   ]
  },
  {
   "cell_type": "code",
   "execution_count": 95,
   "metadata": {},
   "outputs": [
    {
     "data": {
      "text/html": [
       "<style>\n",
       ".list-inline {list-style: none; margin:0; padding: 0}\n",
       ".list-inline>li {display: inline-block}\n",
       ".list-inline>li:not(:last-child)::after {content: \"\\00b7\"; padding: 0 .5ex}\n",
       "</style>\n",
       "<ol class=list-inline><li>'x'</li><li>'y'</li><li>'xnew'</li><li>'prob'</li><li>'marginal'</li><li>'px1'</li><li>'px2'</li><li>'means'</li></ol>\n"
      ],
      "text/latex": [
       "\\begin{enumerate*}\n",
       "\\item 'x'\n",
       "\\item 'y'\n",
       "\\item 'xnew'\n",
       "\\item 'prob'\n",
       "\\item 'marginal'\n",
       "\\item 'px1'\n",
       "\\item 'px2'\n",
       "\\item 'means'\n",
       "\\end{enumerate*}\n"
      ],
      "text/markdown": [
       "1. 'x'\n",
       "2. 'y'\n",
       "3. 'xnew'\n",
       "4. 'prob'\n",
       "5. 'marginal'\n",
       "6. 'px1'\n",
       "7. 'px2'\n",
       "8. 'means'\n",
       "\n",
       "\n"
      ],
      "text/plain": [
       "[1] \"x\"        \"y\"        \"xnew\"     \"prob\"     \"marginal\" \"px1\"      \"px2\"     \n",
       "[8] \"means\"   "
      ]
     },
     "metadata": {},
     "output_type": "display_data"
    }
   ],
   "source": [
    "#mixture data\n",
    "\n",
    "#list of these data\n",
    "names(ESL.mixture)"
   ]
  },
  {
   "cell_type": "markdown",
   "metadata": {},
   "source": [
    "For the moment, the training data are x and y.\n",
    "And there are some other variables on there\n",
    "\n",
    "Now first of all, we've already created an x and y for\n",
    "our previous example.\n",
    "So I'm just going to get rid of those so that I can attach\n",
    "this state, this list, which I've now done."
   ]
  },
  {
   "cell_type": "code",
   "execution_count": 96,
   "metadata": {},
   "outputs": [],
   "source": [
    "rm(x,y)"
   ]
  },
  {
   "cell_type": "code",
   "execution_count": 97,
   "metadata": {},
   "outputs": [],
   "source": [
    "# attach this state, this list\n",
    "attach(ESL.mixture)"
   ]
  },
  {
   "cell_type": "markdown",
   "metadata": {},
   "source": [
    "These data are also two dimensional. \n",
    "\n",
    "Lets plot them and fit a nonlinear SVM, using a radial kernel.\n",
    "\n",
    "1) Two-dimensional data.\n",
    "They seem to overlap quite a bit.\n",
    "But we'll see that there's something special in the\n",
    "structure of these data.\n",
    "\n",
    "2) We'll make a data frame with the response y, and we'll turn\n",
    "that into a factor much like before.\n",
    "\n",
    "3) And now we'll fit a support vector machine.\n",
    "But here, the kernel will be radial, and we'll give a cost\n",
    "parameter of 5.\n",
    "And again, we won't scale the data."
   ]
  },
  {
   "cell_type": "code",
   "execution_count": 98,
   "metadata": {},
   "outputs": [
    {
     "data": {
      "image/png": "[encoded data removed]",
      "text/plain": [
       "plot without title"
      ]
     },
     "metadata": {
      "image/png": {
       "height": 420,
       "width": 420
      },
      "text/plain": {
       "height": 420,
       "width": 420
      }
     },
     "output_type": "display_data"
    }
   ],
   "source": [
    "#2-D data\n",
    "plot(x,col=y+1)"
   ]
  },
  {
   "cell_type": "code",
   "execution_count": 108,
   "metadata": {},
   "outputs": [],
   "source": [
    "#y == 0s and 1s\n",
    "#x == x1 and x2 values\n",
    "dat<-data.frame(y=factor(y),x)\n",
    "# head(dat)\n",
    "# tail(dat)"
   ]
  },
  {
   "cell_type": "code",
   "execution_count": 104,
   "metadata": {},
   "outputs": [],
   "source": [
    "#dat$y"
   ]
  },
  {
   "cell_type": "code",
   "execution_count": 105,
   "metadata": {},
   "outputs": [],
   "source": [
    "fit<-svm(factor(y)~.,data=dat,scale=FALSE,\n",
    "        kernel='radial',cost=5)"
   ]
  },
  {
   "cell_type": "code",
   "execution_count": 107,
   "metadata": {},
   "outputs": [],
   "source": [
    "#fit"
   ]
  },
  {
   "cell_type": "markdown",
   "metadata": {},
   "source": [
    "Now we are going to create a grid, as before, and make predictions on the grid.\n",
    "\n",
    "(Now, these data actually came supplied with grid points.\n",
    "If you look down on the summary on the names that were\n",
    "on the list, there are two variables, px1 and px2.\n",
    "And so these are the grid of values for\n",
    "each of the two variables.\n",
    "So we don't actually have to use our\n",
    "function that we created.\n",
    "We can just use expand.grid directly to\n",
    "create the grid of values.)\n",
    "\n",
    "These data have the grid points for each variable included on the data frame. \n",
    "\n",
    "And like before, we'll predict the classification at each of\n",
    "the values on the grid.\n",
    "And now we'll plot and into the points, and color the\n",
    "points according to the decision boundary.\n",
    "\n",
    "And like before, we'll predict the classification at each of\n",
    "the values on the grid.\n",
    "And now we'll plot and into the points, and color the\n",
    "points according to the decision boundary.\n",
    "\n",
    "We can put our data points in the plot.\n",
    "And we see where the data lies.\n",
    "\n",
    "So you can see the decision boundary is non-linear now.\n",
    "And then the red region's larger to the top, and the\n",
    "black region's larger down below.\n",
    "\n",
    "We can put our data points in the plot.\n",
    "And we see where the data lies.\n",
    "And you can see that the decision boundary is, to a\n",
    "large extent, following where the data is, but in a very\n",
    "non-linear way."
   ]
  },
  {
   "cell_type": "code",
   "execution_count": 110,
   "metadata": {},
   "outputs": [],
   "source": [
    "xgrid<-expand.grid(X1=px1,X2=px2)\n",
    "ygrid<-predict(fit,xgrid)"
   ]
  },
  {
   "cell_type": "code",
   "execution_count": 112,
   "metadata": {},
   "outputs": [
    {
     "data": {
      "image/png": "[encoded data removed]",
      "text/plain": [
       "plot without title"
      ]
     },
     "metadata": {
      "image/png": {
       "height": 420,
       "width": 420
      },
      "text/plain": {
       "height": 420,
       "width": 420
      }
     },
     "output_type": "display_data"
    }
   ],
   "source": [
    "plot(xgrid,col=as.numeric(ygrid),pch=20,\n",
    "    cex=.2)\n",
    "points(x,col=y+1,pch=19)"
   ]
  },
  {
   "cell_type": "markdown",
   "metadata": {},
   "source": [
    "####  Put in a curve that gives decision boundary\n",
    "\n",
    "\n",
    "We can go further, and have the predict  function produce the actual function estimates at each of our grid points.\n",
    "\n",
    "We can include the actual decision boundary on the plot by making use of the 'contour' function.\n",
    "\n",
    "On the dataframe is also 'prob', which is the true probability of class 1 for these data, at the gridpoints. \n",
    "\n",
    "If we plot its 0.5 contour, that will give us the _Bayes Decision Boundary_, which is the best one could ever do. \n",
    "\n",
    "\n",
    ". (in data frame is also a variable called prob.\n",
    "And prob actually gives--\n",
    "these data were simulated, and prob gives the true\n",
    "probability of a plus 1 versus a minus 1 at every value on\n",
    "the grid that we have here.)\n",
    "\n",
    ".1) (We going to use the contour function.)\n",
    "\n",
    "2) (And we're going begin to plot the contour of prob at a half,\n",
    "which would be the true decision\n",
    "boundary for these data.)\n",
    "\n",
    "3) (predict from our model.\n",
    "We're going to predict not just class label.\n",
    "But we're going to predict the function itself.)\n",
    "\n",
    "4) (And we'll get to the decision boundary that's learned for\n",
    "these data by plotting the contour of that\n",
    "function, the 0 contour.\n",
    "Because that function we classify to plus 1 if it's\n",
    "positive, otherwise to minus 1.\n",
    "And so we going to do that for each of these and include them\n",
    "on the plot.) "
   ]
  },
  {
   "cell_type": "markdown",
   "metadata": {},
   "source": [
    "OK, so the first one is we'll just predict\n",
    "out fit on the grid.\n",
    "\n",
    "OK, but we tell it decision values equals 2, because we\n",
    "want to get that function, the actual function and not just\n",
    "the classification.\n",
    "\n",
    "And the way it returns that, it returns it as an attribute\n",
    "of the actual classified values.\n"
   ]
  },
  {
   "cell_type": "code",
   "execution_count": 114,
   "metadata": {},
   "outputs": [],
   "source": [
    "func<-predict(fit,xgrid,decision.values=TRUE)\n"
   ]
  },
  {
   "cell_type": "markdown",
   "metadata": {},
   "source": [
    "So we have to pull off that attribute.\n",
    "And so we use attributes function.\n",
    "\n",
    "That pulls of all the attributes.\n",
    "And then we access is the one called decision."
   ]
  },
  {
   "cell_type": "code",
   "execution_count": 115,
   "metadata": {},
   "outputs": [],
   "source": [
    "func<-attributes(func)$decision"
   ]
  },
  {
   "cell_type": "code",
   "execution_count": 117,
   "metadata": {},
   "outputs": [],
   "source": [
    "#func"
   ]
  },
  {
   "cell_type": "code",
   "execution_count": 120,
   "metadata": {
    "scrolled": true
   },
   "outputs": [
    {
     "data": {
      "image/png": "[encoded data removed]",
      "text/plain": [
       "plot without title"
      ]
     },
     "metadata": {
      "image/png": {
       "height": 420,
       "width": 420
      },
      "text/plain": {
       "height": 420,
       "width": 420
      }
     },
     "output_type": "display_data"
    }
   ],
   "source": [
    "#make same plot as before\n",
    "xgrid<-expand.grid(X1=px1,X2=px2)\n",
    "ygrid<-predict(fit,xgrid)\n",
    "plot(xgrid,col=as.numeric(ygrid),pch=20,\n",
    "    cex=.2)\n",
    "points(x,col=y+1,pch=19)"
   ]
  },
  {
   "cell_type": "markdown",
   "metadata": {},
   "source": [
    "And we use the contour function.\n",
    "And it requires those two grid sequences as well.\n",
    "\n",
    "And then it wants the function.\n",
    "You want a contour in the form of a matrix.\n",
    "\n",
    "And if you look at the dimensions of px1 px2, you'll\n",
    "see they're 69 and 99.\n",
    "\n",
    "And this function we're going to contour at level 0.\n",
    "\n",
    "And we're going to add it to the plot."
   ]
  },
  {
   "cell_type": "code",
   "execution_count": 121,
   "metadata": {
    "scrolled": true
   },
   "outputs": [
    {
     "data": {
      "image/png": "[encoded data removed]",
      "text/plain": [
       "plot without title"
      ]
     },
     "metadata": {
      "image/png": {
       "height": 420,
       "width": 420
      },
      "text/plain": {
       "height": 420,
       "width": 420
      }
     },
     "output_type": "display_data"
    }
   ],
   "source": [
    "#add contour to plot\n",
    "xgrid<-expand.grid(X1=px1,X2=px2)\n",
    "ygrid<-predict(fit,xgrid)\n",
    "plot(xgrid,col=as.numeric(ygrid),pch=20,\n",
    "    cex=.2)\n",
    "points(x,col=y+1,pch=19)\n",
    "\n",
    "#tracks decision  boundary (good in two dimensions)\n",
    "contour(px1,px2,matrix(func,69,99),\n",
    "    level=0,add=TRUE)"
   ]
  },
  {
   "cell_type": "markdown",
   "metadata": {},
   "source": [
    "And finally, we include the truth, which is the contour of\n",
    "the probabilities.\n",
    "\n",
    "That's the 0.5 contour, which would be the decision boundary\n",
    "in terms of the probabilities.\n",
    "\n",
    "And so that's the true decision boundary, or what's\n",
    "called the Bayes decision boundary."
   ]
  },
  {
   "cell_type": "code",
   "execution_count": 124,
   "metadata": {},
   "outputs": [
    {
     "data": {
      "image/png": "[encoded data removed]",
      "text/plain": [
       "plot without title"
      ]
     },
     "metadata": {
      "image/png": {
       "height": 420,
       "width": 420
      },
      "text/plain": {
       "height": 420,
       "width": 420
      }
     },
     "output_type": "display_data"
    }
   ],
   "source": [
    "#add contour to plot\n",
    "xgrid<-expand.grid(X1=px1,X2=px2)\n",
    "ygrid<-predict(fit,xgrid)\n",
    "plot(xgrid,col=as.numeric(ygrid),pch=20,\n",
    "    cex=.2)\n",
    "points(x,col=y+1,pch=19)\n",
    "\n",
    "#function applied (our decision boundary)\n",
    "contour(px1,px2,matrix(func,69,99),\n",
    "    level=0,add=TRUE)\n",
    "#Bayes Therom boundary (TRUTH)\n",
    "contour(px1,px2,matrix(prob,69,99),\n",
    "    level=.5,add=TRUE, col='blue',lwd=2)"
   ]
  },
  {
   "cell_type": "markdown",
   "metadata": {},
   "source": [
    "But you can see our non-linear support vector machine has got\n",
    "pretty close to that, especially in the regions\n",
    "where we've got data."
   ]
  }
 ],
 "metadata": {
  "kernelspec": {
   "display_name": "R",
   "language": "R",
   "name": "ir"
  },
  "language_info": {
   "codemirror_mode": "r",
   "file_extension": ".r",
   "mimetype": "text/x-r-source",
   "name": "R",
   "pygments_lexer": "r",
   "version": "3.6.2"
  }
 },
 "nbformat": 4,
 "nbformat_minor": 2
}
