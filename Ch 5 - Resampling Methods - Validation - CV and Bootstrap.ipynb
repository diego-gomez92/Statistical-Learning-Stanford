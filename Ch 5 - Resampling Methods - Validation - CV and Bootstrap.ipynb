{
 "cells": [
  {
   "cell_type": "code",
   "execution_count": 15,
   "metadata": {},
   "outputs": [],
   "source": [
    "require(ISLR)\n",
    "#install.packages('ISLR') \n",
    "#require(bootstrap)"
   ]
  },
  {
   "cell_type": "code",
   "execution_count": 24,
   "metadata": {},
   "outputs": [],
   "source": [
    "library(ISLR)"
   ]
  },
  {
   "cell_type": "code",
   "execution_count": 25,
   "metadata": {},
   "outputs": [
    {
     "name": "stderr",
     "output_type": "stream",
     "text": [
      "Installing package into 'C:/Users/Diego/Documents/R/win-library/3.6'\n",
      "(as 'lib' is unspecified)\n",
      "\n",
      "Warning message:\n",
      "\"package 'bootstrap' is in use and will not be installed\"\n"
     ]
    }
   ],
   "source": [
    "install.packages('bootstrap') "
   ]
  },
  {
   "cell_type": "code",
   "execution_count": 26,
   "metadata": {},
   "outputs": [],
   "source": [
    "require(bootstrap)"
   ]
  },
  {
   "cell_type": "code",
   "execution_count": 27,
   "metadata": {},
   "outputs": [],
   "source": [
    "#cross validation (does not show)\n",
    "#use require(bootstrap)\n",
    "?cv.glm"
   ]
  },
  {
   "cell_type": "code",
   "execution_count": 39,
   "metadata": {},
   "outputs": [
    {
     "data": {
      "image/png": "[encoded data removed]",
      "text/plain": [
       "plot without title"
      ]
     },
     "metadata": {
      "image/png": {
       "height": 420,
       "width": 420
      },
      "text/plain": {
       "height": 420,
       "width": 420
      }
     },
     "output_type": "display_data"
    }
   ],
   "source": [
    "#plot mpg and hp\n",
    "plot(mpg~horsepower, data=Auto)"
   ]
  },
  {
   "cell_type": "markdown",
   "metadata": {},
   "source": [
    "### LOOCV\n",
    "\n",
    ".have to fit model n times\n",
    "\n",
    ".n == number of points in training points \n",
    "\n",
    ".can use shortcut (formula)\n",
    "\n",
    ".cv.glm does not use shortcut b/c designed to work w/ logistic regression as well"
   ]
  },
  {
   "cell_type": "code",
   "execution_count": 40,
   "metadata": {},
   "outputs": [],
   "source": [
    "#glm can fit linear and non-linear models\n",
    "glm.fit<-glm(mpg~horsepower,data=Auto)"
   ]
  },
  {
   "cell_type": "code",
   "execution_count": 41,
   "metadata": {},
   "outputs": [
    {
     "data": {
      "text/plain": [
       "\n",
       "Call:  glm(formula = mpg ~ horsepower, data = Auto)\n",
       "\n",
       "Coefficients:\n",
       "(Intercept)   horsepower  \n",
       "    39.9359      -0.1578  \n",
       "\n",
       "Degrees of Freedom: 391 Total (i.e. Null);  390 Residual\n",
       "Null Deviance:\t    23820 \n",
       "Residual Deviance: 9386 \tAIC: 2363"
      ]
     },
     "metadata": {},
     "output_type": "display_data"
    }
   ],
   "source": [
    "glm.fit"
   ]
  },
  {
   "cell_type": "code",
   "execution_count": 42,
   "metadata": {},
   "outputs": [],
   "source": [
    "require(boot)"
   ]
  },
  {
   "cell_type": "code",
   "execution_count": 43,
   "metadata": {},
   "outputs": [
    {
     "data": {
      "text/html": [
       "<style>\n",
       ".list-inline {list-style: none; margin:0; padding: 0}\n",
       ".list-inline>li {display: inline-block}\n",
       ".list-inline>li:not(:last-child)::after {content: \"\\00b7\"; padding: 0 .5ex}\n",
       "</style>\n",
       "<ol class=list-inline><li>24.2315135179293</li><li>24.2311440937562</li></ol>\n"
      ],
      "text/latex": [
       "\\begin{enumerate*}\n",
       "\\item 24.2315135179293\n",
       "\\item 24.2311440937562\n",
       "\\end{enumerate*}\n"
      ],
      "text/markdown": [
       "1. 24.2315135179293\n",
       "2. 24.2311440937562\n",
       "\n",
       "\n"
      ],
      "text/plain": [
       "[1] 24.23151 24.23114"
      ]
     },
     "metadata": {},
     "output_type": "display_data"
    }
   ],
   "source": [
    "#cv.glm(data, glmfit, cost, K)\n",
    "\n",
    "\n",
    "#fits n times\n",
    "#each time leaves ou 1 observation\n",
    "#produces fit on all other data\n",
    "#then makes prediction at the x value for that observation you left out\n",
    "\n",
    "#pretty slow (does not use formula (5.2) on pg 180)\n",
    "#this code does LOOCV by brute force\n",
    "#refits model all those times (slow)\n",
    "\n",
    "#delta == cross-validation prediction error\n",
    "\n",
    "#output == 1) raw LOOCV result 2) bias correctoin\n",
    "#bias correction == function that the data set we train \n",
    "#it on is slightly smaller than the one we would like\n",
    "#to get the error for, full data set size of size = n \n",
    "#bias more of an effect on CROSS-FOLD validation \n",
    "cv.glm(Auto,glm.fit)$delta"
   ]
  },
  {
   "cell_type": "code",
   "execution_count": 38,
   "metadata": {},
   "outputs": [],
   "source": [
    "#?cv.glm"
   ]
  },
  {
   "cell_type": "code",
   "execution_count": 49,
   "metadata": {},
   "outputs": [],
   "source": [
    "#?residuals"
   ]
  },
  {
   "cell_type": "code",
   "execution_count": 50,
   "metadata": {},
   "outputs": [],
   "source": [
    "#?lm"
   ]
  },
  {
   "cell_type": "code",
   "execution_count": 51,
   "metadata": {},
   "outputs": [],
   "source": [
    "#?lm.influence"
   ]
  },
  {
   "cell_type": "markdown",
   "metadata": {},
   "source": [
    "### Function  for formula (5.2)"
   ]
  },
  {
   "cell_type": "code",
   "execution_count": 45,
   "metadata": {},
   "outputs": [],
   "source": [
    "#formula == sum of residuals between y and y-hat squared \n",
    "#divude by (1-Hii)^2\n",
    "\n",
    "# Formula == (1/n)E ((yi-y-hat-i)^2)/(1-Hii)^2\n",
    "\n",
    "#H == diagonal hat of the hat matrix \n",
    "#hat matrix == produces least sqaures fit\n",
    "#H== how much i contributes to own fit\n",
    "\n",
    "#if Hi close  to 1(contributes a lot to own fit)\n",
    "#==1-Hii is small and inflate residual ?\n",
    "\n",
    "\n",
    "loocv<-function(fit){\n",
    "    #extracts element h\n",
    "    #vector h \n",
    "    h<-lm.influence(fit)$h\n",
    "    #residuals = terms in numerator (vector)\n",
    "    #divide by 1-h squared (vector)\n",
    "    #element by element division\n",
    "    \n",
    "    #square them and take the mean of that\n",
    "    #computes formula\n",
    "    mean((residuals(fit)/(1-h))^2)\n",
    "}"
   ]
  },
  {
   "cell_type": "markdown",
   "metadata": {},
   "source": [
    "### Let's try it"
   ]
  },
  {
   "cell_type": "code",
   "execution_count": 46,
   "metadata": {},
   "outputs": [
    {
     "data": {
      "text/html": [
       "24.2315135179292"
      ],
      "text/latex": [
       "24.2315135179292"
      ],
      "text/markdown": [
       "24.2315135179292"
      ],
      "text/plain": [
       "[1] 24.23151"
      ]
     },
     "metadata": {},
     "output_type": "display_data"
    }
   ],
   "source": [
    "#much faster (gives biased number)\n",
    "loocv(glm.fit)"
   ]
  },
  {
   "cell_type": "code",
   "execution_count": null,
   "metadata": {},
   "outputs": [],
   "source": [
    "#?rep"
   ]
  },
  {
   "cell_type": "code",
   "execution_count": 60,
   "metadata": {},
   "outputs": [
    {
     "data": {
      "text/html": [
       "<style>\n",
       ".list-inline {list-style: none; margin:0; padding: 0}\n",
       ".list-inline>li {display: inline-block}\n",
       ".list-inline>li:not(:last-child)::after {content: \"\\00b7\"; padding: 0 .5ex}\n",
       "</style>\n",
       "<ol class=list-inline><li>0</li><li>0</li><li>0</li><li>0</li><li>0</li></ol>\n"
      ],
      "text/latex": [
       "\\begin{enumerate*}\n",
       "\\item 0\n",
       "\\item 0\n",
       "\\item 0\n",
       "\\item 0\n",
       "\\item 0\n",
       "\\end{enumerate*}\n"
      ],
      "text/markdown": [
       "1. 0\n",
       "2. 0\n",
       "3. 0\n",
       "4. 0\n",
       "5. 0\n",
       "\n",
       "\n"
      ],
      "text/plain": [
       "[1] 0 0 0 0 0"
      ]
     },
     "metadata": {},
     "output_type": "display_data"
    }
   ],
   "source": [
    "#see what rep does\n",
    "a<- rep(0,5)\n",
    "a"
   ]
  },
  {
   "cell_type": "code",
   "execution_count": 62,
   "metadata": {},
   "outputs": [
    {
     "data": {
      "text/html": [
       "0"
      ],
      "text/latex": [
       "0"
      ],
      "text/markdown": [
       "0"
      ],
      "text/plain": [
       "[1] 0"
      ]
     },
     "metadata": {},
     "output_type": "display_data"
    },
    {
     "data": {
      "text/html": [
       "<style>\n",
       ".list-inline {list-style: none; margin:0; padding: 0}\n",
       ".list-inline>li {display: inline-block}\n",
       ".list-inline>li:not(:last-child)::after {content: \"\\00b7\"; padding: 0 .5ex}\n",
       "</style>\n",
       "<ol class=list-inline><li>0</li><li>0</li><li>0</li><li>0</li><li>0</li></ol>\n"
      ],
      "text/latex": [
       "\\begin{enumerate*}\n",
       "\\item 0\n",
       "\\item 0\n",
       "\\item 0\n",
       "\\item 0\n",
       "\\item 0\n",
       "\\end{enumerate*}\n"
      ],
      "text/markdown": [
       "1. 0\n",
       "2. 0\n",
       "3. 0\n",
       "4. 0\n",
       "5. 0\n",
       "\n",
       "\n"
      ],
      "text/plain": [
       "[1] 0 0 0 0 0"
      ]
     },
     "metadata": {},
     "output_type": "display_data"
    }
   ],
   "source": [
    "a[1]\n",
    "a[1:5]"
   ]
  },
  {
   "cell_type": "code",
   "execution_count": 64,
   "metadata": {},
   "outputs": [],
   "source": [
    "#use it \n",
    "#fit polynomials of diff degrees to data\n",
    "#why? our data (the plot) is non-linear\n",
    "\n",
    "#vector for collecting the errors\n",
    "#rep == replicates values in x\n",
    "#ERROR vector\n",
    "cv.error <- rep(0,5)\n",
    "#degree of polynomials\n",
    "degree <- 1:5\n",
    "#\n",
    "for (d in degree){\n",
    "    #apply polynomial\n",
    "    #fit glm\n",
    "    glm.fit<-glm(mpg~poly(horsepower,d), data=Auto)\n",
    "    #apply CV to each index of cv.error\n",
    "    #use our function to compute error\n",
    "    #for each degree of polynomial\n",
    "    #and put in ERROR vector\n",
    "    cv.error[d]<-loocv(glm.fit)\n",
    "}"
   ]
  },
  {
   "cell_type": "code",
   "execution_count": 65,
   "metadata": {},
   "outputs": [
    {
     "data": {
      "image/png": "[encoded data removed]",
      "text/plain": [
       "plot without title"
      ]
     },
     "metadata": {
      "image/png": {
       "height": 420,
       "width": 420
      },
      "text/plain": {
       "height": 420,
       "width": 420
      }
     },
     "output_type": "display_data"
    }
   ],
   "source": [
    "#degree 2 jumps from 24 to 19\n",
    "#higher degrees do not make much difference\n",
    "#quadratic == good \n",
    "plot(degree,cv.error,type='b')"
   ]
  },
  {
   "cell_type": "markdown",
   "metadata": {},
   "source": [
    "### 10-fold Cross-validation\n",
    "\n",
    ". do less work (divide data into 10 pieces)\n",
    "\n",
    ".1/10 == test\n",
    "\n",
    ".9/10 == training set\n",
    "\n",
    ".fit model 10 times"
   ]
  },
  {
   "cell_type": "code",
   "execution_count": 66,
   "metadata": {},
   "outputs": [],
   "source": [
    "#delta == cross-validation prediction error\n",
    "\n",
    "\n",
    "cv.error10<-rep(0,5)\n",
    "degree <- 1:5\n",
    "\n",
    "#only fits model 10 times\n",
    "for (d in degree){\n",
    "    glm.fit<-glm(mpg~poly(horsepower,d), data=Auto)\n",
    "    #k==10 (10 folds)\n",
    "    #compute errors\n",
    "    cv.error10[d]<-cv.glm(Auto,glm.fit,K=10)$delta[1] #?\n",
    "}"
   ]
  },
  {
   "cell_type": "code",
   "execution_count": 69,
   "metadata": {},
   "outputs": [
    {
     "data": {
      "image/png": "[encoded data removed]",
      "text/plain": [
       "plot without title"
      ]
     },
     "metadata": {
      "image/png": {
       "height": 420,
       "width": 420
      },
      "text/plain": {
       "height": 420,
       "width": 420
      }
     },
     "output_type": "display_data"
    }
   ],
   "source": [
    "#include errors in our plot\n",
    "\n",
    "#LOOCV\n",
    "plot(degree,cv.error,type='b')\n",
    "\n",
    "#10-FOLD CV\n",
    "lines(degree,cv.error10,type='b',col='red')\n",
    "\n",
    "#NOT MUCH DIFFERENCES\n",
    "\n",
    "#10-fold best b/c==more stable == cheaper to compute"
   ]
  },
  {
   "cell_type": "markdown",
   "metadata": {},
   "source": [
    "### Bootstrap\n",
    ".Minimum risk investment - section 5.2 (example)\n",
    "\n",
    ".gets you sampling distribution of statistics\n",
    "\n",
    ".nonlinear formula"
   ]
  },
  {
   "cell_type": "code",
   "execution_count": 70,
   "metadata": {},
   "outputs": [],
   "source": [
    "#given 2 vectors, x and y \n",
    "alpha<-function(x,y){\n",
    "    #var of x\n",
    "    vx=var(x)\n",
    "    #var of y\n",
    "    vy=var(y)\n",
    "    #covariance of x and y\n",
    "    cxy=cov(x,y)\n",
    "    #alpha (minmal risk)\n",
    "    (vy-cxy)/(vx+vy-2*cxy) #funct returns last line that was evaluated\n",
    "}"
   ]
  },
  {
   "cell_type": "code",
   "execution_count": 80,
   "metadata": {},
   "outputs": [
    {
     "data": {
      "text/html": [
       "<table>\n",
       "<caption>A data.frame: 6 × 2</caption>\n",
       "<thead>\n",
       "\t<tr><th></th><th scope=col>X</th><th scope=col>Y</th></tr>\n",
       "\t<tr><th></th><th scope=col>&lt;dbl&gt;</th><th scope=col>&lt;dbl&gt;</th></tr>\n",
       "</thead>\n",
       "<tbody>\n",
       "\t<tr><th scope=row>1</th><td>-0.8952509</td><td>-0.2349235</td></tr>\n",
       "\t<tr><th scope=row>2</th><td>-1.5624543</td><td>-0.8851760</td></tr>\n",
       "\t<tr><th scope=row>3</th><td>-0.4170899</td><td> 0.2718880</td></tr>\n",
       "\t<tr><th scope=row>4</th><td> 1.0443557</td><td>-0.7341975</td></tr>\n",
       "\t<tr><th scope=row>5</th><td>-0.3155684</td><td> 0.8419834</td></tr>\n",
       "\t<tr><th scope=row>6</th><td>-1.7371238</td><td>-2.0371910</td></tr>\n",
       "</tbody>\n",
       "</table>\n"
      ],
      "text/latex": [
       "A data.frame: 6 × 2\n",
       "\\begin{tabular}{r|ll}\n",
       "  & X & Y\\\\\n",
       "  & <dbl> & <dbl>\\\\\n",
       "\\hline\n",
       "\t1 & -0.8952509 & -0.2349235\\\\\n",
       "\t2 & -1.5624543 & -0.8851760\\\\\n",
       "\t3 & -0.4170899 &  0.2718880\\\\\n",
       "\t4 &  1.0443557 & -0.7341975\\\\\n",
       "\t5 & -0.3155684 &  0.8419834\\\\\n",
       "\t6 & -1.7371238 & -2.0371910\\\\\n",
       "\\end{tabular}\n"
      ],
      "text/markdown": [
       "\n",
       "A data.frame: 6 × 2\n",
       "\n",
       "| <!--/--> | X &lt;dbl&gt; | Y &lt;dbl&gt; |\n",
       "|---|---|---|\n",
       "| 1 | -0.8952509 | -0.2349235 |\n",
       "| 2 | -1.5624543 | -0.8851760 |\n",
       "| 3 | -0.4170899 |  0.2718880 |\n",
       "| 4 |  1.0443557 | -0.7341975 |\n",
       "| 5 | -0.3155684 |  0.8419834 |\n",
       "| 6 | -1.7371238 | -2.0371910 |\n",
       "\n"
      ],
      "text/plain": [
       "  X          Y         \n",
       "1 -0.8952509 -0.2349235\n",
       "2 -1.5624543 -0.8851760\n",
       "3 -0.4170899  0.2718880\n",
       "4  1.0443557 -0.7341975\n",
       "5 -0.3155684  0.8419834\n",
       "6 -1.7371238 -2.0371910"
      ]
     },
     "metadata": {},
     "output_type": "display_data"
    }
   ],
   "source": [
    "#2 columns\n",
    "head(Portfolio)"
   ]
  },
  {
   "cell_type": "code",
   "execution_count": 82,
   "metadata": {},
   "outputs": [
    {
     "data": {
      "text/html": [
       "100"
      ],
      "text/latex": [
       "100"
      ],
      "text/markdown": [
       "100"
      ],
      "text/plain": [
       "[1] 100"
      ]
     },
     "metadata": {},
     "output_type": "display_data"
    }
   ],
   "source": [
    "#100 rows\n",
    "nrow(Portfolio)"
   ]
  },
  {
   "cell_type": "code",
   "execution_count": 72,
   "metadata": {},
   "outputs": [
    {
     "data": {
      "text/html": [
       "0.57583207459283"
      ],
      "text/latex": [
       "0.57583207459283"
      ],
      "text/markdown": [
       "0.57583207459283"
      ],
      "text/plain": [
       "[1] 0.5758321"
      ]
     },
     "metadata": {},
     "output_type": "display_data"
    }
   ],
   "source": [
    "#data set portfolio, w/ x and y\n",
    "#apply function to the 2 columns in the df\n",
    "alpha(Portfolio$X,Portfolio$Y)"
   ]
  },
  {
   "cell_type": "markdown",
   "metadata": {},
   "source": [
    "### What is the standard error of alpha?"
   ]
  },
  {
   "cell_type": "code",
   "execution_count": 79,
   "metadata": {},
   "outputs": [],
   "source": [
    "#wrapper to take in alpha function\n",
    "\n",
    "#takes data frame\n",
    "\n",
    "#takes index == rows of the df (values 1 to n;can be repeats)\n",
    "#then  computes statistic==standard error (alpha index)\n",
    "#computes numbers 1 to n (n of them)\n",
    "#resampling w/ replacement (data point can be in multiple data sets)\n",
    "\n",
    "\n",
    "#with == takes first argument of df; and the some commands\n",
    "\n",
    "alpha.fn<-function(data, index){\n",
    "    #the some commands\n",
    "    #with == \"using data in df, execture these commands\"\n",
    "    #data[index,] == gets right observations (can be resampled)\n",
    "    #then compute alpha of x and y \n",
    "    #can use names X and Y, which are in the df\n",
    "    with(data[index,],alpha(X,Y))\n",
    "}"
   ]
  },
  {
   "cell_type": "code",
   "execution_count": 83,
   "metadata": {},
   "outputs": [
    {
     "data": {
      "text/html": [
       "0.57583207459283"
      ],
      "text/latex": [
       "0.57583207459283"
      ],
      "text/markdown": [
       "0.57583207459283"
      ],
      "text/plain": [
       "[1] 0.5758321"
      ]
     },
     "metadata": {},
     "output_type": "display_data"
    }
   ],
   "source": [
    "#original index of the data (100 rows)\n",
    "#get same value as before\n",
    "alpha.fn(Portfolio, 1:100)"
   ]
  },
  {
   "cell_type": "code",
   "execution_count": 84,
   "metadata": {},
   "outputs": [],
   "source": [
    "#random number generation\n",
    "#seed number can be any int\n",
    "#computer never truly random; so use this\n",
    "#use the same random numbers repeatedly\n",
    "#used to reproduce research\n",
    "?set.seed"
   ]
  },
  {
   "cell_type": "code",
   "execution_count": 86,
   "metadata": {},
   "outputs": [
    {
     "data": {
      "text/html": [
       "<style>\n",
       ".list-inline {list-style: none; margin:0; padding: 0}\n",
       ".list-inline>li {display: inline-block}\n",
       ".list-inline>li:not(:last-child)::after {content: \"\\00b7\"; padding: 0 .5ex}\n",
       "</style>\n",
       "<ol class=list-inline><li>0.833846438034095</li><li>-1.67231602443412</li><li>-1.61204526667124</li><li>1.11786577312881</li><li>-0.0682752959338072</li><li>0.45073456453325</li><li>0.159206098748789</li><li>-1.56255355254579</li><li>0.290941469028468</li><li>0.440354054295323</li></ol>\n"
      ],
      "text/latex": [
       "\\begin{enumerate*}\n",
       "\\item 0.833846438034095\n",
       "\\item -1.67231602443412\n",
       "\\item -1.61204526667124\n",
       "\\item 1.11786577312881\n",
       "\\item -0.0682752959338072\n",
       "\\item 0.45073456453325\n",
       "\\item 0.159206098748789\n",
       "\\item -1.56255355254579\n",
       "\\item 0.290941469028468\n",
       "\\item 0.440354054295323\n",
       "\\end{enumerate*}\n"
      ],
      "text/markdown": [
       "1. 0.833846438034095\n",
       "2. -1.67231602443412\n",
       "3. -1.61204526667124\n",
       "4. 1.11786577312881\n",
       "5. -0.0682752959338072\n",
       "6. 0.45073456453325\n",
       "7. 0.159206098748789\n",
       "8. -1.56255355254579\n",
       "9. 0.290941469028468\n",
       "10. 0.440354054295323\n",
       "\n",
       "\n"
      ],
      "text/plain": [
       " [1]  0.8338464 -1.6723160 -1.6120453  1.1178658 -0.0682753  0.4507346\n",
       " [7]  0.1592061 -1.5625536  0.2909415  0.4403541"
      ]
     },
     "metadata": {},
     "output_type": "display_data"
    }
   ],
   "source": [
    "#example\n",
    "\n",
    "set.seed(18989)\n",
    "\n",
    "#rnorm == psuedorandom numbers from normal dist\n",
    "#10 observations\n",
    "x<-rnorm(10)\n",
    "#values around 0, w/ sd at 1\n",
    "x"
   ]
  },
  {
   "cell_type": "code",
   "execution_count": 87,
   "metadata": {},
   "outputs": [
    {
     "data": {
      "text/html": [
       "<style>\n",
       ".list-inline {list-style: none; margin:0; padding: 0}\n",
       ".list-inline>li {display: inline-block}\n",
       ".list-inline>li:not(:last-child)::after {content: \"\\00b7\"; padding: 0 .5ex}\n",
       "</style>\n",
       "<ol class=list-inline><li>1.10016357849736</li><li>0.414879829070001</li><li>0.568595625101234</li><li>0.796805719332728</li><li>1.29337075052575</li><li>-1.60365580975614</li><li>0.262553381274806</li><li>2.44683524412625</li><li>0.0667186394821452</li><li>0.60087178899168</li></ol>\n"
      ],
      "text/latex": [
       "\\begin{enumerate*}\n",
       "\\item 1.10016357849736\n",
       "\\item 0.414879829070001\n",
       "\\item 0.568595625101234\n",
       "\\item 0.796805719332728\n",
       "\\item 1.29337075052575\n",
       "\\item -1.60365580975614\n",
       "\\item 0.262553381274806\n",
       "\\item 2.44683524412625\n",
       "\\item 0.0667186394821452\n",
       "\\item 0.60087178899168\n",
       "\\end{enumerate*}\n"
      ],
      "text/markdown": [
       "1. 1.10016357849736\n",
       "2. 0.414879829070001\n",
       "3. 0.568595625101234\n",
       "4. 0.796805719332728\n",
       "5. 1.29337075052575\n",
       "6. -1.60365580975614\n",
       "7. 0.262553381274806\n",
       "8. 2.44683524412625\n",
       "9. 0.0667186394821452\n",
       "10. 0.60087178899168\n",
       "\n",
       "\n"
      ],
      "text/plain": [
       " [1]  1.10016358  0.41487983  0.56859563  0.79680572  1.29337075 -1.60365581\n",
       " [7]  0.26255338  2.44683524  0.06671864  0.60087179"
      ]
     },
     "metadata": {},
     "output_type": "display_data"
    }
   ],
   "source": [
    "#example\n",
    "\n",
    "#numbers changed\n",
    "y<-rnorm(10)\n",
    "y"
   ]
  },
  {
   "cell_type": "code",
   "execution_count": 88,
   "metadata": {},
   "outputs": [
    {
     "data": {
      "text/html": [
       "<style>\n",
       ".list-inline {list-style: none; margin:0; padding: 0}\n",
       ".list-inline>li {display: inline-block}\n",
       ".list-inline>li:not(:last-child)::after {content: \"\\00b7\"; padding: 0 .5ex}\n",
       "</style>\n",
       "<ol class=list-inline><li>0.833846438034095</li><li>-1.67231602443412</li><li>-1.61204526667124</li><li>1.11786577312881</li><li>-0.0682752959338072</li><li>0.45073456453325</li><li>0.159206098748789</li><li>-1.56255355254579</li><li>0.290941469028468</li><li>0.440354054295323</li></ol>\n"
      ],
      "text/latex": [
       "\\begin{enumerate*}\n",
       "\\item 0.833846438034095\n",
       "\\item -1.67231602443412\n",
       "\\item -1.61204526667124\n",
       "\\item 1.11786577312881\n",
       "\\item -0.0682752959338072\n",
       "\\item 0.45073456453325\n",
       "\\item 0.159206098748789\n",
       "\\item -1.56255355254579\n",
       "\\item 0.290941469028468\n",
       "\\item 0.440354054295323\n",
       "\\end{enumerate*}\n"
      ],
      "text/markdown": [
       "1. 0.833846438034095\n",
       "2. -1.67231602443412\n",
       "3. -1.61204526667124\n",
       "4. 1.11786577312881\n",
       "5. -0.0682752959338072\n",
       "6. 0.45073456453325\n",
       "7. 0.159206098748789\n",
       "8. -1.56255355254579\n",
       "9. 0.290941469028468\n",
       "10. 0.440354054295323\n",
       "\n",
       "\n"
      ],
      "text/plain": [
       " [1]  0.8338464 -1.6723160 -1.6120453  1.1178658 -0.0682753  0.4507346\n",
       " [7]  0.1592061 -1.5625536  0.2909415  0.4403541"
      ]
     },
     "metadata": {},
     "output_type": "display_data"
    }
   ],
   "source": [
    "#now, values in x and y2 are the same\n",
    "#good to run a simulation and test certain\n",
    "#values repeatedly\n",
    "\n",
    "#have to set seed before code\n",
    "set.seed(18989)\n",
    "y2<-rnorm(10)\n",
    "y2"
   ]
  },
  {
   "cell_type": "code",
   "execution_count": 94,
   "metadata": {},
   "outputs": [
    {
     "data": {
      "text/html": [
       "<style>\n",
       ".list-inline {list-style: none; margin:0; padding: 0}\n",
       ".list-inline>li {display: inline-block}\n",
       ".list-inline>li:not(:last-child)::after {content: \"\\00b7\"; padding: 0 .5ex}\n",
       "</style>\n",
       "<ol class=list-inline><li>-0.626453810742332</li><li>0.183643324222082</li><li>-0.835628612410047</li><li>1.59528080213779</li><li>0.329507771815361</li><li>-0.820468384118015</li><li>0.487429052428485</li><li>0.738324705129217</li><li>0.575781351653492</li><li>-0.305388387156356</li></ol>\n"
      ],
      "text/latex": [
       "\\begin{enumerate*}\n",
       "\\item -0.626453810742332\n",
       "\\item 0.183643324222082\n",
       "\\item -0.835628612410047\n",
       "\\item 1.59528080213779\n",
       "\\item 0.329507771815361\n",
       "\\item -0.820468384118015\n",
       "\\item 0.487429052428485\n",
       "\\item 0.738324705129217\n",
       "\\item 0.575781351653492\n",
       "\\item -0.305388387156356\n",
       "\\end{enumerate*}\n"
      ],
      "text/markdown": [
       "1. -0.626453810742332\n",
       "2. 0.183643324222082\n",
       "3. -0.835628612410047\n",
       "4. 1.59528080213779\n",
       "5. 0.329507771815361\n",
       "6. -0.820468384118015\n",
       "7. 0.487429052428485\n",
       "8. 0.738324705129217\n",
       "9. 0.575781351653492\n",
       "10. -0.305388387156356\n",
       "\n",
       "\n"
      ],
      "text/plain": [
       " [1] -0.6264538  0.1836433 -0.8356286  1.5952808  0.3295078 -0.8204684\n",
       " [7]  0.4874291  0.7383247  0.5757814 -0.3053884"
      ]
     },
     "metadata": {},
     "output_type": "display_data"
    }
   ],
   "source": [
    "set.seed(1)\n",
    "y3<-rnorm(10)\n",
    "y3"
   ]
  },
  {
   "cell_type": "code",
   "execution_count": 105,
   "metadata": {},
   "outputs": [
    {
     "data": {
      "text/html": [
       "0.736837501928544"
      ],
      "text/latex": [
       "0.736837501928544"
      ],
      "text/markdown": [
       "0.736837501928544"
      ],
      "text/plain": [
       "[1] 0.7368375"
      ]
     },
     "metadata": {},
     "output_type": "display_data"
    }
   ],
   "source": [
    "#run bootstrap\n",
    "\n",
    "#get reproducable results\n",
    "set.seed(1)\n",
    "#give it random sample for index parameter\n",
    "#sample is form 1 to 100, size 100 \n",
    "#replace TRUE, something bootstrap does over and over\n",
    "#bootstrap sample of size 1\n",
    "alpha.fn(Portfolio,sample(1:100, 100,replace=TRUE))"
   ]
  },
  {
   "cell_type": "code",
   "execution_count": 98,
   "metadata": {},
   "outputs": [
    {
     "data": {
      "text/plain": [
       "\n",
       "ORDINARY NONPARAMETRIC BOOTSTRAP\n",
       "\n",
       "\n",
       "Call:\n",
       "boot(data = Portfolio, statistic = alpha.fn, R = 1000)\n",
       "\n",
       "\n",
       "Bootstrap Statistics :\n",
       "     original       bias    std. error\n",
       "t1* 0.5758321 -0.001695873  0.09366347"
      ]
     },
     "metadata": {},
     "output_type": "display_data"
    }
   ],
   "source": [
    "\n",
    "#call function boot\n",
    "#give it function fn\n",
    "#do 1000 bootstraps\n",
    "boot.out<-boot(Portfolio, alpha.fn, R=1000)\n",
    "boot.out\n",
    "\n",
    "#gives original statistic (estimate)\n",
    "#estimate of bias (negligble)\n",
    "#estimate of std error (one we care about)"
   ]
  },
  {
   "cell_type": "code",
   "execution_count": 96,
   "metadata": {},
   "outputs": [
    {
     "data": {
      "image/png": "[encoded data removed]",
      "text/plain": [
       "Plot with title \"Histogram of t\""
      ]
     },
     "metadata": {
      "image/png": {
       "height": 420,
       "width": 420
      },
      "text/plain": {
       "height": 420,
       "width": 420
      }
     },
     "output_type": "display_data"
    }
   ],
   "source": [
    "#plot bootstrap\n",
    "\n",
    "#2nd plot == qqplot == plots ordered values against \n",
    "#order statistics of the Gaussian\n",
    "plot(boot.out)"
   ]
  }
 ],
 "metadata": {
  "kernelspec": {
   "display_name": "R",
   "language": "R",
   "name": "ir"
  },
  "language_info": {
   "codemirror_mode": "r",
   "file_extension": ".r",
   "mimetype": "text/x-r-source",
   "name": "R",
   "pygments_lexer": "r",
   "version": "3.6.2"
  }
 },
 "nbformat": 4,
 "nbformat_minor": 2
}
