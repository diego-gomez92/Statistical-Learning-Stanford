{
 "cells": [
  {
   "cell_type": "markdown",
   "metadata": {},
   "source": [
    "### Principal Components\n",
    "\n",
    "\n",
    "We will use the 'USArrests' data (which is in R)\n",
    "\n"
   ]
  },
  {
   "cell_type": "code",
   "execution_count": 1,
   "metadata": {},
   "outputs": [
    {
     "data": {
      "text/html": [
       "<ol>\n",
       "\t<li><style>\n",
       ".list-inline {list-style: none; margin:0; padding: 0}\n",
       ".list-inline>li {display: inline-block}\n",
       ".list-inline>li:not(:last-child)::after {content: \"\\00b7\"; padding: 0 .5ex}\n",
       "</style>\n",
       "<ol class=list-inline><li>'Alabama'</li><li>'Alaska'</li><li>'Arizona'</li><li>'Arkansas'</li><li>'California'</li><li>'Colorado'</li><li>'Connecticut'</li><li>'Delaware'</li><li>'Florida'</li><li>'Georgia'</li><li>'Hawaii'</li><li>'Idaho'</li><li>'Illinois'</li><li>'Indiana'</li><li>'Iowa'</li><li>'Kansas'</li><li>'Kentucky'</li><li>'Louisiana'</li><li>'Maine'</li><li>'Maryland'</li><li>'Massachusetts'</li><li>'Michigan'</li><li>'Minnesota'</li><li>'Mississippi'</li><li>'Missouri'</li><li>'Montana'</li><li>'Nebraska'</li><li>'Nevada'</li><li>'New Hampshire'</li><li>'New Jersey'</li><li>'New Mexico'</li><li>'New York'</li><li>'North Carolina'</li><li>'North Dakota'</li><li>'Ohio'</li><li>'Oklahoma'</li><li>'Oregon'</li><li>'Pennsylvania'</li><li>'Rhode Island'</li><li>'South Carolina'</li><li>'South Dakota'</li><li>'Tennessee'</li><li>'Texas'</li><li>'Utah'</li><li>'Vermont'</li><li>'Virginia'</li><li>'Washington'</li><li>'West Virginia'</li><li>'Wisconsin'</li><li>'Wyoming'</li></ol>\n",
       "</li>\n",
       "\t<li><style>\n",
       ".list-inline {list-style: none; margin:0; padding: 0}\n",
       ".list-inline>li {display: inline-block}\n",
       ".list-inline>li:not(:last-child)::after {content: \"\\00b7\"; padding: 0 .5ex}\n",
       "</style>\n",
       "<ol class=list-inline><li>'Murder'</li><li>'Assault'</li><li>'UrbanPop'</li><li>'Rape'</li></ol>\n",
       "</li>\n",
       "</ol>\n"
      ],
      "text/latex": [
       "\\begin{enumerate}\n",
       "\\item \\begin{enumerate*}\n",
       "\\item 'Alabama'\n",
       "\\item 'Alaska'\n",
       "\\item 'Arizona'\n",
       "\\item 'Arkansas'\n",
       "\\item 'California'\n",
       "\\item 'Colorado'\n",
       "\\item 'Connecticut'\n",
       "\\item 'Delaware'\n",
       "\\item 'Florida'\n",
       "\\item 'Georgia'\n",
       "\\item 'Hawaii'\n",
       "\\item 'Idaho'\n",
       "\\item 'Illinois'\n",
       "\\item 'Indiana'\n",
       "\\item 'Iowa'\n",
       "\\item 'Kansas'\n",
       "\\item 'Kentucky'\n",
       "\\item 'Louisiana'\n",
       "\\item 'Maine'\n",
       "\\item 'Maryland'\n",
       "\\item 'Massachusetts'\n",
       "\\item 'Michigan'\n",
       "\\item 'Minnesota'\n",
       "\\item 'Mississippi'\n",
       "\\item 'Missouri'\n",
       "\\item 'Montana'\n",
       "\\item 'Nebraska'\n",
       "\\item 'Nevada'\n",
       "\\item 'New Hampshire'\n",
       "\\item 'New Jersey'\n",
       "\\item 'New Mexico'\n",
       "\\item 'New York'\n",
       "\\item 'North Carolina'\n",
       "\\item 'North Dakota'\n",
       "\\item 'Ohio'\n",
       "\\item 'Oklahoma'\n",
       "\\item 'Oregon'\n",
       "\\item 'Pennsylvania'\n",
       "\\item 'Rhode Island'\n",
       "\\item 'South Carolina'\n",
       "\\item 'South Dakota'\n",
       "\\item 'Tennessee'\n",
       "\\item 'Texas'\n",
       "\\item 'Utah'\n",
       "\\item 'Vermont'\n",
       "\\item 'Virginia'\n",
       "\\item 'Washington'\n",
       "\\item 'West Virginia'\n",
       "\\item 'Wisconsin'\n",
       "\\item 'Wyoming'\n",
       "\\end{enumerate*}\n",
       "\n",
       "\\item \\begin{enumerate*}\n",
       "\\item 'Murder'\n",
       "\\item 'Assault'\n",
       "\\item 'UrbanPop'\n",
       "\\item 'Rape'\n",
       "\\end{enumerate*}\n",
       "\n",
       "\\end{enumerate}\n"
      ],
      "text/markdown": [
       "1. 1. 'Alabama'\n",
       "2. 'Alaska'\n",
       "3. 'Arizona'\n",
       "4. 'Arkansas'\n",
       "5. 'California'\n",
       "6. 'Colorado'\n",
       "7. 'Connecticut'\n",
       "8. 'Delaware'\n",
       "9. 'Florida'\n",
       "10. 'Georgia'\n",
       "11. 'Hawaii'\n",
       "12. 'Idaho'\n",
       "13. 'Illinois'\n",
       "14. 'Indiana'\n",
       "15. 'Iowa'\n",
       "16. 'Kansas'\n",
       "17. 'Kentucky'\n",
       "18. 'Louisiana'\n",
       "19. 'Maine'\n",
       "20. 'Maryland'\n",
       "21. 'Massachusetts'\n",
       "22. 'Michigan'\n",
       "23. 'Minnesota'\n",
       "24. 'Mississippi'\n",
       "25. 'Missouri'\n",
       "26. 'Montana'\n",
       "27. 'Nebraska'\n",
       "28. 'Nevada'\n",
       "29. 'New Hampshire'\n",
       "30. 'New Jersey'\n",
       "31. 'New Mexico'\n",
       "32. 'New York'\n",
       "33. 'North Carolina'\n",
       "34. 'North Dakota'\n",
       "35. 'Ohio'\n",
       "36. 'Oklahoma'\n",
       "37. 'Oregon'\n",
       "38. 'Pennsylvania'\n",
       "39. 'Rhode Island'\n",
       "40. 'South Carolina'\n",
       "41. 'South Dakota'\n",
       "42. 'Tennessee'\n",
       "43. 'Texas'\n",
       "44. 'Utah'\n",
       "45. 'Vermont'\n",
       "46. 'Virginia'\n",
       "47. 'Washington'\n",
       "48. 'West Virginia'\n",
       "49. 'Wisconsin'\n",
       "50. 'Wyoming'\n",
       "\n",
       "\n",
       "\n",
       "2. 1. 'Murder'\n",
       "2. 'Assault'\n",
       "3. 'UrbanPop'\n",
       "4. 'Rape'\n",
       "\n",
       "\n",
       "\n",
       "\n",
       "\n"
      ],
      "text/plain": [
       "[[1]]\n",
       " [1] \"Alabama\"        \"Alaska\"         \"Arizona\"        \"Arkansas\"      \n",
       " [5] \"California\"     \"Colorado\"       \"Connecticut\"    \"Delaware\"      \n",
       " [9] \"Florida\"        \"Georgia\"        \"Hawaii\"         \"Idaho\"         \n",
       "[13] \"Illinois\"       \"Indiana\"        \"Iowa\"           \"Kansas\"        \n",
       "[17] \"Kentucky\"       \"Louisiana\"      \"Maine\"          \"Maryland\"      \n",
       "[21] \"Massachusetts\"  \"Michigan\"       \"Minnesota\"      \"Mississippi\"   \n",
       "[25] \"Missouri\"       \"Montana\"        \"Nebraska\"       \"Nevada\"        \n",
       "[29] \"New Hampshire\"  \"New Jersey\"     \"New Mexico\"     \"New York\"      \n",
       "[33] \"North Carolina\" \"North Dakota\"   \"Ohio\"           \"Oklahoma\"      \n",
       "[37] \"Oregon\"         \"Pennsylvania\"   \"Rhode Island\"   \"South Carolina\"\n",
       "[41] \"South Dakota\"   \"Tennessee\"      \"Texas\"          \"Utah\"          \n",
       "[45] \"Vermont\"        \"Virginia\"       \"Washington\"     \"West Virginia\" \n",
       "[49] \"Wisconsin\"      \"Wyoming\"       \n",
       "\n",
       "[[2]]\n",
       "[1] \"Murder\"   \"Assault\"  \"UrbanPop\" \"Rape\"    \n"
      ]
     },
     "metadata": {},
     "output_type": "display_data"
    }
   ],
   "source": [
    "#data in R\n",
    "#row == state\n",
    "#column == MURDER, ASSAULT, URBANPOP, RAPE\n",
    "dimnames(USArrests)"
   ]
  },
  {
   "cell_type": "code",
   "execution_count": 9,
   "metadata": {},
   "outputs": [
    {
     "data": {
      "text/html": [
       "<style>\n",
       ".dl-inline {width: auto; margin:0; padding: 0}\n",
       ".dl-inline>dt, .dl-inline>dd {float: none; width: auto; display: inline-block}\n",
       ".dl-inline>dt::after {content: \":\\0020\"; padding-right: .5ex}\n",
       ".dl-inline>dt:not(:first-of-type) {padding-left: .5ex}\n",
       "</style><dl class=dl-inline><dt>Murder</dt><dd>7.788</dd><dt>Assault</dt><dd>170.76</dd><dt>UrbanPop</dt><dd>65.54</dd><dt>Rape</dt><dd>21.232</dd></dl>\n"
      ],
      "text/latex": [
       "\\begin{description*}\n",
       "\\item[Murder] 7.788\n",
       "\\item[Assault] 170.76\n",
       "\\item[UrbanPop] 65.54\n",
       "\\item[Rape] 21.232\n",
       "\\end{description*}\n"
      ],
      "text/markdown": [
       "Murder\n",
       ":   7.788Assault\n",
       ":   170.76UrbanPop\n",
       ":   65.54Rape\n",
       ":   21.232\n",
       "\n"
      ],
      "text/plain": [
       "  Murder  Assault UrbanPop     Rape \n",
       "   7.788  170.760   65.540   21.232 "
      ]
     },
     "metadata": {},
     "output_type": "display_data"
    }
   ],
   "source": [
    "#2 indicates columns\n",
    "#1 indicates rows\n",
    "apply(USArrests, 2, mean)"
   ]
  },
  {
   "cell_type": "code",
   "execution_count": 6,
   "metadata": {},
   "outputs": [],
   "source": [
    "?apply"
   ]
  },
  {
   "cell_type": "code",
   "execution_count": 10,
   "metadata": {},
   "outputs": [
    {
     "data": {
      "text/html": [
       "<style>\n",
       ".dl-inline {width: auto; margin:0; padding: 0}\n",
       ".dl-inline>dt, .dl-inline>dd {float: none; width: auto; display: inline-block}\n",
       ".dl-inline>dt::after {content: \":\\0020\"; padding-right: .5ex}\n",
       ".dl-inline>dt:not(:first-of-type) {padding-left: .5ex}\n",
       "</style><dl class=dl-inline><dt>Murder</dt><dd>18.9704653061224</dd><dt>Assault</dt><dd>6945.16571428571</dd><dt>UrbanPop</dt><dd>209.518775510204</dd><dt>Rape</dt><dd>87.7291591836735</dd></dl>\n"
      ],
      "text/latex": [
       "\\begin{description*}\n",
       "\\item[Murder] 18.9704653061224\n",
       "\\item[Assault] 6945.16571428571\n",
       "\\item[UrbanPop] 209.518775510204\n",
       "\\item[Rape] 87.7291591836735\n",
       "\\end{description*}\n"
      ],
      "text/markdown": [
       "Murder\n",
       ":   18.9704653061224Assault\n",
       ":   6945.16571428571UrbanPop\n",
       ":   209.518775510204Rape\n",
       ":   87.7291591836735\n",
       "\n"
      ],
      "text/plain": [
       "    Murder    Assault   UrbanPop       Rape \n",
       "  18.97047 6945.16571  209.51878   87.72916 "
      ]
     },
     "metadata": {},
     "output_type": "display_data"
    }
   ],
   "source": [
    "apply(USArrests, 2, var)"
   ]
  },
  {
   "cell_type": "markdown",
   "metadata": {},
   "source": [
    "We see that 'Assault' has a much larger variance than the other variables. \n",
    "\n",
    "It would dominate the principal components, so we choose to standardize the variables when we perform PCA (b/c PCA makes principal components by linear combinations with most variance)\n",
    "\n",
    "So prcomp will actually do that for you, if you sit scale\n",
    "equals true."
   ]
  },
  {
   "cell_type": "markdown",
   "metadata": {},
   "source": [
    "The standard deviations are actually the standard\n",
    "deviations of the four principal components.\n",
    "There are four variables, so we can find four uncorrelated\n",
    "principal components.\n",
    "And the standard deviations are always decreasing.\n",
    "So you can see them, the largest 1.57,\n",
    "then it drops to 0.99.\n",
    "The smallest is 0.41.\n",
    "\n",
    "And then what's called the rotation are the loadings.\n",
    "So the first principal component is pretty much\n",
    "loaded equally on the three crimes.\n",
    "And it's got a lower loading on urban population.\n",
    "So it seems like the first principle component is just a\n",
    "measure of how much crime there is.\n",
    "It's just essentially an average of the three crimes.\n",
    "\n",
    "Now, notice the signs are all negative.\n",
    "Well, the principal components don't care about sign.\n",
    "Because the variance of a negative variable is the same\n",
    "as the if you multiply it by minus 1.\n",
    "The variance doesn't change.\n",
    "So we can easy just flip these signs, and we get the same\n",
    "principle component as the signs changed.\n",
    "\n",
    "And then you'll notice the second principal component is\n",
    "more heavily loaded on whether the state has a high urban\n",
    "population or not.\n",
    "So it seems like the first two principal components, one has\n",
    "to do with the total amount of crime, and the other's to do\n",
    "with the urban population."
   ]
  },
  {
   "cell_type": "code",
   "execution_count": 11,
   "metadata": {
    "scrolled": true
   },
   "outputs": [
    {
     "data": {
      "text/plain": [
       "Standard deviations (1, .., p=4):\n",
       "[1] 1.5748783 0.9948694 0.5971291 0.4164494\n",
       "\n",
       "Rotation (n x k) = (4 x 4):\n",
       "                PC1        PC2        PC3         PC4\n",
       "Murder   -0.5358995  0.4181809 -0.3412327  0.64922780\n",
       "Assault  -0.5831836  0.1879856 -0.2681484 -0.74340748\n",
       "UrbanPop -0.2781909 -0.8728062 -0.3780158  0.13387773\n",
       "Rape     -0.5434321 -0.1673186  0.8177779  0.08902432"
      ]
     },
     "metadata": {},
     "output_type": "display_data"
    }
   ],
   "source": [
    "pca.out<-prcomp(USArrests,scale=TRUE)\n",
    "pca.out"
   ]
  },
  {
   "cell_type": "code",
   "execution_count": 12,
   "metadata": {
    "scrolled": true
   },
   "outputs": [
    {
     "data": {
      "text/html": [
       "<style>\n",
       ".list-inline {list-style: none; margin:0; padding: 0}\n",
       ".list-inline>li {display: inline-block}\n",
       ".list-inline>li:not(:last-child)::after {content: \"\\00b7\"; padding: 0 .5ex}\n",
       "</style>\n",
       "<ol class=list-inline><li>'sdev'</li><li>'rotation'</li><li>'center'</li><li>'scale'</li><li>'x'</li></ol>\n"
      ],
      "text/latex": [
       "\\begin{enumerate*}\n",
       "\\item 'sdev'\n",
       "\\item 'rotation'\n",
       "\\item 'center'\n",
       "\\item 'scale'\n",
       "\\item 'x'\n",
       "\\end{enumerate*}\n"
      ],
      "text/markdown": [
       "1. 'sdev'\n",
       "2. 'rotation'\n",
       "3. 'center'\n",
       "4. 'scale'\n",
       "5. 'x'\n",
       "\n",
       "\n"
      ],
      "text/plain": [
       "[1] \"sdev\"     \"rotation\" \"center\"   \"scale\"    \"x\"       "
      ]
     },
     "metadata": {},
     "output_type": "display_data"
    }
   ],
   "source": [
    "names(pca.out)"
   ]
  },
  {
   "cell_type": "markdown",
   "metadata": {},
   "source": [
    "### Biplot\n",
    "\n",
    "The word \"bi\" meaning both the loadings and the principal\n",
    "component scores are put in one plot."
   ]
  },
  {
   "cell_type": "markdown",
   "metadata": {},
   "source": [
    "So it's made a plot of the first two principal\n",
    "components.\n",
    "\n",
    "And so since the observations are the states, we see a\n",
    "position for each of the states in this plot, where the\n",
    "actual name of the state is written out.\n",
    "And then in red, we see, superimposed on this plot, the\n",
    "directions of the loadings for the principal components\n",
    "themselves, the direction vectors.\n",
    "\n",
    "And so here we see that this first access is largely due to\n",
    "the three types of crime--\n",
    "murder, assault, and rape. So remember, the component was negative.\n",
    "It had negative loadings.\n",
    "And so negative scores mean negative\n",
    "times negative is positive.\n",
    "So these are the states in this end that have got overall\n",
    "high crime.\n",
    "So we see Florida over there.\n",
    "Nevada, California, Michigan, New Mexico.\n",
    "And in the other end of the scale are the states with low\n",
    "total crime.\n",
    "So Maine, North Dakota, New Hampshire.\n",
    "So this first axis is really to do with amount of\n",
    "crime in the state.\n",
    "\n",
    "And then the second axis we saw the loading was mostly\n",
    "urban population.\n",
    "And so this axis is really about whether the state has\n",
    "got a large urban population or not.\n",
    "And that also had a negative loading.\n",
    "So New Jersey has got a high urban population.\n",
    "Arkansas is on the lower side.\n",
    "Mississippi, North Carolina, much lower."
   ]
  },
  {
   "cell_type": "code",
   "execution_count": 18,
   "metadata": {},
   "outputs": [
    {
     "data": {
      "image/png": "[encoded data removed]",
      "text/plain": [
       "plot without title"
      ]
     },
     "metadata": {
      "image/png": {
       "height": 420,
       "width": 420
      },
      "text/plain": {
       "height": 420,
       "width": 420
      }
     },
     "output_type": "display_data"
    }
   ],
   "source": [
    "#cex changes font size\n",
    "biplot(pca.out, scale=0, cex=.6)"
   ]
  }
 ],
 "metadata": {
  "kernelspec": {
   "display_name": "R",
   "language": "R",
   "name": "ir"
  },
  "language_info": {
   "codemirror_mode": "r",
   "file_extension": ".r",
   "mimetype": "text/x-r-source",
   "name": "R",
   "pygments_lexer": "r",
   "version": "3.6.2"
  }
 },
 "nbformat": 4,
 "nbformat_minor": 2
}
